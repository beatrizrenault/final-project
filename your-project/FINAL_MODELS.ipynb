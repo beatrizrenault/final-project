{
 "cells": [
  {
   "cell_type": "code",
   "execution_count": 1,
   "metadata": {},
   "outputs": [],
   "source": [
    "import pandas as pd\n",
    "import numpy as np\n",
    "import seaborn as sns"
   ]
  },
  {
   "cell_type": "code",
   "execution_count": 2,
   "metadata": {},
   "outputs": [],
   "source": [
    "df = pd.read_csv('final.csv')"
   ]
  },
  {
   "cell_type": "code",
   "execution_count": 3,
   "metadata": {},
   "outputs": [],
   "source": [
    "#todo check correlation after dtype categorical data. do the step by step."
   ]
  },
  {
   "cell_type": "markdown",
   "metadata": {},
   "source": [
    "## reorganize the columns and keep the useful ones"
   ]
  },
  {
   "cell_type": "code",
   "execution_count": 4,
   "metadata": {},
   "outputs": [
    {
     "data": {
      "text/plain": [
       "['Barragem_Nome',\n",
       " 'Barragem_Altura_AcimaNivelTerreno',\n",
       " 'Barragem_Capacidade',\n",
       " 'Barragem_Principal_Tipo_material',\n",
       " 'Barragem_Principal_comprimento',\n",
       " 'Uso_principal',\n",
       " 'Barragem_Categoria_Risco',\n",
       " 'Barragem_Dano_Potencial_Associado',\n",
       " 'TemPAE',\n",
       " 'TemPlanoSeguranca',\n",
       " 'TemRevisaoPeriodica',\n",
       " 'CriterioVazaoProjeto_OrgaoExtravasor',\n",
       " 'TemProjetoExecutivo',\n",
       " 'TemProjetoComo construido',\n",
       " 'TemProjetoBasico',\n",
       " 'TemProjetoConceitual',\n",
       " 'TemEclusa',\n",
       " 'Barragem_FasedeVida',\n",
       " 'ReguladaPNSB',\n",
       " 'Barragem Pública ou particular',\n",
       " 'Submetida à algum regulamento?',\n",
       " 'material_score',\n",
       " 'risco_score',\n",
       " 'DPA_score',\n",
       " 'temPAE_score',\n",
       " 'temPS_score',\n",
       " 'maintenance_score',\n",
       " 'vazao_score',\n",
       " 'doc_score',\n",
       " 'Eclusa_score']"
      ]
     },
     "execution_count": 4,
     "metadata": {},
     "output_type": "execute_result"
    }
   ],
   "source": [
    "cols = list(df.columns.values)\n",
    "cols"
   ]
  },
  {
   "cell_type": "code",
   "execution_count": 5,
   "metadata": {},
   "outputs": [],
   "source": [
    "df.drop(columns=['Barragem_Nome','Barragem_Principal_Tipo_material','Uso_principal',\n",
    " 'Barragem_Categoria_Risco',\n",
    " 'Barragem_Dano_Potencial_Associado',\n",
    " 'TemPAE',\n",
    " 'TemPlanoSeguranca',\n",
    " 'TemRevisaoPeriodica',\n",
    " 'CriterioVazaoProjeto_OrgaoExtravasor',\n",
    " 'TemProjetoExecutivo',\n",
    " 'TemProjetoComo construido',\n",
    " 'TemProjetoBasico',\n",
    " 'TemProjetoConceitual',\n",
    " 'TemEclusa'], inplace=True)"
   ]
  },
  {
   "cell_type": "code",
   "execution_count": 6,
   "metadata": {},
   "outputs": [],
   "source": [
    "df.drop(columns=['ReguladaPNSB',\n",
    " 'Barragem Pública ou particular',\n",
    " 'Submetida à algum regulamento?'], inplace = True)"
   ]
  },
  {
   "cell_type": "code",
   "execution_count": 7,
   "metadata": {},
   "outputs": [],
   "source": [
    "df.drop(columns=['Barragem_FasedeVida'], inplace = True)"
   ]
  },
  {
   "cell_type": "markdown",
   "metadata": {},
   "source": [
    "## one-hot enconding "
   ]
  },
  {
   "cell_type": "code",
   "execution_count": 8,
   "metadata": {},
   "outputs": [],
   "source": [
    "from sklearn.preprocessing import LabelBinarizer"
   ]
  },
  {
   "cell_type": "code",
   "execution_count": 9,
   "metadata": {},
   "outputs": [
    {
     "data": {
      "text/plain": [
       "\"lb = LabelBinarizer()\\n\\nfit = lb.fit_transform(df['Barragem_FasedeVida'].values)\\ndfOneHot = pd.DataFrame(fit, columns = ['vida_'+str(int(i)) for i in range(fit.shape[1])])\\nfinal = pd.concat([df, dfOneHot], axis=1)\""
      ]
     },
     "execution_count": 9,
     "metadata": {},
     "output_type": "execute_result"
    }
   ],
   "source": [
    "'''lb = LabelBinarizer()\n",
    "\n",
    "fit = lb.fit_transform(df['Barragem_FasedeVida'].values)\n",
    "dfOneHot = pd.DataFrame(fit, columns = ['vida_'+str(int(i)) for i in range(fit.shape[1])])\n",
    "final = pd.concat([df, dfOneHot], axis=1)'''"
   ]
  },
  {
   "cell_type": "code",
   "execution_count": 10,
   "metadata": {},
   "outputs": [
    {
     "data": {
      "text/plain": [
       "\"#drop one-hot-econding features\\nfinal.drop(columns=['Barragem_FasedeVida'], inplace=True)\""
      ]
     },
     "execution_count": 10,
     "metadata": {},
     "output_type": "execute_result"
    }
   ],
   "source": [
    "'''#drop one-hot-econding features\n",
    "final.drop(columns=['Barragem_FasedeVida'], inplace=True)'''"
   ]
  },
  {
   "cell_type": "code",
   "execution_count": 11,
   "metadata": {},
   "outputs": [
    {
     "data": {
      "text/plain": [
       "Index(['Barragem_Altura_AcimaNivelTerreno', 'Barragem_Capacidade',\n",
       "       'Barragem_Principal_comprimento', 'material_score', 'risco_score',\n",
       "       'DPA_score', 'temPAE_score', 'temPS_score', 'maintenance_score',\n",
       "       'vazao_score', 'doc_score', 'Eclusa_score'],\n",
       "      dtype='object')"
      ]
     },
     "execution_count": 11,
     "metadata": {},
     "output_type": "execute_result"
    }
   ],
   "source": [
    "df.columns"
   ]
  },
  {
   "cell_type": "code",
   "execution_count": 12,
   "metadata": {},
   "outputs": [
    {
     "data": {
      "text/plain": [
       "Barragem_Altura_AcimaNivelTerreno    4482\n",
       "Barragem_Capacidade                  2449\n",
       "Barragem_Principal_comprimento       4550\n",
       "material_score                       2953\n",
       "risco_score                          4751\n",
       "DPA_score                            3260\n",
       "temPAE_score                         3411\n",
       "temPS_score                          3352\n",
       "maintenance_score                    4095\n",
       "vazao_score                             0\n",
       "doc_score                            5047\n",
       "Eclusa_score                          564\n",
       "dtype: int64"
      ]
     },
     "execution_count": 12,
     "metadata": {},
     "output_type": "execute_result"
    }
   ],
   "source": [
    "df.isnull().sum()"
   ]
  },
  {
   "cell_type": "code",
   "execution_count": 13,
   "metadata": {},
   "outputs": [],
   "source": [
    "ds = df.dropna()"
   ]
  },
  {
   "cell_type": "code",
   "execution_count": 14,
   "metadata": {},
   "outputs": [
    {
     "data": {
      "text/html": [
       "<div>\n",
       "<style scoped>\n",
       "    .dataframe tbody tr th:only-of-type {\n",
       "        vertical-align: middle;\n",
       "    }\n",
       "\n",
       "    .dataframe tbody tr th {\n",
       "        vertical-align: top;\n",
       "    }\n",
       "\n",
       "    .dataframe thead th {\n",
       "        text-align: right;\n",
       "    }\n",
       "</style>\n",
       "<table border=\"1\" class=\"dataframe\">\n",
       "  <thead>\n",
       "    <tr style=\"text-align: right;\">\n",
       "      <th></th>\n",
       "      <th>Barragem_Altura_AcimaNivelTerreno</th>\n",
       "      <th>Barragem_Capacidade</th>\n",
       "      <th>Barragem_Principal_comprimento</th>\n",
       "      <th>material_score</th>\n",
       "      <th>risco_score</th>\n",
       "      <th>DPA_score</th>\n",
       "      <th>temPAE_score</th>\n",
       "      <th>temPS_score</th>\n",
       "      <th>maintenance_score</th>\n",
       "      <th>vazao_score</th>\n",
       "      <th>doc_score</th>\n",
       "      <th>Eclusa_score</th>\n",
       "    </tr>\n",
       "  </thead>\n",
       "  <tbody>\n",
       "    <tr>\n",
       "      <th>239</th>\n",
       "      <td>29.00</td>\n",
       "      <td>18.790</td>\n",
       "      <td>296.84</td>\n",
       "      <td>3.0</td>\n",
       "      <td>50.0</td>\n",
       "      <td>21.0</td>\n",
       "      <td>5.0</td>\n",
       "      <td>5.0</td>\n",
       "      <td>5.0</td>\n",
       "      <td>10</td>\n",
       "      <td>4.0</td>\n",
       "      <td>0.0</td>\n",
       "    </tr>\n",
       "    <tr>\n",
       "      <th>240</th>\n",
       "      <td>33.50</td>\n",
       "      <td>245.376</td>\n",
       "      <td>1320.00</td>\n",
       "      <td>3.0</td>\n",
       "      <td>70.0</td>\n",
       "      <td>21.0</td>\n",
       "      <td>5.0</td>\n",
       "      <td>5.0</td>\n",
       "      <td>5.0</td>\n",
       "      <td>10</td>\n",
       "      <td>2.0</td>\n",
       "      <td>0.0</td>\n",
       "    </tr>\n",
       "    <tr>\n",
       "      <th>241</th>\n",
       "      <td>33.00</td>\n",
       "      <td>170.000</td>\n",
       "      <td>1760.00</td>\n",
       "      <td>3.0</td>\n",
       "      <td>50.0</td>\n",
       "      <td>21.0</td>\n",
       "      <td>5.0</td>\n",
       "      <td>5.0</td>\n",
       "      <td>5.0</td>\n",
       "      <td>3</td>\n",
       "      <td>2.0</td>\n",
       "      <td>0.0</td>\n",
       "    </tr>\n",
       "    <tr>\n",
       "      <th>242</th>\n",
       "      <td>41.00</td>\n",
       "      <td>339.390</td>\n",
       "      <td>520.00</td>\n",
       "      <td>3.0</td>\n",
       "      <td>0.0</td>\n",
       "      <td>21.0</td>\n",
       "      <td>5.0</td>\n",
       "      <td>5.0</td>\n",
       "      <td>5.0</td>\n",
       "      <td>3</td>\n",
       "      <td>8.0</td>\n",
       "      <td>0.0</td>\n",
       "    </tr>\n",
       "    <tr>\n",
       "      <th>243</th>\n",
       "      <td>23.33</td>\n",
       "      <td>48.608</td>\n",
       "      <td>1074.34</td>\n",
       "      <td>1.0</td>\n",
       "      <td>50.0</td>\n",
       "      <td>21.0</td>\n",
       "      <td>1.0</td>\n",
       "      <td>5.0</td>\n",
       "      <td>5.0</td>\n",
       "      <td>5</td>\n",
       "      <td>4.0</td>\n",
       "      <td>0.0</td>\n",
       "    </tr>\n",
       "    <tr>\n",
       "      <th>...</th>\n",
       "      <td>...</td>\n",
       "      <td>...</td>\n",
       "      <td>...</td>\n",
       "      <td>...</td>\n",
       "      <td>...</td>\n",
       "      <td>...</td>\n",
       "      <td>...</td>\n",
       "      <td>...</td>\n",
       "      <td>...</td>\n",
       "      <td>...</td>\n",
       "      <td>...</td>\n",
       "      <td>...</td>\n",
       "    </tr>\n",
       "    <tr>\n",
       "      <th>9811</th>\n",
       "      <td>27.00</td>\n",
       "      <td>3800.000</td>\n",
       "      <td>1030.00</td>\n",
       "      <td>3.0</td>\n",
       "      <td>30.0</td>\n",
       "      <td>21.0</td>\n",
       "      <td>1.0</td>\n",
       "      <td>1.0</td>\n",
       "      <td>5.0</td>\n",
       "      <td>3</td>\n",
       "      <td>2.0</td>\n",
       "      <td>0.0</td>\n",
       "    </tr>\n",
       "    <tr>\n",
       "      <th>9812</th>\n",
       "      <td>18.00</td>\n",
       "      <td>14.380</td>\n",
       "      <td>591.50</td>\n",
       "      <td>3.0</td>\n",
       "      <td>30.0</td>\n",
       "      <td>21.0</td>\n",
       "      <td>1.0</td>\n",
       "      <td>1.0</td>\n",
       "      <td>5.0</td>\n",
       "      <td>3</td>\n",
       "      <td>2.0</td>\n",
       "      <td>0.0</td>\n",
       "    </tr>\n",
       "    <tr>\n",
       "      <th>9813</th>\n",
       "      <td>14.00</td>\n",
       "      <td>14.380</td>\n",
       "      <td>531.50</td>\n",
       "      <td>3.0</td>\n",
       "      <td>30.0</td>\n",
       "      <td>14.0</td>\n",
       "      <td>1.0</td>\n",
       "      <td>1.0</td>\n",
       "      <td>5.0</td>\n",
       "      <td>3</td>\n",
       "      <td>2.0</td>\n",
       "      <td>0.0</td>\n",
       "    </tr>\n",
       "    <tr>\n",
       "      <th>9814</th>\n",
       "      <td>12.00</td>\n",
       "      <td>14.380</td>\n",
       "      <td>183.50</td>\n",
       "      <td>3.0</td>\n",
       "      <td>30.0</td>\n",
       "      <td>14.0</td>\n",
       "      <td>1.0</td>\n",
       "      <td>1.0</td>\n",
       "      <td>5.0</td>\n",
       "      <td>3</td>\n",
       "      <td>2.0</td>\n",
       "      <td>0.0</td>\n",
       "    </tr>\n",
       "    <tr>\n",
       "      <th>9815</th>\n",
       "      <td>22.00</td>\n",
       "      <td>2.360</td>\n",
       "      <td>103.00</td>\n",
       "      <td>3.0</td>\n",
       "      <td>30.0</td>\n",
       "      <td>21.0</td>\n",
       "      <td>1.0</td>\n",
       "      <td>1.0</td>\n",
       "      <td>5.0</td>\n",
       "      <td>5</td>\n",
       "      <td>2.0</td>\n",
       "      <td>0.0</td>\n",
       "    </tr>\n",
       "  </tbody>\n",
       "</table>\n",
       "<p>2804 rows × 12 columns</p>\n",
       "</div>"
      ],
      "text/plain": [
       "      Barragem_Altura_AcimaNivelTerreno  Barragem_Capacidade  \\\n",
       "239                               29.00               18.790   \n",
       "240                               33.50              245.376   \n",
       "241                               33.00              170.000   \n",
       "242                               41.00              339.390   \n",
       "243                               23.33               48.608   \n",
       "...                                 ...                  ...   \n",
       "9811                              27.00             3800.000   \n",
       "9812                              18.00               14.380   \n",
       "9813                              14.00               14.380   \n",
       "9814                              12.00               14.380   \n",
       "9815                              22.00                2.360   \n",
       "\n",
       "      Barragem_Principal_comprimento  material_score  risco_score  DPA_score  \\\n",
       "239                           296.84             3.0         50.0       21.0   \n",
       "240                          1320.00             3.0         70.0       21.0   \n",
       "241                          1760.00             3.0         50.0       21.0   \n",
       "242                           520.00             3.0          0.0       21.0   \n",
       "243                          1074.34             1.0         50.0       21.0   \n",
       "...                              ...             ...          ...        ...   \n",
       "9811                         1030.00             3.0         30.0       21.0   \n",
       "9812                          591.50             3.0         30.0       21.0   \n",
       "9813                          531.50             3.0         30.0       14.0   \n",
       "9814                          183.50             3.0         30.0       14.0   \n",
       "9815                          103.00             3.0         30.0       21.0   \n",
       "\n",
       "      temPAE_score  temPS_score  maintenance_score  vazao_score  doc_score  \\\n",
       "239            5.0          5.0                5.0           10        4.0   \n",
       "240            5.0          5.0                5.0           10        2.0   \n",
       "241            5.0          5.0                5.0            3        2.0   \n",
       "242            5.0          5.0                5.0            3        8.0   \n",
       "243            1.0          5.0                5.0            5        4.0   \n",
       "...            ...          ...                ...          ...        ...   \n",
       "9811           1.0          1.0                5.0            3        2.0   \n",
       "9812           1.0          1.0                5.0            3        2.0   \n",
       "9813           1.0          1.0                5.0            3        2.0   \n",
       "9814           1.0          1.0                5.0            3        2.0   \n",
       "9815           1.0          1.0                5.0            5        2.0   \n",
       "\n",
       "      Eclusa_score  \n",
       "239            0.0  \n",
       "240            0.0  \n",
       "241            0.0  \n",
       "242            0.0  \n",
       "243            0.0  \n",
       "...            ...  \n",
       "9811           0.0  \n",
       "9812           0.0  \n",
       "9813           0.0  \n",
       "9814           0.0  \n",
       "9815           0.0  \n",
       "\n",
       "[2804 rows x 12 columns]"
      ]
     },
     "execution_count": 14,
     "metadata": {},
     "output_type": "execute_result"
    }
   ],
   "source": [
    "ds"
   ]
  },
  {
   "cell_type": "markdown",
   "metadata": {},
   "source": [
    "## first test with decision tree, target = risk. "
   ]
  },
  {
   "cell_type": "code",
   "execution_count": 15,
   "metadata": {},
   "outputs": [],
   "source": [
    "# !!!!!!! scale numerical properly (other features). copy for loop from MVP. "
   ]
  },
  {
   "cell_type": "code",
   "execution_count": 16,
   "metadata": {},
   "outputs": [],
   "source": [
    "from sklearn.preprocessing import MinMaxScaler, StandardScaler"
   ]
  },
  {
   "cell_type": "code",
   "execution_count": 17,
   "metadata": {},
   "outputs": [
    {
     "name": "stderr",
     "output_type": "stream",
     "text": [
      "/Library/Frameworks/Python.framework/Versions/3.7/lib/python3.7/site-packages/ipykernel_launcher.py:6: SettingWithCopyWarning: \n",
      "A value is trying to be set on a copy of a slice from a DataFrame.\n",
      "Try using .loc[row_indexer,col_indexer] = value instead\n",
      "\n",
      "See the caveats in the documentation: http://pandas.pydata.org/pandas-docs/stable/user_guide/indexing.html#returning-a-view-versus-a-copy\n",
      "  \n"
     ]
    }
   ],
   "source": [
    "var1 = ['DPA_score'] #'risco_score' keep as classification\n",
    "\n",
    "scaler = MinMaxScaler(feature_range=(-2,2))\n",
    "\n",
    "for name in var1:\n",
    "    ds[name] = scaler.fit_transform(ds[name].values.reshape(-1, 1))"
   ]
  },
  {
   "cell_type": "code",
   "execution_count": 18,
   "metadata": {},
   "outputs": [
    {
     "name": "stderr",
     "output_type": "stream",
     "text": [
      "/Library/Frameworks/Python.framework/Versions/3.7/lib/python3.7/site-packages/ipykernel_launcher.py:7: SettingWithCopyWarning: \n",
      "A value is trying to be set on a copy of a slice from a DataFrame.\n",
      "Try using .loc[row_indexer,col_indexer] = value instead\n",
      "\n",
      "See the caveats in the documentation: http://pandas.pydata.org/pandas-docs/stable/user_guide/indexing.html#returning-a-view-versus-a-copy\n",
      "  import sys\n",
      "/Library/Frameworks/Python.framework/Versions/3.7/lib/python3.7/site-packages/ipykernel_launcher.py:7: SettingWithCopyWarning: \n",
      "A value is trying to be set on a copy of a slice from a DataFrame.\n",
      "Try using .loc[row_indexer,col_indexer] = value instead\n",
      "\n",
      "See the caveats in the documentation: http://pandas.pydata.org/pandas-docs/stable/user_guide/indexing.html#returning-a-view-versus-a-copy\n",
      "  import sys\n",
      "/Library/Frameworks/Python.framework/Versions/3.7/lib/python3.7/site-packages/ipykernel_launcher.py:7: SettingWithCopyWarning: \n",
      "A value is trying to be set on a copy of a slice from a DataFrame.\n",
      "Try using .loc[row_indexer,col_indexer] = value instead\n",
      "\n",
      "See the caveats in the documentation: http://pandas.pydata.org/pandas-docs/stable/user_guide/indexing.html#returning-a-view-versus-a-copy\n",
      "  import sys\n"
     ]
    }
   ],
   "source": [
    "var2 = ['Barragem_Altura_AcimaNivelTerreno', 'Barragem_Capacidade',\n",
    "       'Barragem_Principal_comprimento']\n",
    "\n",
    "scaler = MinMaxScaler(feature_range=(-2,2))\n",
    "\n",
    "for name in var2:\n",
    "    ds[name] = scaler.fit_transform(ds[name].values.reshape(-1, 1))\n",
    "    \n",
    "#dfOneHot = pd.DataFrame(fit, columns = [name+str(int(i)) for i in range(fit.shape[1])])\n",
    "#mvp = pd.concat([mvp, dfOneHot], axis=1)"
   ]
  },
  {
   "cell_type": "code",
   "execution_count": 19,
   "metadata": {},
   "outputs": [
    {
     "data": {
      "text/html": [
       "<div>\n",
       "<style scoped>\n",
       "    .dataframe tbody tr th:only-of-type {\n",
       "        vertical-align: middle;\n",
       "    }\n",
       "\n",
       "    .dataframe tbody tr th {\n",
       "        vertical-align: top;\n",
       "    }\n",
       "\n",
       "    .dataframe thead th {\n",
       "        text-align: right;\n",
       "    }\n",
       "</style>\n",
       "<table border=\"1\" class=\"dataframe\">\n",
       "  <thead>\n",
       "    <tr style=\"text-align: right;\">\n",
       "      <th></th>\n",
       "      <th>Barragem_Altura_AcimaNivelTerreno</th>\n",
       "      <th>Barragem_Capacidade</th>\n",
       "      <th>Barragem_Principal_comprimento</th>\n",
       "      <th>material_score</th>\n",
       "      <th>risco_score</th>\n",
       "      <th>DPA_score</th>\n",
       "      <th>temPAE_score</th>\n",
       "      <th>temPS_score</th>\n",
       "      <th>maintenance_score</th>\n",
       "      <th>vazao_score</th>\n",
       "      <th>doc_score</th>\n",
       "      <th>Eclusa_score</th>\n",
       "    </tr>\n",
       "  </thead>\n",
       "  <tbody>\n",
       "    <tr>\n",
       "      <th>239</th>\n",
       "      <td>-1.874081</td>\n",
       "      <td>-1.998680</td>\n",
       "      <td>-1.994220</td>\n",
       "      <td>3.0</td>\n",
       "      <td>50.0</td>\n",
       "      <td>2.0</td>\n",
       "      <td>5.0</td>\n",
       "      <td>5.0</td>\n",
       "      <td>5.0</td>\n",
       "      <td>10</td>\n",
       "      <td>4.0</td>\n",
       "      <td>0.0</td>\n",
       "    </tr>\n",
       "    <tr>\n",
       "      <th>240</th>\n",
       "      <td>-1.854338</td>\n",
       "      <td>-1.982766</td>\n",
       "      <td>-1.974228</td>\n",
       "      <td>3.0</td>\n",
       "      <td>70.0</td>\n",
       "      <td>2.0</td>\n",
       "      <td>5.0</td>\n",
       "      <td>5.0</td>\n",
       "      <td>5.0</td>\n",
       "      <td>10</td>\n",
       "      <td>2.0</td>\n",
       "      <td>0.0</td>\n",
       "    </tr>\n",
       "    <tr>\n",
       "      <th>241</th>\n",
       "      <td>-1.856532</td>\n",
       "      <td>-1.988060</td>\n",
       "      <td>-1.965631</td>\n",
       "      <td>3.0</td>\n",
       "      <td>50.0</td>\n",
       "      <td>2.0</td>\n",
       "      <td>5.0</td>\n",
       "      <td>5.0</td>\n",
       "      <td>5.0</td>\n",
       "      <td>3</td>\n",
       "      <td>2.0</td>\n",
       "      <td>0.0</td>\n",
       "    </tr>\n",
       "    <tr>\n",
       "      <th>242</th>\n",
       "      <td>-1.821432</td>\n",
       "      <td>-1.976162</td>\n",
       "      <td>-1.989859</td>\n",
       "      <td>3.0</td>\n",
       "      <td>0.0</td>\n",
       "      <td>2.0</td>\n",
       "      <td>5.0</td>\n",
       "      <td>5.0</td>\n",
       "      <td>5.0</td>\n",
       "      <td>3</td>\n",
       "      <td>8.0</td>\n",
       "      <td>0.0</td>\n",
       "    </tr>\n",
       "    <tr>\n",
       "      <th>243</th>\n",
       "      <td>-1.898958</td>\n",
       "      <td>-1.996586</td>\n",
       "      <td>-1.979028</td>\n",
       "      <td>1.0</td>\n",
       "      <td>50.0</td>\n",
       "      <td>2.0</td>\n",
       "      <td>1.0</td>\n",
       "      <td>5.0</td>\n",
       "      <td>5.0</td>\n",
       "      <td>5</td>\n",
       "      <td>4.0</td>\n",
       "      <td>0.0</td>\n",
       "    </tr>\n",
       "    <tr>\n",
       "      <th>...</th>\n",
       "      <td>...</td>\n",
       "      <td>...</td>\n",
       "      <td>...</td>\n",
       "      <td>...</td>\n",
       "      <td>...</td>\n",
       "      <td>...</td>\n",
       "      <td>...</td>\n",
       "      <td>...</td>\n",
       "      <td>...</td>\n",
       "      <td>...</td>\n",
       "      <td>...</td>\n",
       "      <td>...</td>\n",
       "    </tr>\n",
       "    <tr>\n",
       "      <th>9811</th>\n",
       "      <td>-1.882856</td>\n",
       "      <td>-1.733099</td>\n",
       "      <td>-1.979894</td>\n",
       "      <td>3.0</td>\n",
       "      <td>30.0</td>\n",
       "      <td>2.0</td>\n",
       "      <td>1.0</td>\n",
       "      <td>1.0</td>\n",
       "      <td>5.0</td>\n",
       "      <td>3</td>\n",
       "      <td>2.0</td>\n",
       "      <td>0.0</td>\n",
       "    </tr>\n",
       "    <tr>\n",
       "      <th>9812</th>\n",
       "      <td>-1.922343</td>\n",
       "      <td>-1.998990</td>\n",
       "      <td>-1.988462</td>\n",
       "      <td>3.0</td>\n",
       "      <td>30.0</td>\n",
       "      <td>2.0</td>\n",
       "      <td>1.0</td>\n",
       "      <td>1.0</td>\n",
       "      <td>5.0</td>\n",
       "      <td>3</td>\n",
       "      <td>2.0</td>\n",
       "      <td>0.0</td>\n",
       "    </tr>\n",
       "    <tr>\n",
       "      <th>9813</th>\n",
       "      <td>-1.939893</td>\n",
       "      <td>-1.998990</td>\n",
       "      <td>-1.989635</td>\n",
       "      <td>3.0</td>\n",
       "      <td>30.0</td>\n",
       "      <td>0.0</td>\n",
       "      <td>1.0</td>\n",
       "      <td>1.0</td>\n",
       "      <td>5.0</td>\n",
       "      <td>3</td>\n",
       "      <td>2.0</td>\n",
       "      <td>0.0</td>\n",
       "    </tr>\n",
       "    <tr>\n",
       "      <th>9814</th>\n",
       "      <td>-1.948667</td>\n",
       "      <td>-1.998990</td>\n",
       "      <td>-1.996434</td>\n",
       "      <td>3.0</td>\n",
       "      <td>30.0</td>\n",
       "      <td>0.0</td>\n",
       "      <td>1.0</td>\n",
       "      <td>1.0</td>\n",
       "      <td>5.0</td>\n",
       "      <td>3</td>\n",
       "      <td>2.0</td>\n",
       "      <td>0.0</td>\n",
       "    </tr>\n",
       "    <tr>\n",
       "      <th>9815</th>\n",
       "      <td>-1.904793</td>\n",
       "      <td>-1.999834</td>\n",
       "      <td>-1.998007</td>\n",
       "      <td>3.0</td>\n",
       "      <td>30.0</td>\n",
       "      <td>2.0</td>\n",
       "      <td>1.0</td>\n",
       "      <td>1.0</td>\n",
       "      <td>5.0</td>\n",
       "      <td>5</td>\n",
       "      <td>2.0</td>\n",
       "      <td>0.0</td>\n",
       "    </tr>\n",
       "  </tbody>\n",
       "</table>\n",
       "<p>2804 rows × 12 columns</p>\n",
       "</div>"
      ],
      "text/plain": [
       "      Barragem_Altura_AcimaNivelTerreno  Barragem_Capacidade  \\\n",
       "239                           -1.874081            -1.998680   \n",
       "240                           -1.854338            -1.982766   \n",
       "241                           -1.856532            -1.988060   \n",
       "242                           -1.821432            -1.976162   \n",
       "243                           -1.898958            -1.996586   \n",
       "...                                 ...                  ...   \n",
       "9811                          -1.882856            -1.733099   \n",
       "9812                          -1.922343            -1.998990   \n",
       "9813                          -1.939893            -1.998990   \n",
       "9814                          -1.948667            -1.998990   \n",
       "9815                          -1.904793            -1.999834   \n",
       "\n",
       "      Barragem_Principal_comprimento  material_score  risco_score  DPA_score  \\\n",
       "239                        -1.994220             3.0         50.0        2.0   \n",
       "240                        -1.974228             3.0         70.0        2.0   \n",
       "241                        -1.965631             3.0         50.0        2.0   \n",
       "242                        -1.989859             3.0          0.0        2.0   \n",
       "243                        -1.979028             1.0         50.0        2.0   \n",
       "...                              ...             ...          ...        ...   \n",
       "9811                       -1.979894             3.0         30.0        2.0   \n",
       "9812                       -1.988462             3.0         30.0        2.0   \n",
       "9813                       -1.989635             3.0         30.0        0.0   \n",
       "9814                       -1.996434             3.0         30.0        0.0   \n",
       "9815                       -1.998007             3.0         30.0        2.0   \n",
       "\n",
       "      temPAE_score  temPS_score  maintenance_score  vazao_score  doc_score  \\\n",
       "239            5.0          5.0                5.0           10        4.0   \n",
       "240            5.0          5.0                5.0           10        2.0   \n",
       "241            5.0          5.0                5.0            3        2.0   \n",
       "242            5.0          5.0                5.0            3        8.0   \n",
       "243            1.0          5.0                5.0            5        4.0   \n",
       "...            ...          ...                ...          ...        ...   \n",
       "9811           1.0          1.0                5.0            3        2.0   \n",
       "9812           1.0          1.0                5.0            3        2.0   \n",
       "9813           1.0          1.0                5.0            3        2.0   \n",
       "9814           1.0          1.0                5.0            3        2.0   \n",
       "9815           1.0          1.0                5.0            5        2.0   \n",
       "\n",
       "      Eclusa_score  \n",
       "239            0.0  \n",
       "240            0.0  \n",
       "241            0.0  \n",
       "242            0.0  \n",
       "243            0.0  \n",
       "...            ...  \n",
       "9811           0.0  \n",
       "9812           0.0  \n",
       "9813           0.0  \n",
       "9814           0.0  \n",
       "9815           0.0  \n",
       "\n",
       "[2804 rows x 12 columns]"
      ]
     },
     "execution_count": 19,
     "metadata": {},
     "output_type": "execute_result"
    }
   ],
   "source": [
    "ds"
   ]
  },
  {
   "cell_type": "code",
   "execution_count": 20,
   "metadata": {},
   "outputs": [
    {
     "data": {
      "text/plain": [
       "<matplotlib.axes._subplots.AxesSubplot at 0x112a4db10>"
      ]
     },
     "execution_count": 20,
     "metadata": {},
     "output_type": "execute_result"
    },
    {
     "data": {
      "image/png": "[encoded data removed]",
      "text/plain": [
       "<Figure size 432x288 with 2 Axes>"
      ]
     },
     "metadata": {
      "needs_background": "light"
     },
     "output_type": "display_data"
    }
   ],
   "source": [
    "sns.heatmap(ds.corr())"
   ]
  },
  {
   "cell_type": "code",
   "execution_count": 21,
   "metadata": {},
   "outputs": [],
   "source": [
    "y = ds['risco_score']\n",
    "X = ds.drop(['risco_score'], axis = 1)"
   ]
  },
  {
   "cell_type": "code",
   "execution_count": 22,
   "metadata": {},
   "outputs": [],
   "source": [
    "# divide train test\n",
    "from sklearn.model_selection import train_test_split\n",
    "X_train, X_test, y_train, y_test = train_test_split(X, y, test_size = 0.2, random_state=29)"
   ]
  },
  {
   "cell_type": "code",
   "execution_count": 23,
   "metadata": {},
   "outputs": [
    {
     "name": "stdout",
     "output_type": "stream",
     "text": [
      "Decision Tree Test Accuracy for risk 70.94%\n"
     ]
    }
   ],
   "source": [
    "#NaN issue here\n",
    "from sklearn.tree import DecisionTreeClassifier\n",
    "dtc = DecisionTreeClassifier()\n",
    "\n",
    "dtc.fit(X_train, y_train) #sample is random, but is not that. It starts for a different order everytime for decision tree.\n",
    "y_pred = dtc.predict(X_test) #this is to see the item or the dataset and predict. For example, check behaviour for outliers. \n",
    "acc = dtc.score(X_test, y_test)*100\n",
    "print(f\"Decision Tree Test Accuracy for risk {round(acc, 2)}%\")"
   ]
  },
  {
   "cell_type": "code",
   "execution_count": 24,
   "metadata": {},
   "outputs": [],
   "source": [
    "#redo everything following these steps:\n",
    "#https://towardsdatascience.com/machine-learning-on-categorical-variables-3b76ffe4a7cb\n",
    "#obs: how to fill nans:\n",
    "#test['LotFrontage'].fillna(train['LotFrontage'].mean(), inplace = True)"
   ]
  },
  {
   "cell_type": "code",
   "execution_count": null,
   "metadata": {},
   "outputs": [],
   "source": []
  }
 ],
 "metadata": {
  "kernelspec": {
   "display_name": "Python 3",
   "language": "python",
   "name": "python3"
  },
  "language_info": {
   "codemirror_mode": {
    "name": "ipython",
    "version": 3
   },
   "file_extension": ".py",
   "mimetype": "text/x-python",
   "name": "python",
   "nbconvert_exporter": "python",
   "pygments_lexer": "ipython3",
   "version": "3.7.4"
  }
 },
 "nbformat": 4,
 "nbformat_minor": 2
}
