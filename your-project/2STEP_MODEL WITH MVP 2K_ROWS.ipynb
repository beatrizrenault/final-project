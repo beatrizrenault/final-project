{
 "cells": [
  {
   "cell_type": "code",
   "execution_count": 1,
   "metadata": {},
   "outputs": [],
   "source": [
    "import pandas as pd\n",
    "import numpy as np\n",
    "import seaborn as sns"
   ]
  },
  {
   "cell_type": "code",
   "execution_count": 2,
   "metadata": {},
   "outputs": [],
   "source": [
    "df = pd.read_csv('mvp.csv')"
   ]
  },
  {
   "cell_type": "code",
   "execution_count": 3,
   "metadata": {},
   "outputs": [],
   "source": [
    "#todo check correlation after dtype categorical data. do the step by step."
   ]
  },
  {
   "cell_type": "markdown",
   "metadata": {},
   "source": [
    "## reorganize the columns and keep the useful ones"
   ]
  },
  {
   "cell_type": "code",
   "execution_count": 4,
   "metadata": {},
   "outputs": [
    {
     "data": {
      "text/plain": [
       "['Barragem_Nome',\n",
       " 'Barragem_Altura_AcimaNivelTerreno',\n",
       " 'Barragem_Capacidade',\n",
       " 'Barragem_Principal_Tipo_material',\n",
       " 'Barragem_Principal_comprimento',\n",
       " 'Uso_principal',\n",
       " 'Barragem_UF',\n",
       " 'Barragem_Municipio',\n",
       " 'Barragem_Categoria_Risco',\n",
       " 'Barragem_Dano_Potencial_Associado',\n",
       " 'TemPAE',\n",
       " 'TemPlanoSeguranca',\n",
       " 'TemRevisaoPeriodica',\n",
       " 'TemProjetoExecutivo',\n",
       " 'TemProjetoComo construido',\n",
       " 'TemProjetoBasico',\n",
       " 'TemProjetoConceitual',\n",
       " 'TemEclusa',\n",
       " 'Barragem_FasedeVida',\n",
       " 'ReguladaPNSB',\n",
       " 'Submetida à algum regulamento?',\n",
       " 'Houve alguma fiscalização no período deste RSB?']"
      ]
     },
     "execution_count": 4,
     "metadata": {},
     "output_type": "execute_result"
    }
   ],
   "source": [
    "cols = list(df.columns.values)\n",
    "cols"
   ]
  },
  {
   "cell_type": "code",
   "execution_count": 5,
   "metadata": {},
   "outputs": [],
   "source": [
    "mvp = df[[\n",
    " 'Barragem_Altura_AcimaNivelTerreno',\n",
    " 'Barragem_Capacidade','Barragem_Principal_comprimento',\n",
    " 'Barragem_Principal_Tipo_material','Uso_principal',\n",
    " 'TemPAE',\n",
    " 'TemPlanoSeguranca',\n",
    " 'TemRevisaoPeriodica',\n",
    " 'TemProjetoExecutivo',\n",
    " 'TemProjetoComo construido',\n",
    " 'TemProjetoBasico',\n",
    " 'TemProjetoConceitual',\n",
    " 'TemEclusa',\n",
    " 'Barragem_FasedeVida','Barragem_Categoria_Risco',\n",
    " 'Barragem_Dano_Potencial_Associado']]"
   ]
  },
  {
   "cell_type": "markdown",
   "metadata": {},
   "source": [
    "## one-hot enconding "
   ]
  },
  {
   "cell_type": "code",
   "execution_count": 6,
   "metadata": {},
   "outputs": [],
   "source": [
    "from sklearn.preprocessing import LabelBinarizer"
   ]
  },
  {
   "cell_type": "code",
   "execution_count": 7,
   "metadata": {},
   "outputs": [
    {
     "name": "stdout",
     "output_type": "stream",
     "text": [
      "Barragem_Principal_Tipo_material ['terra' 'concreto convencional' 'concreto compactado a rolo  (ccr)'\n",
      " 'alvenaria' 'terra-enrocamento' 'enrocamento' 'outro'\n",
      " 'concreto ciclópico' 'rejeito']\n",
      "Uso_principal ['irrigação' 'abastecimento humano' 'regularização de vazão' 'aquicultura'\n",
      " 'dessedentação animal' 'recreação' 'outros' 'sem informação' 'industrial'\n",
      " 'contenção de resíduos industriais' 'defesa contra inundações'\n",
      " 'proteção do meio ambiente' 'combate às secas'\n",
      " 'contenção de rejeitos de mineração' 'hidrelétrica']\n",
      "TemPAE ['não' 'sim' 'não se aplica']\n",
      "TemPlanoSeguranca ['não' 'sim' 'não se aplica']\n",
      "TemRevisaoPeriodica ['não' 'sim' 'não se aplica']\n",
      "TemProjetoExecutivo ['não' 'sim']\n",
      "TemProjetoComo construido ['não' 'sim']\n",
      "TemProjetoBasico ['sim' 'não']\n",
      "TemProjetoConceitual ['não' 'sim']\n",
      "TemEclusa ['não' 'sim']\n",
      "Barragem_FasedeVida ['operação' 'construção' 'projeto' 'inativa' 'sem informação'\n",
      " 'descomissionamento']\n",
      "Barragem_Categoria_Risco ['médio' 'alto' 'não se aplica' 'baixo']\n",
      "Barragem_Dano_Potencial_Associado ['alto' 'médio' 'baixo']\n"
     ]
    }
   ],
   "source": [
    "#last two columns are two different types of target.\n",
    "columns = [\n",
    " 'Barragem_Principal_Tipo_material','Uso_principal',\n",
    " 'TemPAE',\n",
    " 'TemPlanoSeguranca',\n",
    " 'TemRevisaoPeriodica',\n",
    "    \n",
    " 'TemProjetoExecutivo',\n",
    " 'TemProjetoComo construido',\n",
    " 'TemProjetoBasico',\n",
    " 'TemProjetoConceitual',\n",
    " 'TemEclusa',\n",
    "    \n",
    " 'Barragem_FasedeVida','Barragem_Categoria_Risco',\n",
    " 'Barragem_Dano_Potencial_Associado']\n",
    "for name in columns:\n",
    "    print(name, mvp[name].unique())"
   ]
  },
  {
   "cell_type": "code",
   "execution_count": 8,
   "metadata": {},
   "outputs": [],
   "source": [
    "#one-hot-enconding, features with more than 2 options\n",
    "var3 = [\n",
    " 'Barragem_Principal_Tipo_material','Uso_principal',\n",
    " 'TemPAE',\n",
    " 'TemPlanoSeguranca',\n",
    " 'TemRevisaoPeriodica',\n",
    " 'Barragem_FasedeVida']\n",
    "\n",
    "lb = LabelBinarizer()\n",
    "\n",
    "for name in var3:\n",
    "    fit = lb.fit_transform(mvp[name].values)\n",
    "    dfOneHot = pd.DataFrame(fit, columns = [name+str(int(i)) for i in range(fit.shape[1])])\n",
    "    mvp = pd.concat([mvp, dfOneHot], axis=1)"
   ]
  },
  {
   "cell_type": "code",
   "execution_count": 9,
   "metadata": {},
   "outputs": [],
   "source": [
    "#one-hot-enconding, features with only 2 options (y/n).\n",
    "#ended up that I used the same method.\n",
    "var2 = [\n",
    " 'TemProjetoExecutivo',\n",
    " 'TemProjetoComo construido',\n",
    " 'TemProjetoBasico',\n",
    " 'TemProjetoConceitual',\n",
    " 'TemEclusa']\n",
    "\n",
    "lb = LabelBinarizer()\n",
    "\n",
    "for name in var2:\n",
    "    fit = lb.fit_transform(mvp[name].values)\n",
    "    dfOneHot = pd.DataFrame(fit, columns = [name+str(int(i)) for i in range(fit.shape[1])])\n",
    "    mvp = pd.concat([mvp, dfOneHot], axis=1)"
   ]
  },
  {
   "cell_type": "code",
   "execution_count": 10,
   "metadata": {},
   "outputs": [],
   "source": [
    "#drop one-hot-econding features\n",
    "mvp.drop(columns=[\n",
    " 'Barragem_Principal_Tipo_material','Uso_principal',\n",
    " 'TemPAE',\n",
    " 'TemPlanoSeguranca',\n",
    " 'TemRevisaoPeriodica',\n",
    " 'Barragem_FasedeVida', 'TemProjetoExecutivo',\n",
    " 'TemProjetoComo construido',\n",
    " 'TemProjetoBasico',\n",
    " 'TemProjetoConceitual',\n",
    " 'TemEclusa'], inplace=True)"
   ]
  },
  {
   "cell_type": "code",
   "execution_count": 11,
   "metadata": {},
   "outputs": [
    {
     "data": {
      "text/plain": [
       "Index(['Barragem_Altura_AcimaNivelTerreno', 'Barragem_Capacidade',\n",
       "       'Barragem_Principal_comprimento', 'Barragem_Categoria_Risco',\n",
       "       'Barragem_Dano_Potencial_Associado',\n",
       "       'Barragem_Principal_Tipo_material0',\n",
       "       'Barragem_Principal_Tipo_material1',\n",
       "       'Barragem_Principal_Tipo_material2',\n",
       "       'Barragem_Principal_Tipo_material3',\n",
       "       'Barragem_Principal_Tipo_material4',\n",
       "       'Barragem_Principal_Tipo_material5',\n",
       "       'Barragem_Principal_Tipo_material6',\n",
       "       'Barragem_Principal_Tipo_material7',\n",
       "       'Barragem_Principal_Tipo_material8', 'Uso_principal0', 'Uso_principal1',\n",
       "       'Uso_principal2', 'Uso_principal3', 'Uso_principal4', 'Uso_principal5',\n",
       "       'Uso_principal6', 'Uso_principal7', 'Uso_principal8', 'Uso_principal9',\n",
       "       'Uso_principal10', 'Uso_principal11', 'Uso_principal12',\n",
       "       'Uso_principal13', 'Uso_principal14', 'TemPAE0', 'TemPAE1', 'TemPAE2',\n",
       "       'TemPlanoSeguranca0', 'TemPlanoSeguranca1', 'TemPlanoSeguranca2',\n",
       "       'TemRevisaoPeriodica0', 'TemRevisaoPeriodica1', 'TemRevisaoPeriodica2',\n",
       "       'Barragem_FasedeVida0', 'Barragem_FasedeVida1', 'Barragem_FasedeVida2',\n",
       "       'Barragem_FasedeVida3', 'Barragem_FasedeVida4', 'Barragem_FasedeVida5',\n",
       "       'TemProjetoExecutivo0', 'TemProjetoComo construido0',\n",
       "       'TemProjetoBasico0', 'TemProjetoConceitual0', 'TemEclusa0'],\n",
       "      dtype='object')"
      ]
     },
     "execution_count": 11,
     "metadata": {},
     "output_type": "execute_result"
    }
   ],
   "source": [
    "mvp.columns"
   ]
  },
  {
   "cell_type": "markdown",
   "metadata": {},
   "source": [
    "## first test with decision tree, target = risk. "
   ]
  },
  {
   "cell_type": "code",
   "execution_count": 14,
   "metadata": {},
   "outputs": [],
   "source": [
    "from sklearn.preprocessing import MinMaxScaler, StandardScaler\n",
    "\n",
    "#'Barragem_Altura_AcimaNivelTerreno', 'Barragem_Capacidade', 'Barragem_Principal_comprimento'\n",
    "\n",
    "scaler = MinMaxScaler(feature_range=(-2,2))\n",
    "mvp['Barragem_Altura_AcimaNivelTerreno'] = scaler.fit_transform(mvp.Barragem_Altura_AcimaNivelTerreno.values.reshape(-1, 1))"
   ]
  },
  {
   "cell_type": "code",
   "execution_count": 15,
   "metadata": {},
   "outputs": [],
   "source": [
    "mvp['Barragem_Capacidade'] = scaler.fit_transform(mvp.Barragem_Altura_AcimaNivelTerreno.values.reshape(-1, 1))"
   ]
  },
  {
   "cell_type": "code",
   "execution_count": 16,
   "metadata": {},
   "outputs": [],
   "source": [
    "mvp['Barragem_Principal_comprimento'] = scaler.fit_transform(mvp.Barragem_Altura_AcimaNivelTerreno.values.reshape(-1, 1))"
   ]
  },
  {
   "cell_type": "code",
   "execution_count": 17,
   "metadata": {},
   "outputs": [],
   "source": [
    "y = mvp['Barragem_Categoria_Risco']\n",
    "X = mvp.drop(['Barragem_Categoria_Risco', 'Barragem_Dano_Potencial_Associado'], axis = 1)"
   ]
  },
  {
   "cell_type": "code",
   "execution_count": 18,
   "metadata": {},
   "outputs": [],
   "source": [
    "# divide train test\n",
    "from sklearn.model_selection import train_test_split\n",
    "X_train, X_test, y_train, y_test = train_test_split(X, y, test_size = 0.2, random_state=29)"
   ]
  },
  {
   "cell_type": "code",
   "execution_count": 19,
   "metadata": {},
   "outputs": [
    {
     "name": "stdout",
     "output_type": "stream",
     "text": [
      "Decision Tree Test Accuracy 71.75%\n"
     ]
    }
   ],
   "source": [
    "from sklearn.tree import DecisionTreeClassifier\n",
    "dtc = DecisionTreeClassifier()\n",
    "\n",
    "dtc.fit(X_train, y_train) #sample is random, but is not that. It starts for a different order everytime for decision tree.\n",
    "y_pred = dtc.predict(X_test) #this is to see the item or the dataset and predict. For example, check behaviour for outliers. \n",
    "acc = dtc.score(X_test, y_test)*100\n",
    "print(f\"Decision Tree Test Accuracy {round(acc, 2)}%\")"
   ]
  },
  {
   "cell_type": "code",
   "execution_count": 22,
   "metadata": {},
   "outputs": [
    {
     "data": {
      "text/plain": [
       "array(['alto', 'alto', 'baixo', 'baixo', 'alto', 'médio', 'baixo', 'alto',\n",
       "       'baixo', 'alto', 'baixo', 'não se aplica', 'alto', 'baixo', 'alto',\n",
       "       'baixo', 'médio', 'baixo', 'não se aplica', 'médio', 'alto',\n",
       "       'não se aplica', 'baixo', 'baixo', 'alto', 'baixo', 'baixo',\n",
       "       'baixo', 'baixo', 'alto', 'baixo', 'alto', 'baixo', 'baixo',\n",
       "       'baixo', 'baixo', 'não se aplica', 'alto', 'baixo', 'baixo',\n",
       "       'médio', 'baixo', 'alto', 'médio', 'baixo', 'alto', 'baixo',\n",
       "       'alto', 'baixo', 'baixo', 'médio', 'baixo', 'baixo', 'baixo',\n",
       "       'baixo', 'baixo', 'alto', 'médio', 'baixo', 'alto',\n",
       "       'não se aplica', 'médio', 'médio', 'baixo', 'não se aplica',\n",
       "       'alto', 'baixo', 'baixo', 'baixo', 'alto', 'não se aplica',\n",
       "       'baixo', 'alto', 'baixo', 'alto', 'alto', 'alto', 'baixo', 'baixo',\n",
       "       'baixo', 'baixo', 'baixo', 'alto', 'alto', 'baixo', 'alto',\n",
       "       'não se aplica', 'baixo', 'alto', 'baixo', 'baixo', 'baixo',\n",
       "       'médio', 'alto', 'alto', 'baixo', 'baixo', 'médio', 'baixo',\n",
       "       'não se aplica', 'baixo', 'baixo', 'baixo', 'baixo', 'alto',\n",
       "       'médio', 'alto', 'médio', 'não se aplica', 'não se aplica',\n",
       "       'baixo', 'baixo', 'baixo', 'alto', 'médio', 'não se aplica',\n",
       "       'baixo', 'baixo', 'médio', 'baixo', 'não se aplica', 'baixo',\n",
       "       'baixo', 'baixo', 'baixo', 'médio', 'médio', 'alto', 'alto',\n",
       "       'alto', 'não se aplica', 'baixo', 'alto', 'médio', 'não se aplica',\n",
       "       'baixo', 'médio', 'alto', 'médio', 'baixo', 'baixo',\n",
       "       'não se aplica', 'baixo', 'médio', 'não se aplica',\n",
       "       'não se aplica', 'baixo', 'alto', 'não se aplica', 'alto', 'baixo',\n",
       "       'alto', 'alto', 'médio', 'baixo', 'médio', 'baixo', 'baixo',\n",
       "       'alto', 'alto', 'médio', 'baixo', 'alto', 'baixo', 'médio', 'alto',\n",
       "       'baixo', 'alto', 'baixo', 'alto', 'alto', 'médio', 'baixo',\n",
       "       'baixo', 'alto', 'baixo', 'médio', 'baixo', 'médio', 'baixo',\n",
       "       'baixo', 'médio', 'alto', 'alto', 'não se aplica', 'alto', 'médio',\n",
       "       'não se aplica', 'médio', 'médio', 'baixo', 'baixo', 'baixo',\n",
       "       'médio', 'baixo', 'não se aplica', 'alto', 'não se aplica',\n",
       "       'médio', 'alto', 'baixo', 'alto', 'baixo', 'médio',\n",
       "       'não se aplica', 'alto', 'não se aplica', 'baixo', 'baixo', 'alto',\n",
       "       'baixo', 'alto', 'baixo', 'alto', 'baixo', 'baixo', 'médio',\n",
       "       'baixo', 'baixo', 'médio', 'não se aplica', 'alto', 'baixo',\n",
       "       'médio', 'baixo', 'baixo', 'baixo', 'baixo', 'alto', 'baixo',\n",
       "       'alto', 'baixo', 'baixo', 'alto', 'não se aplica', 'baixo',\n",
       "       'médio', 'baixo', 'baixo', 'alto', 'baixo', 'alto',\n",
       "       'não se aplica', 'baixo', 'médio', 'baixo', 'médio', 'médio',\n",
       "       'não se aplica', 'baixo', 'baixo', 'baixo', 'alto', 'baixo',\n",
       "       'médio', 'médio', 'alto', 'médio', 'baixo', 'baixo', 'baixo',\n",
       "       'alto', 'médio', 'baixo', 'baixo', 'médio', 'não se aplica',\n",
       "       'médio', 'baixo', 'não se aplica', 'baixo', 'baixo',\n",
       "       'não se aplica', 'médio', 'médio', 'alto', 'alto', 'baixo',\n",
       "       'baixo', 'alto', 'médio', 'alto', 'médio', 'baixo', 'alto',\n",
       "       'médio', 'baixo', 'médio', 'alto', 'médio', 'não se aplica',\n",
       "       'médio', 'médio', 'alto', 'médio', 'alto', 'médio', 'baixo',\n",
       "       'não se aplica', 'baixo', 'baixo', 'não se aplica', 'baixo',\n",
       "       'não se aplica', 'baixo', 'baixo', 'baixo', 'médio', 'baixo',\n",
       "       'não se aplica', 'alto', 'baixo', 'alto', 'baixo', 'médio',\n",
       "       'médio', 'baixo', 'alto', 'baixo', 'não se aplica', 'baixo',\n",
       "       'baixo', 'baixo', 'baixo', 'baixo', 'médio', 'alto', 'baixo',\n",
       "       'não se aplica', 'médio', 'baixo', 'baixo', 'baixo', 'médio',\n",
       "       'baixo', 'médio', 'baixo', 'baixo', 'alto', 'baixo', 'alto',\n",
       "       'baixo', 'alto', 'baixo', 'alto', 'alto', 'baixo', 'baixo',\n",
       "       'baixo', 'médio', 'baixo', 'médio', 'baixo', 'médio', 'baixo',\n",
       "       'baixo', 'baixo', 'baixo', 'baixo', 'baixo', 'não se aplica',\n",
       "       'baixo', 'médio', 'baixo', 'médio', 'baixo', 'médio', 'médio',\n",
       "       'não se aplica', 'baixo', 'médio', 'alto', 'médio', 'baixo',\n",
       "       'baixo', 'alto', 'médio', 'alto', 'médio', 'médio', 'médio',\n",
       "       'não se aplica', 'alto', 'baixo', 'médio', 'baixo', 'baixo',\n",
       "       'não se aplica', 'baixo', 'não se aplica', 'não se aplica', 'alto',\n",
       "       'baixo', 'baixo', 'médio', 'alto', 'baixo', 'médio', 'médio',\n",
       "       'médio', 'médio', 'médio', 'médio', 'baixo', 'baixo', 'médio',\n",
       "       'não se aplica', 'baixo', 'médio', 'alto', 'baixo',\n",
       "       'não se aplica', 'baixo', 'médio', 'alto', 'não se aplica',\n",
       "       'baixo', 'médio', 'baixo', 'não se aplica', 'baixo', 'médio',\n",
       "       'baixo', 'não se aplica', 'baixo', 'alto', 'baixo', 'alto',\n",
       "       'baixo', 'baixo', 'alto', 'baixo', 'baixo', 'baixo', 'baixo',\n",
       "       'baixo', 'médio', 'baixo', 'baixo', 'baixo', 'baixo', 'alto',\n",
       "       'alto', 'baixo', 'alto', 'não se aplica', 'baixo', 'baixo',\n",
       "       'não se aplica', 'baixo', 'baixo', 'baixo', 'baixo',\n",
       "       'não se aplica', 'alto', 'alto', 'baixo', 'alto', 'alto', 'médio',\n",
       "       'médio', 'médio', 'alto', 'baixo', 'médio', 'baixo',\n",
       "       'não se aplica', 'baixo', 'baixo', 'baixo', 'médio', 'baixo',\n",
       "       'baixo', 'baixo', 'baixo', 'médio', 'alto', 'médio', 'alto',\n",
       "       'alto', 'alto', 'baixo', 'baixo', 'alto', 'baixo', 'baixo',\n",
       "       'não se aplica', 'baixo', 'alto', 'baixo', 'baixo', 'alto',\n",
       "       'médio', 'não se aplica', 'baixo', 'baixo', 'médio', 'médio',\n",
       "       'não se aplica', 'alto', 'médio', 'baixo', 'baixo', 'médio',\n",
       "       'médio', 'baixo', 'médio', 'médio', 'não se aplica', 'alto',\n",
       "       'alto', 'baixo', 'baixo', 'baixo', 'baixo', 'médio', 'baixo',\n",
       "       'baixo', 'alto', 'baixo', 'alto', 'baixo', 'alto', 'baixo',\n",
       "       'baixo', 'baixo', 'baixo', 'médio', 'alto', 'não se aplica',\n",
       "       'alto'], dtype=object)"
      ]
     },
     "execution_count": 22,
     "metadata": {},
     "output_type": "execute_result"
    }
   ],
   "source": [
    "y_pred"
   ]
  },
  {
   "cell_type": "code",
   "execution_count": null,
   "metadata": {},
   "outputs": [],
   "source": [
    "#redo everything following these steps:\n",
    "#https://towardsdatascience.com/machine-learning-on-categorical-variables-3b76ffe4a7cb\n",
    "#obs: how to fill nans:\n",
    "#test['LotFrontage'].fillna(train['LotFrontage'].mean(), inplace = True)"
   ]
  }
 ],
 "metadata": {
  "kernelspec": {
   "display_name": "Python 3",
   "language": "python",
   "name": "python3"
  },
  "language_info": {
   "codemirror_mode": {
    "name": "ipython",
    "version": 3
   },
   "file_extension": ".py",
   "mimetype": "text/x-python",
   "name": "python",
   "nbconvert_exporter": "python",
   "pygments_lexer": "ipython3",
   "version": "3.7.4"
  }
 },
 "nbformat": 4,
 "nbformat_minor": 2
}
