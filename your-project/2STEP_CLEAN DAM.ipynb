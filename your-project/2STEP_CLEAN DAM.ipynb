{
 "cells": [
  {
   "cell_type": "markdown",
   "metadata": {},
   "source": [
    "## Drop collumns and fill NaNs"
   ]
  },
  {
   "cell_type": "code",
   "execution_count": 45,
   "metadata": {},
   "outputs": [],
   "source": [
    "import pandas as pd\n",
    "import numpy as np\n",
    "import seaborn as sns"
   ]
  },
  {
   "cell_type": "code",
   "execution_count": 27,
   "metadata": {},
   "outputs": [],
   "source": [
    "# TODO one hot encoding\n",
    "#pre classification, with less features?"
   ]
  },
  {
   "cell_type": "code",
   "execution_count": 28,
   "metadata": {},
   "outputs": [
    {
     "data": {
      "text/plain": [
       "'\\n22 de junho de 2001 | Barragem rejeitos de minério em São Sebastião das Águas  Claras, município de Nova Lima (MG) . Mortos: 5 17 de junho de 2004 | Barragem de Camará, em Alagoa Nova (PB). | Mortos: 5 27 de maio de 2009  | Barragem hídrica de Algodões, nos municípios de Cocal e Buriti dos Lopes (PI). Mortos: 24 (9 no momento e 15 em decorrência) 5 de março de 2014 | Barragem de terra de uma fazenda no município de Uruana (GO) | Mortos: 2 29 de março de 2014 |Barreira provisória da hidrelétrica de Santo Antônio, em Laranjal do Jari (AP) | Mortos: 4 10 de setembro de 2014 | Barragem de rejeito uma mina em Itabirito (MG) | Mortos: 3 5 de novembro de 2015 | Barragem de rejeitos Fundão... - Veja mais em https://noticias.uol.com.br/cotidiano/ultimas-noticias/2019/02/03/brasil-registrou-65-mortes-em-9-incidentes-com-barragens-entre-2001-e-2018.htm?cmpid=copiaecola\\n'"
      ]
     },
     "execution_count": 28,
     "metadata": {},
     "output_type": "execute_result"
    }
   ],
   "source": [
    "'''\n",
    "22 de junho de 2001 | Barragem rejeitos de minério em São Sebastião das Águas  Claras, município de Nova Lima (MG) . Mortos: 5 17 de junho de 2004 | Barragem de Camará, em Alagoa Nova (PB). | Mortos: 5 27 de maio de 2009  | Barragem hídrica de Algodões, nos municípios de Cocal e Buriti dos Lopes (PI). Mortos: 24 (9 no momento e 15 em decorrência) 5 de março de 2014 | Barragem de terra de uma fazenda no município de Uruana (GO) | Mortos: 2 29 de março de 2014 |Barreira provisória da hidrelétrica de Santo Antônio, em Laranjal do Jari (AP) | Mortos: 4 10 de setembro de 2014 | Barragem de rejeito uma mina em Itabirito (MG) | Mortos: 3 5 de novembro de 2015 | Barragem de rejeitos Fundão... - Veja mais em https://noticias.uol.com.br/cotidiano/ultimas-noticias/2019/02/03/brasil-registrou-65-mortes-em-9-incidentes-com-barragens-entre-2001-e-2018.htm?cmpid=copiaecola\n",
    "'''"
   ]
  },
  {
   "cell_type": "code",
   "execution_count": 29,
   "metadata": {},
   "outputs": [],
   "source": [
    "df = pd.read_excel('SNISB 2018.xlsx', sheet_name='Cadastro')"
   ]
  },
  {
   "cell_type": "markdown",
   "metadata": {},
   "source": [
    "## drop columns"
   ]
  },
  {
   "cell_type": "code",
   "execution_count": 30,
   "metadata": {},
   "outputs": [
    {
     "data": {
      "text/plain": [
       "14957"
      ]
     },
     "execution_count": 30,
     "metadata": {},
     "output_type": "execute_result"
    }
   ],
   "source": [
    "df['Codigo_barragem_SNISB'].isnull().sum()"
   ]
  },
  {
   "cell_type": "code",
   "execution_count": 31,
   "metadata": {},
   "outputs": [],
   "source": [
    "df.drop(columns=['Codigo_barragem_Fiscalizador', 'Autorizacao_Numero',\n",
    "                 'CNARH_Numero', 'Barragem_NomeSecundario', 'Empreendedor_Nome',\n",
    "                 'Empreendedor_Sigla', 'Empreendedor_CNPJ',\n",
    "       'Empreendedor_CPF', 'Empreendedor_endereco', 'Empreendedor _e-mail',\n",
    "       'Empreendedor_telefone', 'Empreendedor_telefone alternativo',\n",
    "                 \n",
    "                 'Cursodagua_barrado', 'Bacia_Hidrografica', 'UnidadeGestaoRecursosHidricos',\n",
    "                 'Datum', 'Empreendedor Identificado?'], inplace=True)\n"
   ]
  },
  {
   "cell_type": "code",
   "execution_count": 32,
   "metadata": {},
   "outputs": [],
   "source": [
    "df.drop(columns=['Codigo_barragem_SNISB','Autorizacao_Data_emissao_publicacao',\n",
    "           'Autorizacao_Data_validade','Uso_Complementar','Regiao_Hidrografica_CNRH','Latitude_dec',\n",
    "           'Longitude_dec','Barragem_Municipio','Dominio_Curso_Dagua','DataUltimaInspecao','TipoUltimaInspecao',\n",
    "           'ComentariosObservacoes','Órgão fiscalizador','Barragem Pública ou particular','Barragem Outorgada?',\n",
    "           'Tem informação de altura?','Tem informação de volume?','Tem informação de altura e volume?',\n",
    "           'classificada quanto ao CRI?','classificada quanto ao DPA?','Houve alguma inspeção no período deste RSB?',\n",
    "           'Cadastrada no SNISB?','N','sequência'], inplace=True)"
   ]
  },
  {
   "cell_type": "code",
   "execution_count": 34,
   "metadata": {},
   "outputs": [],
   "source": [
    "#df['Construcao_Data_Inicio'].unique()\n",
    "\n",
    "#df['Construcao_Data_Inicio'] = pd.to_datetime(df['Construcao_Data_Inicio'], errors='coerce') "
   ]
  },
  {
   "cell_type": "code",
   "execution_count": 36,
   "metadata": {},
   "outputs": [
    {
     "data": {
      "text/plain": [
       "array([nan, datetime.datetime(2000, 1, 1, 0, 0),\n",
       "       datetime.datetime(1905, 5, 31, 0, 0),\n",
       "       datetime.datetime(1905, 4, 15, 0, 0), 2006, 2000, 2001, 1974, 2004,\n",
       "       1999, 1938, 1964, 1960, 1962, 1968, 1956, 1958, 1955, 1953, 1954,\n",
       "       1967, 1984, 2015, 2017, datetime.datetime(1995, 1, 1, 0, 0),\n",
       "       datetime.datetime(2003, 1, 2, 0, 0),\n",
       "       datetime.datetime(1995, 1, 2, 0, 0),\n",
       "       datetime.datetime(2005, 1, 2, 0, 0),\n",
       "       datetime.datetime(2006, 1, 2, 0, 0),\n",
       "       datetime.datetime(1999, 1, 1, 0, 0),\n",
       "       datetime.datetime(2013, 1, 3, 0, 0),\n",
       "       datetime.datetime(1998, 1, 1, 0, 0),\n",
       "       datetime.datetime(1991, 1, 2, 0, 0),\n",
       "       datetime.datetime(2011, 1, 2, 0, 0),\n",
       "       datetime.datetime(2007, 1, 1, 0, 0),\n",
       "       datetime.datetime(2008, 1, 1, 0, 0),\n",
       "       datetime.datetime(2014, 1, 1, 0, 0),\n",
       "       datetime.datetime(2015, 1, 2, 0, 0),\n",
       "       datetime.datetime(2000, 1, 2, 0, 0),\n",
       "       datetime.datetime(1996, 1, 2, 0, 0),\n",
       "       datetime.datetime(2010, 1, 1, 0, 0),\n",
       "       datetime.datetime(2014, 1, 2, 0, 0),\n",
       "       datetime.datetime(2013, 1, 2, 0, 0),\n",
       "       datetime.datetime(2004, 1, 2, 0, 0),\n",
       "       datetime.datetime(1905, 6, 24, 0, 0),\n",
       "       datetime.datetime(1905, 6, 25, 0, 0),\n",
       "       datetime.datetime(1905, 4, 4, 0, 0),\n",
       "       datetime.datetime(1905, 6, 16, 0, 0), 'sem informação',\n",
       "       datetime.datetime(1905, 7, 5, 0, 0),\n",
       "       datetime.datetime(1905, 6, 3, 0, 0),\n",
       "       datetime.datetime(1905, 7, 1, 0, 0),\n",
       "       datetime.datetime(1905, 6, 4, 0, 0),\n",
       "       datetime.datetime(1905, 5, 10, 0, 0),\n",
       "       datetime.datetime(1905, 6, 1, 0, 0),\n",
       "       datetime.datetime(1905, 6, 9, 0, 0),\n",
       "       datetime.datetime(1905, 6, 18, 0, 0),\n",
       "       datetime.datetime(1905, 5, 9, 0, 0),\n",
       "       datetime.datetime(1905, 6, 26, 0, 0),\n",
       "       datetime.datetime(1905, 5, 6, 0, 0),\n",
       "       datetime.datetime(1905, 5, 17, 0, 0),\n",
       "       datetime.datetime(1905, 6, 20, 0, 0),\n",
       "       datetime.datetime(1905, 5, 27, 0, 0),\n",
       "       datetime.datetime(1905, 3, 27, 0, 0),\n",
       "       datetime.datetime(1905, 5, 22, 0, 0),\n",
       "       datetime.datetime(1905, 5, 15, 0, 0),\n",
       "       datetime.datetime(1905, 5, 3, 0, 0),\n",
       "       datetime.datetime(1905, 5, 2, 0, 0),\n",
       "       datetime.datetime(1905, 4, 12, 0, 0),\n",
       "       datetime.datetime(1905, 6, 17, 0, 0),\n",
       "       datetime.datetime(1905, 4, 14, 0, 0),\n",
       "       datetime.datetime(1905, 6, 12, 0, 0),\n",
       "       datetime.datetime(1905, 5, 30, 0, 0),\n",
       "       datetime.datetime(1905, 6, 22, 0, 0),\n",
       "       datetime.datetime(1905, 5, 7, 0, 0),\n",
       "       datetime.datetime(1905, 5, 28, 0, 0),\n",
       "       datetime.datetime(1905, 5, 12, 0, 0),\n",
       "       datetime.datetime(1905, 6, 23, 0, 0),\n",
       "       datetime.datetime(1905, 5, 18, 0, 0),\n",
       "       datetime.datetime(1905, 5, 11, 0, 0),\n",
       "       datetime.datetime(1905, 4, 2, 0, 0),\n",
       "       datetime.datetime(1905, 6, 15, 0, 0),\n",
       "       datetime.datetime(1905, 3, 26, 0, 0),\n",
       "       datetime.datetime(1905, 4, 3, 0, 0),\n",
       "       datetime.datetime(1905, 5, 1, 0, 0), 'SI',\n",
       "       datetime.datetime(1905, 5, 16, 0, 0),\n",
       "       datetime.datetime(1905, 6, 6, 0, 0),\n",
       "       datetime.datetime(1905, 5, 13, 0, 0),\n",
       "       datetime.datetime(1905, 6, 2, 0, 0),\n",
       "       datetime.datetime(1901, 1, 2, 0, 0),\n",
       "       datetime.datetime(1920, 1, 1, 0, 0),\n",
       "       datetime.datetime(1951, 1, 1, 0, 0),\n",
       "       datetime.datetime(1932, 1, 1, 0, 0),\n",
       "       datetime.datetime(1952, 1, 1, 0, 0),\n",
       "       datetime.datetime(1919, 1, 1, 0, 0),\n",
       "       datetime.datetime(1988, 1, 1, 0, 0),\n",
       "       datetime.datetime(1979, 1, 1, 0, 0),\n",
       "       datetime.datetime(1958, 1, 1, 0, 0),\n",
       "       datetime.datetime(1901, 1, 1, 0, 0),\n",
       "       datetime.datetime(2002, 1, 1, 0, 0),\n",
       "       datetime.datetime(1984, 1, 1, 0, 0),\n",
       "       datetime.datetime(1931, 1, 1, 0, 0),\n",
       "       datetime.datetime(1981, 1, 1, 0, 0),\n",
       "       datetime.datetime(1987, 1, 1, 0, 0),\n",
       "       datetime.datetime(1992, 1, 1, 0, 0),\n",
       "       datetime.datetime(1987, 5, 1, 0, 0),\n",
       "       datetime.datetime(1978, 1, 1, 0, 0),\n",
       "       datetime.datetime(1967, 1, 1, 0, 0),\n",
       "       datetime.datetime(2003, 1, 1, 0, 0),\n",
       "       datetime.datetime(1997, 1, 1, 0, 0),\n",
       "       datetime.datetime(1986, 1, 1, 0, 0),\n",
       "       datetime.datetime(1915, 1, 1, 0, 0),\n",
       "       datetime.datetime(1969, 1, 1, 0, 0),\n",
       "       datetime.datetime(1950, 1, 1, 0, 0),\n",
       "       datetime.datetime(1954, 1, 1, 0, 0),\n",
       "       datetime.datetime(1980, 1, 1, 0, 0),\n",
       "       datetime.datetime(1985, 1, 1, 0, 0),\n",
       "       datetime.datetime(1911, 1, 1, 0, 0),\n",
       "       datetime.datetime(1924, 1, 1, 0, 0),\n",
       "       datetime.datetime(1909, 1, 1, 0, 0),\n",
       "       datetime.datetime(1990, 1, 1, 0, 0),\n",
       "       datetime.datetime(1941, 1, 1, 0, 0),\n",
       "       datetime.datetime(1980, 10, 7, 0, 0),\n",
       "       datetime.datetime(1912, 1, 1, 0, 0),\n",
       "       datetime.datetime(1916, 1, 1, 0, 0),\n",
       "       datetime.datetime(1996, 3, 1, 0, 0),\n",
       "       datetime.datetime(1999, 6, 1, 0, 0),\n",
       "       datetime.datetime(1998, 11, 1, 0, 0),\n",
       "       datetime.datetime(1993, 7, 1, 0, 0),\n",
       "       datetime.datetime(2001, 8, 1, 0, 0),\n",
       "       datetime.datetime(2001, 7, 1, 0, 0),\n",
       "       datetime.datetime(1998, 5, 1, 0, 0),\n",
       "       datetime.datetime(2002, 6, 1, 0, 0),\n",
       "       datetime.datetime(1988, 4, 1, 0, 0),\n",
       "       datetime.datetime(1997, 11, 1, 0, 0),\n",
       "       datetime.datetime(2015, 5, 1, 0, 0),\n",
       "       datetime.datetime(1999, 8, 1, 0, 0),\n",
       "       datetime.datetime(1972, 1, 1, 0, 0),\n",
       "       datetime.datetime(1998, 8, 1, 0, 0),\n",
       "       datetime.datetime(1996, 1, 1, 0, 0),\n",
       "       datetime.datetime(1999, 2, 1, 0, 0),\n",
       "       datetime.datetime(1958, 9, 18, 0, 0),\n",
       "       datetime.datetime(1942, 12, 24, 0, 0),\n",
       "       datetime.datetime(1958, 6, 9, 0, 0),\n",
       "       datetime.datetime(1935, 12, 30, 0, 0),\n",
       "       datetime.datetime(1912, 8, 5, 0, 0),\n",
       "       datetime.datetime(1921, 1, 1, 0, 0),\n",
       "       datetime.datetime(1989, 1, 1, 0, 0),\n",
       "       datetime.datetime(1937, 7, 23, 0, 0),\n",
       "       datetime.datetime(1939, 7, 3, 0, 0),\n",
       "       datetime.datetime(1937, 2, 5, 0, 0),\n",
       "       datetime.datetime(1962, 1, 1, 0, 0), 'NÃO INFORMADO',\n",
       "       datetime.datetime(2014, 4, 2, 0, 0),\n",
       "       datetime.datetime(2011, 9, 1, 0, 0),\n",
       "       datetime.datetime(2012, 7, 23, 0, 0),\n",
       "       datetime.datetime(2013, 6, 3, 0, 0),\n",
       "       datetime.datetime(2013, 3, 29, 0, 0),\n",
       "       datetime.datetime(1977, 1, 1, 0, 0),\n",
       "       datetime.datetime(2013, 10, 18, 0, 0),\n",
       "       datetime.datetime(2014, 11, 3, 0, 0),\n",
       "       datetime.datetime(2015, 2, 14, 0, 0),\n",
       "       datetime.datetime(2016, 12, 26, 0, 0),\n",
       "       datetime.datetime(2015, 4, 21, 0, 0),\n",
       "       datetime.datetime(1905, 7, 3, 0, 0), 2016, 2018,\n",
       "       datetime.datetime(2005, 1, 1, 0, 0),\n",
       "       datetime.datetime(2004, 1, 1, 0, 0),\n",
       "       datetime.datetime(2006, 1, 1, 0, 0),\n",
       "       datetime.datetime(1983, 1, 1, 0, 0),\n",
       "       datetime.datetime(2004, 4, 1, 0, 0),\n",
       "       datetime.datetime(2008, 6, 1, 0, 0),\n",
       "       datetime.datetime(2016, 11, 1, 0, 0),\n",
       "       datetime.datetime(2015, 6, 1, 0, 0),\n",
       "       datetime.datetime(1964, 1, 1, 0, 0),\n",
       "       datetime.datetime(2012, 1, 1, 0, 0), '16/11/1998', 30323, 41102,\n",
       "       41810, 25456, 32878, 37408, 0, 42495, 29860, 35376, 29373, 31048,\n",
       "       35440, datetime.datetime(1976, 6, 1, 0, 0),\n",
       "       datetime.datetime(1905, 6, 10, 0, 0), 'Desconhecido',\n",
       "       datetime.datetime(2002, 3, 1, 0, 0),\n",
       "       datetime.datetime(2002, 4, 1, 0, 0),\n",
       "       datetime.datetime(2002, 7, 1, 0, 0),\n",
       "       datetime.datetime(2002, 8, 1, 0, 0),\n",
       "       datetime.datetime(1974, 4, 1, 0, 0),\n",
       "       datetime.datetime(1988, 6, 1, 0, 0),\n",
       "       datetime.datetime(1985, 7, 1, 0, 0),\n",
       "       datetime.datetime(1985, 8, 1, 0, 0),\n",
       "       datetime.datetime(1905, 6, 30, 0, 0),\n",
       "       datetime.datetime(1993, 6, 1, 0, 0),\n",
       "       datetime.datetime(1992, 4, 1, 0, 0),\n",
       "       datetime.datetime(1905, 6, 14, 0, 0),\n",
       "       datetime.datetime(1905, 6, 8, 0, 0),\n",
       "       datetime.datetime(1905, 6, 21, 0, 0),\n",
       "       datetime.datetime(2003, 6, 9, 0, 0), 'Sem Informação',\n",
       "       datetime.datetime(2012, 8, 1, 0, 0),\n",
       "       datetime.datetime(2008, 7, 2, 0, 0),\n",
       "       datetime.datetime(2008, 10, 1, 0, 0),\n",
       "       datetime.datetime(2007, 11, 1, 0, 0),\n",
       "       datetime.datetime(2012, 3, 21, 0, 0),\n",
       "       datetime.datetime(2012, 3, 22, 0, 0),\n",
       "       datetime.datetime(2012, 3, 23, 0, 0),\n",
       "       datetime.datetime(2012, 10, 19, 0, 0), 1911, 1982, 1992, 1951,\n",
       "       1937, 1991, 2012, datetime.datetime(1982, 1, 1, 0, 0),\n",
       "       datetime.datetime(1965, 1, 1, 0, 0), 'Sem informação', 1980, 1981,\n",
       "       1948, 1998, 1920, 1994, 'Mais de 50 anos', 1983, 'Década de 60',\n",
       "       1941, 1932, 1978, 'Cerca de 30 anos', 1919, 1973, 1931, 1915, 1993,\n",
       "       1965, 1976, 1979, 1914, 1985, 1912, 1977, 1961, 1996, 2008, 2007,\n",
       "       1989, 1995, 2013, 2010, 2002, datetime.datetime(2014, 3, 4, 0, 0),\n",
       "       1990, 2005, 2009, 2014, 2011, 1986, 1997, 1988,\n",
       "       datetime.datetime(1976, 1, 1, 0, 0),\n",
       "       datetime.datetime(1975, 5, 26, 0, 0),\n",
       "       datetime.datetime(2010, 5, 1, 0, 0),\n",
       "       datetime.datetime(1907, 1, 1, 0, 0), 'PLANEJAMENTO',\n",
       "       datetime.datetime(2016, 1, 1, 0, 0),\n",
       "       datetime.datetime(1993, 1, 1, 0, 0), 2003, 1987, 1971, '1994\\n',\n",
       "       1940, '1907', ' ', '1919', '1985', '1965', '1959', '1991', 1921,\n",
       "       '1981', '1958', '1992', '1932', '1951', '1975', '1928', 1942, 1950,\n",
       "       1922, '1953', '1964', '01/01/59', '10/1976', 1975, '1948', 1949,\n",
       "       '1970', '1978', '1977', 1946, '1980', '1888', '1982', '1970 ',\n",
       "       '1984 ', '1963 ', ' 1983', '1986', '1980 ', '1912 ', 1957],\n",
       "      dtype=object)"
      ]
     },
     "execution_count": 36,
     "metadata": {},
     "output_type": "execute_result"
    }
   ],
   "source": [
    "df['Construcao_Data_Inicio'].unique() #TODO | ORGANIZE PER YEAR. I NEED TO KOW THEIR AGE.\n"
   ]
  },
  {
   "cell_type": "code",
   "execution_count": 38,
   "metadata": {},
   "outputs": [],
   "source": [
    "#pd.to_datetime(df['Construcao_Data_Inicio'], errors='raise')\n",
    "#new_series = sr.dt.year "
   ]
  },
  {
   "cell_type": "code",
   "execution_count": 40,
   "metadata": {},
   "outputs": [],
   "source": [
    "df[\"Barragem_Altura_AcimaBaseFundacao\"] = pd.to_numeric(df[\"Barragem_Altura_AcimaBaseFundacao\"], errors='coerce')"
   ]
  },
  {
   "cell_type": "code",
   "execution_count": 42,
   "metadata": {},
   "outputs": [],
   "source": [
    "df[\"Barragem_Capacidade\"] = pd.to_numeric(df[\"Barragem_Capacidade\"], errors='coerce')"
   ]
  },
  {
   "cell_type": "code",
   "execution_count": 36,
   "metadata": {},
   "outputs": [
    {
     "data": {
      "text/plain": [
       "2479"
      ]
     },
     "execution_count": 36,
     "metadata": {},
     "output_type": "execute_result"
    }
   ],
   "source": [
    "df[\"Barragem_Capacidade\"].isnull().sum()"
   ]
  },
  {
   "cell_type": "code",
   "execution_count": 43,
   "metadata": {},
   "outputs": [
    {
     "data": {
      "text/plain": [
       "Barragem_Nome                                                          object\n",
       "Barragem_Altura_AcimaBaseFundacao                                     float64\n",
       "Barragem_Altura_AcimaNivelTerreno                                     float64\n",
       "Barragem_Capacidade                                                   float64\n",
       "Barragem_Principal_Tipo_material                                       object\n",
       "Barragem_Principal_Tipo_estrutural                                     object\n",
       "Barragem_Principal_comprimento                                        float64\n",
       "Construcao_Data_Inicio                                                 object\n",
       "Construcao_Data_Fim                                                    object\n",
       "Uso_principal                                                          object\n",
       "Classe Residuo                                                         object\n",
       "Barragem_UF                                                            object\n",
       "Barragem_nivel_de_perigo                                               object\n",
       "Barragem_Categoria_Risco                                               object\n",
       "Barragem_Dano_Potencial_Associado                                      object\n",
       "Barragem_Classe                                                        object\n",
       "TemPAE                                                                 object\n",
       "TemPlanoSeguranca                                                      object\n",
       "TemRevisaoPeriodica                                                    object\n",
       "VazaoProjeto_OrgaoExtravasor                                           object\n",
       "CriterioVazaoProjeto_OrgaoExtravasor                                   object\n",
       "ExtravasorControle                                                     object\n",
       "TemProjetoExecutivo                                                    object\n",
       "TemProjetoComo construido                                              object\n",
       "TemProjetoBasico                                                       object\n",
       "TemProjetoConceitual                                                   object\n",
       "TemEclusa                                                              object\n",
       "Barragem_FasedeVida                                                    object\n",
       "ReguladaPNSB                                                           object\n",
       "DataUltimaFiscalização                                         datetime64[ns]\n",
       "Barragem_autuada?                                                      object\n",
       "CRI - ∑ pontuação CT                                                  float64\n",
       "CRI - ∑ pontuação EC                                                  float64\n",
       "CRI - ∑ pontuação PSB                                                 float64\n",
       "CRI - pontuação Confiabialidade das estruturas extravasoras           float64\n",
       "CRI - pontuação Confiabialidade das estruturas de adução              float64\n",
       "CRI - pontuação Percolação                                            float64\n",
       "CRI - pontuação Deformações e recalques                               float64\n",
       "CRI - pontuação Deterioração taludes                                  float64\n",
       "CRI - pontuação  Eclusa                                               float64\n",
       "Submetida à algum regulamento?                                         object\n",
       "Houve alguma fiscalização no período deste RSB?                        object\n",
       "dtype: object"
      ]
     },
     "execution_count": 43,
     "metadata": {},
     "output_type": "execute_result"
    }
   ],
   "source": [
    "df.dtypes"
   ]
  },
  {
   "cell_type": "code",
   "execution_count": 93,
   "metadata": {},
   "outputs": [],
   "source": [
    "#df.fillna('NaN', inplace = True)"
   ]
  },
  {
   "cell_type": "code",
   "execution_count": 50,
   "metadata": {},
   "outputs": [
    {
     "data": {
      "text/plain": [
       "<matplotlib.axes._subplots.AxesSubplot at 0x117bcb190>"
      ]
     },
     "execution_count": 50,
     "metadata": {},
     "output_type": "execute_result"
    },
    {
     "data": {
      "image/png": "[encoded data removed]",
      "text/plain": [
       "<Figure size 432x288 with 2 Axes>"
      ]
     },
     "metadata": {
      "needs_background": "light"
     },
     "output_type": "display_data"
    }
   ],
   "source": [
    "#df.corr()\n",
    "sns.heatmap(df.corr())"
   ]
  }
 ],
 "metadata": {
  "kernelspec": {
   "display_name": "Python 3",
   "language": "python",
   "name": "python3"
  },
  "language_info": {
   "codemirror_mode": {
    "name": "ipython",
    "version": 3
   },
   "file_extension": ".py",
   "mimetype": "text/x-python",
   "name": "python",
   "nbconvert_exporter": "python",
   "pygments_lexer": "ipython3",
   "version": "3.7.4"
  }
 },
 "nbformat": 4,
 "nbformat_minor": 2
}
