{
 "cells": [
  {
   "cell_type": "markdown",
   "metadata": {},
   "source": [
    "## Context and goals:\n",
    "Brazil had 24.092 dams in 2017 (this df, from 2018, has 17.604). The government is making an effort to control and label the dams according to low, medium and high risk, but there are two big problems: 1. the risk criteria demands several features that are hard to collect and measure; 2. the governemnt does not have enough regulatory institutions and qualified workers to visit all of them, collect information and label the risk manually.  \n",
    "Therefore, this project goal will be pre-label as many dams as possible with the minimum amount of features as possible, so the government can focus on prioritize the inspection on the ones with higher risk.\n",
    "\n",
    "in case of next step: predict accident, check https://spgeotecnia.pt/uploads/jgeot201413209.pdf"
   ]
  },
  {
   "cell_type": "markdown",
   "metadata": {},
   "source": [
    "## To dos:\n",
    "\n",
    "1. Drop columns (useless and too many nans)\n",
    "2. Clean categorical data text\n",
    "3. Transform it in dtype categorical\n",
    "4. Find nulls\n",
    "\n",
    "1. prepare categorical data (one-hot- enconding)\n",
    "2. prepare numerical data (standard scaler)\n",
    "\n",
    "1. explore feature reduction\n",
    "2. explore models and find the best one"
   ]
  },
  {
   "cell_type": "markdown",
   "metadata": {},
   "source": [
    "## Libraries and Dataframe"
   ]
  },
  {
   "cell_type": "code",
   "execution_count": 6,
   "metadata": {},
   "outputs": [],
   "source": [
    "import pandas as pd\n",
    "import numpy as np\n",
    "import seaborn as sns\n",
    "\n",
    "import copy\n",
    "\n",
    "import matplotlib.pyplot as plt\n",
    "%matplotlib inline"
   ]
  },
  {
   "cell_type": "code",
   "execution_count": 7,
   "metadata": {},
   "outputs": [],
   "source": [
    "pd.set_option('display.max_rows', 100)\n",
    "df = pd.read_excel('SNISB 2018.xlsx', sheet_name='Cadastro')"
   ]
  },
  {
   "cell_type": "markdown",
   "metadata": {},
   "source": [
    "## Explore "
   ]
  },
  {
   "cell_type": "code",
   "execution_count": 8,
   "metadata": {},
   "outputs": [
    {
     "data": {
      "text/plain": [
       "17604"
      ]
     },
     "execution_count": 8,
     "metadata": {},
     "output_type": "execute_result"
    }
   ],
   "source": [
    "len(df)"
   ]
  },
  {
   "cell_type": "code",
   "execution_count": 9,
   "metadata": {},
   "outputs": [
    {
     "data": {
      "text/plain": [
       "Index(['Codigo_barragem_SNISB', 'Codigo_barragem_Fiscalizador',\n",
       "       'Autorizacao_Numero', 'Autorizacao_Data_emissao_publicacao',\n",
       "       'Autorizacao_Data_validade', 'CNARH_Numero', 'Barragem_Nome',\n",
       "       'Barragem_NomeSecundario', 'Barragem_Altura_AcimaBaseFundacao',\n",
       "       'Barragem_Altura_AcimaNivelTerreno', 'Barragem_Capacidade',\n",
       "       'Barragem_Principal_Tipo_material',\n",
       "       'Barragem_Principal_Tipo_estrutural', 'Barragem_Principal_comprimento',\n",
       "       'Empreendedor_Nome', 'Empreendedor_Sigla', 'Empreendedor_CNPJ',\n",
       "       'Empreendedor_CPF', 'Empreendedor_endereco', 'Empreendedor _e-mail',\n",
       "       'Empreendedor_telefone', 'Empreendedor_telefone alternativo',\n",
       "       'Construcao_Data_Inicio', 'Construcao_Data_Fim', 'Uso_principal',\n",
       "       'Uso_Complementar', 'Classe Residuo', 'Cursodagua_barrado',\n",
       "       'Bacia_Hidrografica', 'Regiao_Hidrografica_CNRH',\n",
       "       'UnidadeGestaoRecursosHidricos', 'Latitude_dec', 'Longitude_dec',\n",
       "       'Datum', 'Barragem_UF', 'Barragem_Municipio', 'Dominio_Curso_Dagua',\n",
       "       'DataUltimaInspecao', 'TipoUltimaInspecao', 'Barragem_nivel_de_perigo',\n",
       "       'Barragem_Categoria_Risco', 'Barragem_Dano_Potencial_Associado',\n",
       "       'Barragem_Classe', 'TemPAE', 'TemPlanoSeguranca', 'TemRevisaoPeriodica',\n",
       "       'VazaoProjeto_OrgaoExtravasor', 'CriterioVazaoProjeto_OrgaoExtravasor',\n",
       "       'ExtravasorControle', 'TemProjetoExecutivo',\n",
       "       'TemProjetoComo construido', 'TemProjetoBasico', 'TemProjetoConceitual',\n",
       "       'TemEclusa', 'Barragem_FasedeVida', 'ReguladaPNSB',\n",
       "       'DataUltimaFiscalização', 'Barragem_autuada?', 'CRI - ∑ pontuação CT',\n",
       "       'CRI - ∑ pontuação EC', 'CRI - ∑ pontuação PSB',\n",
       "       'CRI - pontuação Confiabialidade das estruturas extravasoras',\n",
       "       'CRI - pontuação Confiabialidade das estruturas de adução',\n",
       "       'CRI - pontuação Percolação', 'CRI - pontuação Deformações e recalques',\n",
       "       'CRI - pontuação Deterioração taludes', 'CRI - pontuação  Eclusa',\n",
       "       'ComentariosObservacoes', 'Órgão fiscalizador',\n",
       "       'Barragem Pública ou particular', 'Barragem Outorgada?',\n",
       "       'Empreendedor Identificado?', 'Tem informação de altura?',\n",
       "       'Tem informação de volume?', 'Tem informação de altura e volume?',\n",
       "       'classificada quanto ao CRI?', 'classificada quanto ao DPA?',\n",
       "       'Submetida à algum regulamento?',\n",
       "       'Houve alguma inspeção no período deste RSB?',\n",
       "       'Houve alguma fiscalização no período deste RSB?',\n",
       "       'Cadastrada no SNISB?', 'N', 'sequência'],\n",
       "      dtype='object')"
      ]
     },
     "execution_count": 9,
     "metadata": {},
     "output_type": "execute_result"
    }
   ],
   "source": [
    "df.columns"
   ]
  },
  {
   "cell_type": "code",
   "execution_count": 10,
   "metadata": {},
   "outputs": [
    {
     "data": {
      "text/plain": [
       "<matplotlib.axes._subplots.AxesSubplot at 0x12219eb10>"
      ]
     },
     "execution_count": 10,
     "metadata": {},
     "output_type": "execute_result"
    },
    {
     "data": {
      "image/png": "[encoded data removed]",
      "text/plain": [
       "<Figure size 1800x720 with 2 Axes>"
      ]
     },
     "metadata": {
      "needs_background": "light"
     },
     "output_type": "display_data"
    }
   ],
   "source": [
    "import missingno as msno\n",
    "msno.matrix(df)"
   ]
  },
  {
   "cell_type": "markdown",
   "metadata": {},
   "source": [
    "## drop columns\n",
    "not necesseary features to execute machine learning\n",
    "(name, code, owner name, business number, state, etc) or too many nans.\n",
    "\n",
    "Age score would be very important, but there is a lot of nans."
   ]
  },
  {
   "cell_type": "code",
   "execution_count": 11,
   "metadata": {},
   "outputs": [],
   "source": [
    "df.dropna(subset=['Codigo_barragem_SNISB', 'Codigo_barragem_Fiscalizador',\n",
    "       'Autorizacao_Numero', 'Autorizacao_Data_emissao_publicacao',\n",
    "       'Autorizacao_Data_validade', 'CNARH_Numero', 'Barragem_Nome',\n",
    "       'Barragem_NomeSecundario'], how='all', inplace = True)"
   ]
  },
  {
   "cell_type": "code",
   "execution_count": 12,
   "metadata": {},
   "outputs": [],
   "source": [
    "#deleted because this is register info\n",
    "df.drop(columns=['Codigo_barragem_SNISB', 'Codigo_barragem_Fiscalizador',\n",
    "       'Autorizacao_Numero', 'Autorizacao_Data_emissao_publicacao',\n",
    "       'Autorizacao_Data_validade', 'CNARH_Numero',\n",
    "       'Barragem_NomeSecundario','Empreendedor_Nome',\n",
    "                 'Empreendedor_Sigla', 'Empreendedor_CNPJ',\n",
    "       'Empreendedor_CPF', 'Empreendedor_endereco', 'Empreendedor _e-mail',\n",
    "       'Empreendedor_telefone', 'Empreendedor_telefone alternativo'], inplace=True)"
   ]
  },
  {
   "cell_type": "code",
   "execution_count": 13,
   "metadata": {},
   "outputs": [],
   "source": [
    "#deleted because this is unnecessary info for machine learning\n",
    "df.drop(columns=['Uso_Complementar','Regiao_Hidrografica_CNRH','Latitude_dec',\n",
    "           'Longitude_dec','Dominio_Curso_Dagua','DataUltimaInspecao','TipoUltimaInspecao',\n",
    "           'ComentariosObservacoes','Órgão fiscalizador','Barragem Outorgada?',\n",
    "           'Tem informação de altura?','Tem informação de volume?','Tem informação de altura e volume?',\n",
    "           'classificada quanto ao CRI?','classificada quanto ao DPA?','Houve alguma inspeção no período deste RSB?',\n",
    "           'Cadastrada no SNISB?','N','sequência'], inplace=True)"
   ]
  },
  {
   "cell_type": "code",
   "execution_count": 14,
   "metadata": {},
   "outputs": [],
   "source": [
    "#deleted because there are too many nulls when filtering by risk criteria\n",
    "df.drop(columns=['Construcao_Data_Inicio','Barragem_Altura_AcimaBaseFundacao','Classe Residuo',\n",
    "                'Barragem_nivel_de_perigo','DataUltimaFiscalização',\n",
    "                'CRI - ∑ pontuação CT','CRI - ∑ pontuação EC', 'CRI - ∑ pontuação PSB','CRI - pontuação Confiabialidade das estruturas extravasoras',\n",
    "                 'CRI - pontuação Confiabialidade das estruturas de adução','CRI - pontuação Percolação', \n",
    "                 'CRI - pontuação Deformações e recalques','CRI - pontuação Deterioração taludes', 'CRI - pontuação  Eclusa'], inplace=True)"
   ]
  },
  {
   "cell_type": "code",
   "execution_count": 15,
   "metadata": {},
   "outputs": [],
   "source": [
    "#decide later if deleting or not\n",
    "df.drop(columns=['Barragem_Classe','Barragem_Principal_Tipo_estrutural','VazaoProjeto_OrgaoExtravasor',\n",
    "                 'ExtravasorControle','Barragem_autuada?', \n",
    "                 'Construcao_Data_Fim'],inplace = True)"
   ]
  },
  {
   "cell_type": "code",
   "execution_count": 16,
   "metadata": {},
   "outputs": [],
   "source": [
    "#geographic info and other irrelevant info\n",
    "df.drop(columns=['Cursodagua_barrado','Bacia_Hidrografica','UnidadeGestaoRecursosHidricos',\n",
    "                 'Datum','Barragem_UF','Barragem_Municipio','Empreendedor Identificado?',\n",
    "                'Houve alguma fiscalização no período deste RSB?'],inplace = True)"
   ]
  },
  {
   "cell_type": "markdown",
   "metadata": {},
   "source": [
    "## Dtypes\n",
    "organize categories and substitute each category for 'risk points' defined by National Policies for Dam Safety, law Nº 12.334. \n",
    "\n",
    "Points will make it easier to check correlations."
   ]
  },
  {
   "cell_type": "code",
   "execution_count": 17,
   "metadata": {},
   "outputs": [
    {
     "data": {
      "text/plain": [
       "Barragem_Nome                            object\n",
       "Barragem_Altura_AcimaNivelTerreno       float64\n",
       "Barragem_Capacidade                      object\n",
       "Barragem_Principal_Tipo_material         object\n",
       "Barragem_Principal_comprimento          float64\n",
       "Uso_principal                            object\n",
       "Barragem_Categoria_Risco                 object\n",
       "Barragem_Dano_Potencial_Associado        object\n",
       "TemPAE                                   object\n",
       "TemPlanoSeguranca                        object\n",
       "TemRevisaoPeriodica                      object\n",
       "CriterioVazaoProjeto_OrgaoExtravasor     object\n",
       "TemProjetoExecutivo                      object\n",
       "TemProjetoComo construido                object\n",
       "TemProjetoBasico                         object\n",
       "TemProjetoConceitual                     object\n",
       "TemEclusa                                object\n",
       "Barragem_FasedeVida                      object\n",
       "ReguladaPNSB                             object\n",
       "Barragem Pública ou particular           object\n",
       "Submetida à algum regulamento?           object\n",
       "dtype: object"
      ]
     },
     "execution_count": 17,
     "metadata": {},
     "output_type": "execute_result"
    }
   ],
   "source": [
    "df.dtypes"
   ]
  },
  {
   "cell_type": "code",
   "execution_count": 18,
   "metadata": {},
   "outputs": [],
   "source": [
    "# name | string (nothing changed)\n",
    "df.Barragem_Nome = df.Barragem_Nome.astype(str)"
   ]
  },
  {
   "cell_type": "code",
   "execution_count": 19,
   "metadata": {},
   "outputs": [],
   "source": [
    "# dam's high | numerical\n",
    "df[\"Barragem_Altura_AcimaNivelTerreno\"] = pd.to_numeric(df[\"Barragem_Altura_AcimaNivelTerreno\"], errors='coerce')"
   ]
  },
  {
   "cell_type": "code",
   "execution_count": 20,
   "metadata": {},
   "outputs": [],
   "source": [
    "# dam's capacity | numerical\n",
    "df[\"Barragem_Capacidade\"] = pd.to_numeric(df[\"Barragem_Capacidade\"], errors='coerce')"
   ]
  },
  {
   "cell_type": "code",
   "execution_count": 21,
   "metadata": {},
   "outputs": [
    {
     "data": {
      "text/plain": [
       "2953"
      ]
     },
     "execution_count": 21,
     "metadata": {},
     "output_type": "execute_result"
    }
   ],
   "source": [
    "# dam's material | text fixing\n",
    "df['Barragem_Principal_Tipo_material'] = df['Barragem_Principal_Tipo_material'].str.lower()\n",
    "df['Barragem_Principal_Tipo_material'] = df['Barragem_Principal_Tipo_material'].replace('terra ','terra')\n",
    "df['Barragem_Principal_Tipo_material'] = df['Barragem_Principal_Tipo_material'].replace('alvenaria ','alvenaria')\n",
    "df['Barragem_Principal_Tipo_material'] = df['Barragem_Principal_Tipo_material'].replace('sem informação', np.nan)\n",
    "df['Barragem_Principal_Tipo_material'].isnull().sum() #10735 nulls"
   ]
  },
  {
   "cell_type": "code",
   "execution_count": 22,
   "metadata": {},
   "outputs": [],
   "source": [
    "# dam's material | Group by risk score:\n",
    "two = ['alvenaria','concreto ciclópico','concreto compactado a rolo  (ccr)']\n",
    "df['Barragem_Principal_Tipo_material'] = ['alvenaria ou concreto rolo ou ciclópico' if i in two \n",
    "                                          else i for i in df['Barragem_Principal_Tipo_material']]\n",
    "\n",
    "three = ['terra','terra-enrocamento','enrocamento', 'rejeito','outro']\n",
    "df['Barragem_Principal_Tipo_material'] = ['terra, enrocamento ou outros' if i in three \n",
    "                                        else i for i in df['Barragem_Principal_Tipo_material']]"
   ]
  },
  {
   "cell_type": "code",
   "execution_count": 23,
   "metadata": {},
   "outputs": [],
   "source": [
    "# dam's material | transform in categorical - ordered:\n",
    "df['Barragem_Principal_Tipo_material'] = df['Barragem_Principal_Tipo_material'].astype('category')\n",
    "df['Barragem_Principal_Tipo_material'] = df['Barragem_Principal_Tipo_material'].cat.set_categories([\n",
    "    'concreto convencional','alvenaria ou concreto rolo ou ciclópico','terra, enrocamento ou outros'], ordered=True)"
   ]
  },
  {
   "cell_type": "code",
   "execution_count": 24,
   "metadata": {},
   "outputs": [
    {
     "name": "stdout",
     "output_type": "stream",
     "text": [
      "{'concreto convencional': 1, 'alvenaria ou concreto rolo ou ciclópico': 2, 'terra, enrocamento ou outros': 3}\n"
     ]
    },
    {
     "data": {
      "text/plain": [
       "3    6140\n",
       "1     507\n",
       "2     216\n",
       "Name: material_score, dtype: int64"
      ]
     },
     "execution_count": 24,
     "metadata": {},
     "output_type": "execute_result"
    }
   ],
   "source": [
    "labels = df['Barragem_Principal_Tipo_material'].cat.categories.tolist()\n",
    "score = {k: v for k,v in zip(labels,[1,2,3])}\n",
    "print(score)\n",
    "\n",
    "df['material_score'] =  df['Barragem_Principal_Tipo_material'].map(score)\n",
    "df['material_score'].value_counts()"
   ]
  },
  {
   "cell_type": "code",
   "execution_count": 25,
   "metadata": {},
   "outputs": [
    {
     "data": {
      "text/plain": [
       "722"
      ]
     },
     "execution_count": 25,
     "metadata": {},
     "output_type": "execute_result"
    }
   ],
   "source": [
    "#dam's main use\n",
    "df['Uso_principal'] = df['Uso_principal'].str.lower()\n",
    "df['Uso_principal'] = df['Uso_principal'].replace('sem informação', np.nan)\n",
    "df['Uso_principal'].isnull().sum() #722 nulls"
   ]
  },
  {
   "cell_type": "code",
   "execution_count": 26,
   "metadata": {},
   "outputs": [],
   "source": [
    "df['Uso_principal'].value_counts()\n",
    "df['Uso_principal'] = df['Uso_principal'].astype('category')"
   ]
  },
  {
   "cell_type": "code",
   "execution_count": 30,
   "metadata": {},
   "outputs": [
    {
     "data": {
      "text/plain": [
       "\"#State\\ndf['Barragem_UF'] = df['Barragem_UF'].str.upper()\\ndf['Barragem_UF'].value_counts()\\ndf['Barragem_UF'].isnull().sum()\\ndf['Barragem_UF'] = df['Barragem_UF'].astype('category')\""
      ]
     },
     "execution_count": 30,
     "metadata": {},
     "output_type": "execute_result"
    }
   ],
   "source": [
    "'''#State\n",
    "df['Barragem_UF'] = df['Barragem_UF'].str.upper()\n",
    "df['Barragem_UF'].value_counts()\n",
    "df['Barragem_UF'].isnull().sum()\n",
    "df['Barragem_UF'] = df['Barragem_UF'].astype('category')'''"
   ]
  },
  {
   "cell_type": "code",
   "execution_count": 31,
   "metadata": {},
   "outputs": [
    {
     "data": {
      "text/plain": [
       "5065"
      ]
     },
     "execution_count": 31,
     "metadata": {},
     "output_type": "execute_result"
    }
   ],
   "source": [
    "#dam's risk category (the target). \n",
    "df['Barragem_Categoria_Risco'] = df['Barragem_Categoria_Risco'].str.lower()\n",
    "df['Barragem_Categoria_Risco'] = df['Barragem_Categoria_Risco'].replace('médio ','médio')\n",
    "df['Barragem_Categoria_Risco'] = df['Barragem_Categoria_Risco'].replace('baixo ','baixo')\n",
    "df['Barragem_Categoria_Risco'] = df['Barragem_Categoria_Risco'].replace('não classificada', np.nan)\n",
    "df['Barragem_Categoria_Risco'].value_counts().sum()\n",
    "#df['Barragem_Categoria_Risco'].isnull().sum() #12518 nulls"
   ]
  },
  {
   "cell_type": "code",
   "execution_count": 32,
   "metadata": {},
   "outputs": [],
   "source": [
    "df['Barragem_Categoria_Risco'] = pd.Series(df['Barragem_Categoria_Risco'], dtype=\"category\")\n",
    "df['Barragem_Categoria_Risco'] = df['Barragem_Categoria_Risco'].cat.set_categories(['não se aplica','baixo','médio','alto'], ordered=True)"
   ]
  },
  {
   "cell_type": "code",
   "execution_count": 33,
   "metadata": {},
   "outputs": [
    {
     "name": "stdout",
     "output_type": "stream",
     "text": [
      "{'não se aplica': 0, 'baixo': 30, 'médio': 50, 'alto': 70}\n"
     ]
    },
    {
     "data": {
      "text/plain": [
       "30    1798\n",
       "70    1430\n",
       "50    1003\n",
       "0      834\n",
       "Name: risco_score, dtype: int64"
      ]
     },
     "execution_count": 33,
     "metadata": {},
     "output_type": "execute_result"
    }
   ],
   "source": [
    "#dam's risk category (the target). Points are average of range defined by law.\n",
    "labels = df['Barragem_Categoria_Risco'].cat.categories.tolist()\n",
    "score = {k: v for k,v in zip(labels,[0,30,50,70])}\n",
    "print(score)\n",
    "\n",
    "df['risco_score'] =  df['Barragem_Categoria_Risco'].map(score)\n",
    "df['risco_score'].value_counts()"
   ]
  },
  {
   "cell_type": "code",
   "execution_count": 34,
   "metadata": {},
   "outputs": [
    {
     "data": {
      "text/plain": [
       "3260"
      ]
     },
     "execution_count": 34,
     "metadata": {},
     "output_type": "execute_result"
    }
   ],
   "source": [
    "#potentially associated damage\n",
    "#em função do potencial de perdas de vidas humanas e dos\n",
    "#impactos econômicos, sociais e ambientais decorrentes da ruptura da barragem.\n",
    "df['Barragem_Dano_Potencial_Associado'] = df['Barragem_Dano_Potencial_Associado'].str.lower()\n",
    "df['Barragem_Dano_Potencial_Associado'] = df['Barragem_Dano_Potencial_Associado'].replace('médio ','médio')\n",
    "df['Barragem_Dano_Potencial_Associado'] = df['Barragem_Dano_Potencial_Associado'].replace('baixo ','baixo')\n",
    "df['Barragem_Dano_Potencial_Associado'] = df['Barragem_Dano_Potencial_Associado'].replace('não classificada', np.nan)\n",
    "df['Barragem_Dano_Potencial_Associado'].unique()\n",
    "df['Barragem_Dano_Potencial_Associado'].value_counts()\n",
    "df['Barragem_Dano_Potencial_Associado'].isnull().sum() #11027 nulls"
   ]
  },
  {
   "cell_type": "code",
   "execution_count": 35,
   "metadata": {},
   "outputs": [],
   "source": [
    "df['Barragem_Dano_Potencial_Associado'] = pd.Series(df['Barragem_Dano_Potencial_Associado'], dtype=\"category\")\n",
    "df['Barragem_Dano_Potencial_Associado'] = df['Barragem_Dano_Potencial_Associado'].cat.set_categories(\n",
    "    ['baixo','médio','alto'], ordered=True)\n"
   ]
  },
  {
   "cell_type": "code",
   "execution_count": 36,
   "metadata": {},
   "outputs": [
    {
     "name": "stdout",
     "output_type": "stream",
     "text": [
      "{'baixo': 7, 'médio': 14, 'alto': 21}\n"
     ]
    },
    {
     "data": {
      "text/plain": [
       "21    3286\n",
       "7     2411\n",
       "14     859\n",
       "Name: DPA_score, dtype: int64"
      ]
     },
     "execution_count": 36,
     "metadata": {},
     "output_type": "execute_result"
    }
   ],
   "source": [
    "labels = df['Barragem_Dano_Potencial_Associado'].cat.categories.tolist()\n",
    "score = {k: v for k,v in zip(labels,[7,14,21])}\n",
    "print(score)\n",
    "\n",
    "df['DPA_score'] =  df['Barragem_Dano_Potencial_Associado'].map(score)\n",
    "df['DPA_score'].value_counts()"
   ]
  },
  {
   "cell_type": "code",
   "execution_count": 37,
   "metadata": {},
   "outputs": [
    {
     "data": {
      "text/plain": [
       "não              4603\n",
       "sim              1088\n",
       "não se aplica     714\n",
       "Name: TemPAE, dtype: int64"
      ]
     },
     "execution_count": 37,
     "metadata": {},
     "output_type": "execute_result"
    }
   ],
   "source": [
    "#have an emergency plan (yes / no / doesn't apply)\n",
    "df['TemPAE'] = df['TemPAE'].str.lower()\n",
    "df['TemPAE'] = df['TemPAE'].replace('não ','não')\n",
    "df['TemPAE'] = df['TemPAE'].replace('nãose aplica','não se aplica')\n",
    "df['TemPAE'] = df['TemPAE'].replace('sem informação',np.nan)\n",
    "df['TemPAE'].value_counts()\n",
    "#df['TemPAE'].isnull().sum() #11199 nulls"
   ]
  },
  {
   "cell_type": "code",
   "execution_count": 38,
   "metadata": {},
   "outputs": [],
   "source": [
    "df['TemPAE'] = pd.Series(df['TemPAE'], dtype=\"category\")\n",
    "df['TemPAE'] = df['TemPAE'].cat.set_categories(['não se aplica','sim','não'], ordered=True)"
   ]
  },
  {
   "cell_type": "code",
   "execution_count": 39,
   "metadata": {},
   "outputs": [
    {
     "name": "stdout",
     "output_type": "stream",
     "text": [
      "{'não se aplica': 0, 'sim': 1, 'não': 5}\n"
     ]
    },
    {
     "data": {
      "text/plain": [
       "5    4603\n",
       "1    1088\n",
       "0     714\n",
       "Name: temPAE_score, dtype: int64"
      ]
     },
     "execution_count": 39,
     "metadata": {},
     "output_type": "execute_result"
    }
   ],
   "source": [
    "labels = df['TemPAE'].cat.categories.tolist()\n",
    "score = {k: v for k,v in zip(labels,[0,1,5])}\n",
    "print(score)\n",
    "\n",
    "df['temPAE_score'] =  df['TemPAE'].map(score)\n",
    "df['temPAE_score'].value_counts()"
   ]
  },
  {
   "cell_type": "code",
   "execution_count": 40,
   "metadata": {},
   "outputs": [
    {
     "data": {
      "text/plain": [
       "3352"
      ]
     },
     "execution_count": 40,
     "metadata": {},
     "output_type": "execute_result"
    }
   ],
   "source": [
    "#have a security plan (yes / no / doesn't apply)\n",
    "df['TemPlanoSeguranca'] = df['TemPlanoSeguranca'].str.lower()\n",
    "df['TemPlanoSeguranca'] = df['TemPlanoSeguranca'].replace('sem informação',np.nan)\n",
    "df['TemPlanoSeguranca'].value_counts()\n",
    "df['TemPlanoSeguranca'].isnull().sum() #11140 nulls"
   ]
  },
  {
   "cell_type": "code",
   "execution_count": 41,
   "metadata": {},
   "outputs": [],
   "source": [
    "df['TemPlanoSeguranca'] = pd.Series(df['TemPlanoSeguranca'], dtype=\"category\")\n",
    "df['TemPlanoSeguranca'] = df['TemPlanoSeguranca'].cat.set_categories(['não se aplica','sim','não'], ordered=True)"
   ]
  },
  {
   "cell_type": "code",
   "execution_count": 42,
   "metadata": {},
   "outputs": [
    {
     "name": "stdout",
     "output_type": "stream",
     "text": [
      "{'não se aplica': 0, 'sim': 1, 'não': 5}\n"
     ]
    },
    {
     "data": {
      "text/plain": [
       "5    4997\n",
       "1    1331\n",
       "0     136\n",
       "Name: temPS_score, dtype: int64"
      ]
     },
     "execution_count": 42,
     "metadata": {},
     "output_type": "execute_result"
    }
   ],
   "source": [
    "labels = df['TemPlanoSeguranca'].cat.categories.tolist()\n",
    "score = {k: v for k,v in zip(labels,[0,1,5])}\n",
    "print(score)\n",
    "\n",
    "df['temPS_score'] =  df['TemPlanoSeguranca'].map(score)\n",
    "df['temPS_score'].value_counts()"
   ]
  },
  {
   "cell_type": "code",
   "execution_count": 43,
   "metadata": {},
   "outputs": [
    {
     "data": {
      "text/plain": [
       "não              5314\n",
       "sim               393\n",
       "não se aplica      14\n",
       "Name: TemRevisaoPeriodica, dtype: int64"
      ]
     },
     "execution_count": 43,
     "metadata": {},
     "output_type": "execute_result"
    }
   ],
   "source": [
    "#periodic check (yes / no / doesn't apply)\n",
    "df['TemRevisaoPeriodica'] = df['TemRevisaoPeriodica'].str.lower()\n",
    "df['TemRevisaoPeriodica'] = df['TemRevisaoPeriodica'].replace('sem informação',np.nan)\n",
    "df['TemRevisaoPeriodica'].value_counts()\n",
    "#df['TemRevisaoPeriodica'].isnull().sum() #11883 nulls"
   ]
  },
  {
   "cell_type": "code",
   "execution_count": 44,
   "metadata": {},
   "outputs": [],
   "source": [
    "df['TemRevisaoPeriodica'] = pd.Series(df['TemRevisaoPeriodica'], dtype=\"category\")\n",
    "df['TemRevisaoPeriodica'] = df['TemRevisaoPeriodica'].cat.set_categories(['não se aplica','sim','não'], ordered=True)"
   ]
  },
  {
   "cell_type": "code",
   "execution_count": 45,
   "metadata": {},
   "outputs": [
    {
     "name": "stdout",
     "output_type": "stream",
     "text": [
      "{'não se aplica': 0, 'sim': 1, 'não': 5}\n"
     ]
    },
    {
     "data": {
      "text/plain": [
       "5    5314\n",
       "1     393\n",
       "0      14\n",
       "Name: maintenance_score, dtype: int64"
      ]
     },
     "execution_count": 45,
     "metadata": {},
     "output_type": "execute_result"
    }
   ],
   "source": [
    "labels = df['TemRevisaoPeriodica'].cat.categories.tolist()\n",
    "score = {k: v for k,v in zip(labels,[0,1,5])}\n",
    "print(score)\n",
    "\n",
    "df['maintenance_score'] =  df['TemRevisaoPeriodica'].map(score)\n",
    "df['maintenance_score'].value_counts()"
   ]
  },
  {
   "cell_type": "code",
   "execution_count": 46,
   "metadata": {},
   "outputs": [],
   "source": [
    "#some features disappear if I ask for str.lower() right away\n",
    "#in this case, 'unknown' worth more points, so this is an important feature.\n",
    "lista = ['Desconhecido','Não Confiável','desconhecido']\n",
    "df['CriterioVazaoProjeto_OrgaoExtravasor'] = ['não confiável ou < 500 anos' if i in lista else i for i in df['CriterioVazaoProjeto_OrgaoExtravasor']] \n",
    "\n",
    "listb = ['Cheia Máxima Provável',10000]\n",
    "df['CriterioVazaoProjeto_OrgaoExtravasor'] = ['cheia máxima provável' if i in listb else i for i in df['CriterioVazaoProjeto_OrgaoExtravasor']] \n",
    "\n",
    "df['CriterioVazaoProjeto_OrgaoExtravasor'] = df['CriterioVazaoProjeto_OrgaoExtravasor'].replace(1000,'milenar')\n",
    "df['CriterioVazaoProjeto_OrgaoExtravasor'] = df['CriterioVazaoProjeto_OrgaoExtravasor'].replace(5000,'500 anos')\n",
    "df['CriterioVazaoProjeto_OrgaoExtravasor'] = df['CriterioVazaoProjeto_OrgaoExtravasor'].replace('< 500','não confiável ou < 500 anos')"
   ]
  },
  {
   "cell_type": "code",
   "execution_count": 47,
   "metadata": {},
   "outputs": [],
   "source": [
    "df['CriterioVazaoProjeto_OrgaoExtravasor'] = pd.Series(df['CriterioVazaoProjeto_OrgaoExtravasor'], dtype=\"category\")\n",
    "df['CriterioVazaoProjeto_OrgaoExtravasor'] = df['CriterioVazaoProjeto_OrgaoExtravasor'].cat.set_categories([\n",
    "    'cheia máxima provável','milenar','500 anos', 'não confiável ou < 500 anos'], ordered=True)"
   ]
  },
  {
   "cell_type": "code",
   "execution_count": 48,
   "metadata": {},
   "outputs": [
    {
     "data": {
      "text/plain": [
       "não confiável ou < 500 anos    8497\n",
       "cheia máxima provável           998\n",
       "milenar                         320\n",
       "500 anos                          1\n",
       "Name: CriterioVazaoProjeto_OrgaoExtravasor, dtype: int64"
      ]
     },
     "execution_count": 48,
     "metadata": {},
     "output_type": "execute_result"
    }
   ],
   "source": [
    "df['CriterioVazaoProjeto_OrgaoExtravasor'].value_counts()"
   ]
  },
  {
   "cell_type": "code",
   "execution_count": 49,
   "metadata": {},
   "outputs": [
    {
     "name": "stdout",
     "output_type": "stream",
     "text": [
      "{'cheia máxima provável': 3, 'milenar': 5, '500 anos': 8, 'não confiável ou < 500 anos': 10}\n"
     ]
    },
    {
     "data": {
      "text/plain": [
       "10    8497\n",
       "3      998\n",
       "5      320\n",
       "8        1\n",
       "Name: vazao_score, dtype: int64"
      ]
     },
     "execution_count": 49,
     "metadata": {},
     "output_type": "execute_result"
    }
   ],
   "source": [
    "labels = df['CriterioVazaoProjeto_OrgaoExtravasor'].cat.categories.tolist()\n",
    "score = {k: v for k,v in zip(labels,[3,5,8,10])}\n",
    "print(score)\n",
    "\n",
    "df['vazao_score'] =  df['CriterioVazaoProjeto_OrgaoExtravasor'].map(score)\n",
    "df['vazao_score'].value_counts()"
   ]
  },
  {
   "cell_type": "markdown",
   "metadata": {},
   "source": [
    "## (ps) code below is still part of dtype cleaning, but the four features provide the same info. \n",
    "point here is putting them on the same column. And apply points according to the law. "
   ]
  },
  {
   "cell_type": "code",
   "execution_count": 50,
   "metadata": {},
   "outputs": [
    {
     "data": {
      "text/plain": [
       "5217"
      ]
     },
     "execution_count": 50,
     "metadata": {},
     "output_type": "execute_result"
    }
   ],
   "source": [
    "#have executive project\n",
    "df['TemProjetoExecutivo'] = df['TemProjetoExecutivo'].str.lower()\n",
    "df['TemProjetoExecutivo'] = df['TemProjetoExecutivo'].replace('não ','não')\n",
    "df['TemProjetoExecutivo'] = df['TemProjetoExecutivo'].replace('sim ','sim')\n",
    "df['TemProjetoExecutivo'] = df['TemProjetoExecutivo'].replace('sem informação',np.nan)\n",
    "df['TemProjetoExecutivo'].value_counts()\n",
    "df['TemProjetoExecutivo'].isnull().sum() #5217"
   ]
  },
  {
   "cell_type": "code",
   "execution_count": 51,
   "metadata": {},
   "outputs": [],
   "source": [
    "df['TemProjetoExecutivo'] = pd.Series(df['TemProjetoExecutivo'], dtype=\"category\")\n",
    "df['TemProjetoExecutivo'] = df['TemProjetoExecutivo'].cat.set_categories(['sim','não'], ordered=True)"
   ]
  },
  {
   "cell_type": "code",
   "execution_count": 52,
   "metadata": {},
   "outputs": [
    {
     "data": {
      "text/plain": [
       "3552"
      ]
     },
     "execution_count": 52,
     "metadata": {},
     "output_type": "execute_result"
    }
   ],
   "source": [
    "#project as built\n",
    "df['TemProjetoComo construido'] = df['TemProjetoComo construido'].str.lower()\n",
    "df['TemProjetoComo construido'] = df['TemProjetoComo construido'].replace('não ','não')\n",
    "df['TemProjetoComo construido'] = df['TemProjetoComo construido'].replace('sem informação',np.nan)\n",
    "df['TemProjetoComo construido'].isnull().sum() #3552\n",
    "#df['TemProjetoComo construido'].unique()"
   ]
  },
  {
   "cell_type": "code",
   "execution_count": 53,
   "metadata": {},
   "outputs": [],
   "source": [
    "df['TemProjetoComo construido'] = pd.Series(df['TemProjetoComo construido'], dtype=\"category\")\n",
    "df['TemProjetoComo construido'] = df['TemProjetoComo construido'].cat.set_categories(['sim','não'], ordered=True)"
   ]
  },
  {
   "cell_type": "code",
   "execution_count": 54,
   "metadata": {},
   "outputs": [
    {
     "data": {
      "text/plain": [
       "5032"
      ]
     },
     "execution_count": 54,
     "metadata": {},
     "output_type": "execute_result"
    }
   ],
   "source": [
    "#has basic project\n",
    "df['TemProjetoBasico'] = df['TemProjetoBasico'].str.lower()\n",
    "df['TemProjetoBasico'] = df['TemProjetoBasico'].replace('não ','não')\n",
    "df['TemProjetoBasico'] = df['TemProjetoBasico'].replace('sem informação',np.nan)\n",
    "df['TemProjetoBasico'].unique()\n",
    "df['TemProjetoBasico'].isnull().sum() #5032"
   ]
  },
  {
   "cell_type": "code",
   "execution_count": 55,
   "metadata": {},
   "outputs": [],
   "source": [
    "df['TemProjetoBasico'] = pd.Series(df['TemProjetoBasico'], dtype=\"category\")\n",
    "df['TemProjetoBasico'] = df['TemProjetoBasico'].cat.set_categories(['sim','não'], ordered=True)"
   ]
  },
  {
   "cell_type": "code",
   "execution_count": 56,
   "metadata": {},
   "outputs": [
    {
     "data": {
      "text/plain": [
       "5215"
      ]
     },
     "execution_count": 56,
     "metadata": {},
     "output_type": "execute_result"
    }
   ],
   "source": [
    "#have conceptual project\n",
    "df['TemProjetoConceitual'] = df['TemProjetoConceitual'].str.lower()\n",
    "df['TemProjetoConceitual'] = df['TemProjetoConceitual'].replace('não ','não')\n",
    "df['TemProjetoConceitual'] = df['TemProjetoConceitual'].replace('sem informação',np.nan)\n",
    "df['TemProjetoConceitual'].unique()\n",
    "df['TemProjetoConceitual'].isnull().sum() #5215"
   ]
  },
  {
   "cell_type": "code",
   "execution_count": 57,
   "metadata": {},
   "outputs": [],
   "source": [
    "dstest = df[['TemProjetoExecutivo','TemProjetoComo construido','TemProjetoBasico','TemProjetoConceitual']]\n",
    "dstest.columns = ['p_executivo', 'p_construido','p_basico', 'p_conceitual']"
   ]
  },
  {
   "cell_type": "code",
   "execution_count": 58,
   "metadata": {},
   "outputs": [
    {
     "data": {
      "text/plain": [
       "p_executivo     5217\n",
       "p_construido    3552\n",
       "p_basico        5032\n",
       "p_conceitual    5215\n",
       "dtype: int64"
      ]
     },
     "execution_count": 58,
     "metadata": {},
     "output_type": "execute_result"
    }
   ],
   "source": [
    "dstest.isnull().sum()"
   ]
  },
  {
   "cell_type": "code",
   "execution_count": 59,
   "metadata": {},
   "outputs": [],
   "source": [
    "docs = []\n",
    "# Iterate over each row \n",
    "for index, rows in dstest.iterrows(): \n",
    "    my_list =[rows.p_executivo, rows.p_construido, rows.p_basico,rows.p_conceitual] \n",
    "    docs.append(my_list)"
   ]
  },
  {
   "cell_type": "code",
   "execution_count": 60,
   "metadata": {},
   "outputs": [],
   "source": [
    "serie = []\n",
    "for lst in docs:\n",
    "    if (lst[0] == 'sim') and (lst[1] == 'sim'):\n",
    "        serie.append(0)\n",
    "    elif (lst[0] == 'sim') or (lst[1] == 'sim'):\n",
    "        serie.append(2)       \n",
    "    else:\n",
    "        if (lst[2] == 'sim'):\n",
    "            serie.append(4)\n",
    "        else:\n",
    "            if (lst[3] == 'sim'):\n",
    "                 serie.append(6)\n",
    "            elif (lst[3] == 'não'):\n",
    "                 serie.append(8)\n",
    "            else:\n",
    "                serie.append(np.nan)\n",
    "                \n"
   ]
  },
  {
   "cell_type": "code",
   "execution_count": 61,
   "metadata": {},
   "outputs": [],
   "source": [
    "#add the information processed above as a new column. It's ok to delete the four one's used previously.\n",
    "df['doc_score'] = serie"
   ]
  },
  {
   "cell_type": "markdown",
   "metadata": {},
   "source": [
    "## close (ps): doc dtype cleaning is done, continue the process:"
   ]
  },
  {
   "cell_type": "code",
   "execution_count": 62,
   "metadata": {},
   "outputs": [
    {
     "data": {
      "text/plain": [
       "array(['não', nan, 'sim'], dtype=object)"
      ]
     },
     "execution_count": 62,
     "metadata": {},
     "output_type": "execute_result"
    }
   ],
   "source": [
    "#have eclusa\n",
    "df['TemEclusa'] = df['TemEclusa'].str.lower()\n",
    "df['TemEclusa'] = df['TemEclusa'].replace('não ','não')\n",
    "df['TemEclusa'] = df['TemEclusa'].replace('sem informação',np.nan)\n",
    "df['TemEclusa'].unique()\n",
    "#df['TemEclusa'].isnull().sum() #564"
   ]
  },
  {
   "cell_type": "code",
   "execution_count": 63,
   "metadata": {},
   "outputs": [],
   "source": [
    "df['Eclusa_score'] = df['TemEclusa'].replace('não',0)\n",
    "df['Eclusa_score'] = df['Eclusa_score'].replace('sim',1)"
   ]
  },
  {
   "cell_type": "code",
   "execution_count": 64,
   "metadata": {},
   "outputs": [
    {
     "data": {
      "text/plain": [
       "array([ 0., nan,  1.])"
      ]
     },
     "execution_count": 64,
     "metadata": {},
     "output_type": "execute_result"
    }
   ],
   "source": [
    "df['Eclusa_score'].unique()"
   ]
  },
  {
   "cell_type": "code",
   "execution_count": 65,
   "metadata": {},
   "outputs": [
    {
     "data": {
      "text/plain": [
       "array(['operação', 'projeto', 'sem informação', 'construção', 'inativa',\n",
       "       'primeiro enchimento', 'descomissionamento', 'planejamento'],\n",
       "      dtype=object)"
      ]
     },
     "execution_count": 65,
     "metadata": {},
     "output_type": "execute_result"
    }
   ],
   "source": [
    "#'life phase' what type of operation:\n",
    "df['Barragem_FasedeVida'] = df['Barragem_FasedeVida'].str.lower()\n",
    "df['Barragem_FasedeVida'].unique()\n",
    "#df['Barragem_FasedeVida'].isnull().sum() #0"
   ]
  },
  {
   "cell_type": "code",
   "execution_count": 66,
   "metadata": {},
   "outputs": [],
   "source": [
    "df['Barragem_FasedeVida'] = df['Barragem_FasedeVida'].astype('category')"
   ]
  },
  {
   "cell_type": "code",
   "execution_count": 67,
   "metadata": {},
   "outputs": [
    {
     "data": {
      "text/plain": [
       "array(['sim', nan, 'não'], dtype=object)"
      ]
     },
     "execution_count": 67,
     "metadata": {},
     "output_type": "execute_result"
    }
   ],
   "source": [
    "#controlled by pnsb\n",
    "df['ReguladaPNSB'] = df['ReguladaPNSB'].str.lower()\n",
    "df['ReguladaPNSB'] = df['ReguladaPNSB'].replace('não ','não')\n",
    "df['ReguladaPNSB'] = df['ReguladaPNSB'].replace('sem informação',np.nan)\n",
    "df['ReguladaPNSB'].unique()\n",
    "#df['ReguladaPNSB'].isnull().sum() #3237"
   ]
  },
  {
   "cell_type": "code",
   "execution_count": 68,
   "metadata": {},
   "outputs": [],
   "source": [
    "df['ReguladaPNSB'] = df['ReguladaPNSB'].astype('category')"
   ]
  },
  {
   "cell_type": "code",
   "execution_count": 69,
   "metadata": {},
   "outputs": [],
   "source": [
    "#df['Barragem_autuada?'] = df['Barragem_autuada?'].str.lower()\n",
    "#df['Barragem_autuada?'] = df['Barragem_autuada?'].replace('sem informação',np.nan)\n",
    "#df['Barragem_autuada?'].unique()6h"
   ]
  },
  {
   "cell_type": "markdown",
   "metadata": {},
   "source": [
    "## drop nans "
   ]
  },
  {
   "cell_type": "code",
   "execution_count": 70,
   "metadata": {},
   "outputs": [
    {
     "data": {
      "text/plain": [
       "9816"
      ]
     },
     "execution_count": 70,
     "metadata": {},
     "output_type": "execute_result"
    }
   ],
   "source": [
    "len(df)"
   ]
  },
  {
   "cell_type": "code",
   "execution_count": 71,
   "metadata": {},
   "outputs": [
    {
     "name": "stdout",
     "output_type": "stream",
     "text": [
      "Barragem_Nome                              0\n",
      "Barragem_Altura_AcimaNivelTerreno       4482\n",
      "Barragem_Capacidade                     2449\n",
      "Barragem_Principal_Tipo_material        2953\n",
      "Barragem_Principal_comprimento          4550\n",
      "Uso_principal                            722\n",
      "Barragem_Categoria_Risco                4751\n",
      "Barragem_Dano_Potencial_Associado       3260\n",
      "TemPAE                                  3411\n",
      "TemPlanoSeguranca                       3352\n",
      "TemRevisaoPeriodica                     4095\n",
      "CriterioVazaoProjeto_OrgaoExtravasor       0\n",
      "TemProjetoExecutivo                     5217\n",
      "TemProjetoComo construido               3552\n",
      "TemProjetoBasico                        5032\n",
      "TemProjetoConceitual                    5215\n",
      "TemEclusa                                564\n",
      "Barragem_FasedeVida                        0\n",
      "ReguladaPNSB                            3237\n",
      "Barragem Pública ou particular             0\n",
      "Submetida à algum regulamento?             0\n",
      "material_score                          2953\n",
      "risco_score                             4751\n",
      "DPA_score                               3260\n",
      "temPAE_score                            3411\n",
      "temPS_score                             3352\n",
      "maintenance_score                       4095\n",
      "vazao_score                                0\n",
      "doc_score                               5047\n",
      "Eclusa_score                             564\n",
      "dtype: int64\n"
     ]
    }
   ],
   "source": [
    "print(df.isnull().sum())"
   ]
  },
  {
   "cell_type": "code",
   "execution_count": 72,
   "metadata": {},
   "outputs": [
    {
     "data": {
      "text/plain": [
       "<matplotlib.axes._subplots.AxesSubplot at 0x1207a1c10>"
      ]
     },
     "execution_count": 72,
     "metadata": {},
     "output_type": "execute_result"
    },
    {
     "data": {
      "image/png": "[encoded data removed]",
      "text/plain": [
       "<Figure size 1800x720 with 2 Axes>"
      ]
     },
     "metadata": {
      "needs_background": "light"
     },
     "output_type": "display_data"
    }
   ],
   "source": [
    "import missingno as msno\n",
    "msno.matrix(df)"
   ]
  },
  {
   "cell_type": "markdown",
   "metadata": {},
   "source": [
    "## Export cleaned dataframe "
   ]
  },
  {
   "cell_type": "code",
   "execution_count": 73,
   "metadata": {},
   "outputs": [],
   "source": [
    "df.to_csv('final.csv',index=False)"
   ]
  },
  {
   "cell_type": "markdown",
   "metadata": {},
   "source": [
    "## check the amount of dams in high risk "
   ]
  },
  {
   "cell_type": "code",
   "execution_count": 74,
   "metadata": {},
   "outputs": [
    {
     "data": {
      "image/png": "[encoded data removed]",
      "text/plain": [
       "<Figure size 432x288 with 1 Axes>"
      ]
     },
     "metadata": {},
     "output_type": "display_data"
    }
   ],
   "source": [
    "r_count = df['Barragem_Categoria_Risco'].value_counts()\n",
    "sns.set(style=\"darkgrid\")\n",
    "sns.barplot(r_count.index, r_count.values, alpha=0.9)\n",
    "plt.title('Frequency Distribution of risk')\n",
    "plt.ylabel('Number of Occurrences', fontsize=12)\n",
    "plt.xlabel('Risk', fontsize=12)\n",
    "plt.show()"
   ]
  },
  {
   "cell_type": "code",
   "execution_count": 75,
   "metadata": {},
   "outputs": [
    {
     "data": {
      "image/png": "[encoded data removed]",
      "text/plain": [
       "<Figure size 432x288 with 1 Axes>"
      ]
     },
     "metadata": {},
     "output_type": "display_data"
    }
   ],
   "source": [
    "dpa_count = df['Barragem_Dano_Potencial_Associado'].value_counts()\n",
    "sns.set(style=\"darkgrid\")\n",
    "sns.barplot(dpa_count.index, dpa_count.values, alpha=0.9)\n",
    "plt.title('Frequency Distribution of DPA')\n",
    "plt.ylabel('Number of Occurrences', fontsize=12)\n",
    "plt.xlabel('DPA', fontsize=12)\n",
    "plt.show()"
   ]
  }
 ],
 "metadata": {
  "kernelspec": {
   "display_name": "Python 3",
   "language": "python",
   "name": "python3"
  },
  "language_info": {
   "codemirror_mode": {
    "name": "ipython",
    "version": 3
   },
   "file_extension": ".py",
   "mimetype": "text/x-python",
   "name": "python",
   "nbconvert_exporter": "python",
   "pygments_lexer": "ipython3",
   "version": "3.7.4"
  }
 },
 "nbformat": 4,
 "nbformat_minor": 2
}
