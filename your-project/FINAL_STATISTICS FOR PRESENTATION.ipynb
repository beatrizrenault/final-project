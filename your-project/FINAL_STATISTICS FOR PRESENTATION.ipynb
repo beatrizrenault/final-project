{
 "cells": [
  {
   "cell_type": "code",
   "execution_count": 1,
   "metadata": {},
   "outputs": [],
   "source": [
    "import pandas as pd\n",
    "import numpy as np\n",
    "import seaborn as sns\n",
    "import matplotlib.pyplot as plt\n",
    "%matplotlib inline"
   ]
  },
  {
   "cell_type": "code",
   "execution_count": 2,
   "metadata": {},
   "outputs": [],
   "source": [
    "pd.set_option('display.max_rows', 100)\n",
    "df = pd.read_excel('SNISB 2018.xlsx', sheet_name='Cadastro')"
   ]
  },
  {
   "cell_type": "code",
   "execution_count": 3,
   "metadata": {},
   "outputs": [
    {
     "data": {
      "text/plain": [
       "<matplotlib.axes._subplots.AxesSubplot at 0x119219410>"
      ]
     },
     "execution_count": 3,
     "metadata": {},
     "output_type": "execute_result"
    },
    {
     "data": {
      "image/png": "[encoded data removed]",
      "text/plain": [
       "<Figure size 1800x720 with 2 Axes>"
      ]
     },
     "metadata": {
      "needs_background": "light"
     },
     "output_type": "display_data"
    }
   ],
   "source": [
    "import missingno as msno\n",
    "msno.matrix(df)"
   ]
  },
  {
   "cell_type": "code",
   "execution_count": 4,
   "metadata": {},
   "outputs": [
    {
     "data": {
      "text/plain": [
       "83"
      ]
     },
     "execution_count": 4,
     "metadata": {},
     "output_type": "execute_result"
    }
   ],
   "source": [
    "len(df.columns)"
   ]
  },
  {
   "cell_type": "code",
   "execution_count": 5,
   "metadata": {},
   "outputs": [],
   "source": [
    "df['Barragem_Principal_Tipo_material'] = df['Barragem_Principal_Tipo_material'].str.lower()\n",
    "df['Barragem_Principal_Tipo_material'] = df['Barragem_Principal_Tipo_material'].replace('terra ','terra')\n",
    "df['Barragem_Principal_Tipo_material'] = df['Barragem_Principal_Tipo_material'].replace('alvenaria ','alvenaria')\n",
    "df['Barragem_Principal_Tipo_material'] = df['Barragem_Principal_Tipo_material'].replace('sem informação', np.nan)\n"
   ]
  },
  {
   "cell_type": "code",
   "execution_count": 6,
   "metadata": {},
   "outputs": [],
   "source": [
    "df['Barragem_Principal_Tipo_estrutural'].value_counts()\n",
    "df['Barragem_Principal_Tipo_estrutural'] = df['Barragem_Principal_Tipo_estrutural'].str.lower()\n",
    "df['Barragem_Principal_Tipo_estrutural'] = df['Barragem_Principal_Tipo_estrutural'].replace('sem informação', np.nan)\n"
   ]
  },
  {
   "cell_type": "code",
   "execution_count": 7,
   "metadata": {},
   "outputs": [],
   "source": [
    "df['Uso_principal'] = df['Uso_principal'].str.lower()\n",
    "df['Uso_principal'] = df['Uso_principal'].replace('sem informação',np.nan)"
   ]
  },
  {
   "cell_type": "code",
   "execution_count": 8,
   "metadata": {},
   "outputs": [],
   "source": [
    "df['Barragem_Categoria_Risco'] = df['Barragem_Categoria_Risco'].str.lower()\n",
    "df['Barragem_Categoria_Risco'] = df['Barragem_Categoria_Risco'].replace('médio ','médio')\n",
    "df['Barragem_Categoria_Risco'] = df['Barragem_Categoria_Risco'].replace('baixo ','baixo')\n",
    "df['Barragem_Categoria_Risco'] = df['Barragem_Categoria_Risco'].replace('não classificada', np.nan)"
   ]
  },
  {
   "cell_type": "code",
   "execution_count": 9,
   "metadata": {},
   "outputs": [],
   "source": [
    "df['Barragem_Dano_Potencial_Associado'] = df['Barragem_Dano_Potencial_Associado'].str.lower()\n",
    "df['Barragem_Dano_Potencial_Associado'] = df['Barragem_Dano_Potencial_Associado'].replace('médio ','médio')\n",
    "df['Barragem_Dano_Potencial_Associado'] = df['Barragem_Dano_Potencial_Associado'].replace('baixo ','baixo')\n",
    "df['Barragem_Dano_Potencial_Associado'] = df['Barragem_Dano_Potencial_Associado'].replace('não classificada', np.nan)"
   ]
  },
  {
   "cell_type": "code",
   "execution_count": 10,
   "metadata": {},
   "outputs": [],
   "source": [
    "df['TemPAE'] = df['TemPAE'].str.lower()\n",
    "df['TemPAE'] = df['TemPAE'].replace('não ','não')\n",
    "df['TemPAE'] = df['TemPAE'].replace('nãose aplica','não se aplica')\n",
    "df['TemPAE'] = df['TemPAE'].replace('sem informação',np.nan)"
   ]
  },
  {
   "cell_type": "code",
   "execution_count": 11,
   "metadata": {},
   "outputs": [],
   "source": [
    "df['TemPlanoSeguranca'] = df['TemPlanoSeguranca'].str.lower()\n",
    "df['TemPlanoSeguranca'] = df['TemPlanoSeguranca'].replace('sem informação',np.nan)"
   ]
  },
  {
   "cell_type": "code",
   "execution_count": 12,
   "metadata": {},
   "outputs": [],
   "source": [
    "df['TemRevisaoPeriodica'] = df['TemRevisaoPeriodica'].str.lower()\n",
    "df['TemRevisaoPeriodica'] = df['TemRevisaoPeriodica'].replace('sem informação',np.nan)"
   ]
  },
  {
   "cell_type": "code",
   "execution_count": 13,
   "metadata": {},
   "outputs": [
    {
     "data": {
      "text/plain": [
       "\"CriterioVazaoProjeto_OrgaoExtravasor has strings with 'no information' (nan) values, but in this case the information\\nunknown count as high risk, so I kept as it is. \""
      ]
     },
     "execution_count": 13,
     "metadata": {},
     "output_type": "execute_result"
    }
   ],
   "source": [
    "'''CriterioVazaoProjeto_OrgaoExtravasor has strings with 'no information' (nan) values, but in this case the information\n",
    "unknown count as high risk, so I kept as it is. '''"
   ]
  },
  {
   "cell_type": "code",
   "execution_count": 14,
   "metadata": {},
   "outputs": [],
   "source": [
    "df['VazaoProjeto_OrgaoExtravasor'] = df['VazaoProjeto_OrgaoExtravasor'].replace('Desconhecido',np.nan)"
   ]
  },
  {
   "cell_type": "code",
   "execution_count": 15,
   "metadata": {},
   "outputs": [],
   "source": [
    "df['ExtravasorControle'] = df['ExtravasorControle'].replace('Sem Informação',np.nan)"
   ]
  },
  {
   "cell_type": "code",
   "execution_count": 16,
   "metadata": {},
   "outputs": [],
   "source": [
    "df['TemProjetoExecutivo'] = df['TemProjetoExecutivo'].str.lower()\n",
    "df['TemProjetoExecutivo'] = df['TemProjetoExecutivo'].replace('não ','não')\n",
    "df['TemProjetoExecutivo'] = df['TemProjetoExecutivo'].replace('sim ','sim')\n",
    "df['TemProjetoExecutivo'] = df['TemProjetoExecutivo'].replace('sem informação',np.nan)"
   ]
  },
  {
   "cell_type": "code",
   "execution_count": 17,
   "metadata": {},
   "outputs": [],
   "source": [
    "df['TemProjetoComo construido'] = df['TemProjetoComo construido'].str.lower()\n",
    "df['TemProjetoComo construido'] = df['TemProjetoComo construido'].replace('não ','não')\n",
    "df['TemProjetoComo construido'] = df['TemProjetoComo construido'].replace('sem informação',np.nan)"
   ]
  },
  {
   "cell_type": "code",
   "execution_count": 18,
   "metadata": {},
   "outputs": [],
   "source": [
    "df['TemProjetoBasico'] = df['TemProjetoBasico'].str.lower()\n",
    "df['TemProjetoBasico'] = df['TemProjetoBasico'].replace('não ','não')\n",
    "df['TemProjetoBasico'] = df['TemProjetoBasico'].replace('sem informação',np.nan)"
   ]
  },
  {
   "cell_type": "code",
   "execution_count": 19,
   "metadata": {},
   "outputs": [],
   "source": [
    "df['TemProjetoConceitual'] = df['TemProjetoConceitual'].str.lower()\n",
    "df['TemProjetoConceitual'] = df['TemProjetoConceitual'].replace('não ','não')\n",
    "df['TemProjetoConceitual'] = df['TemProjetoConceitual'].replace('sem informação',np.nan)"
   ]
  },
  {
   "cell_type": "code",
   "execution_count": 20,
   "metadata": {},
   "outputs": [],
   "source": [
    "df['TemEclusa'] = df['TemEclusa'].str.lower()\n",
    "df['TemEclusa'] = df['TemEclusa'].replace('não ','não')\n",
    "df['TemEclusa'] = df['TemEclusa'].replace('sem informação',np.nan)"
   ]
  },
  {
   "cell_type": "code",
   "execution_count": 21,
   "metadata": {},
   "outputs": [],
   "source": [
    "df['Barragem_FasedeVida'] = df['Barragem_FasedeVida'].str.lower()\n",
    "df['Barragem_FasedeVida'] = df['Barragem_FasedeVida'].replace('sem informação',np.nan)"
   ]
  },
  {
   "cell_type": "code",
   "execution_count": 22,
   "metadata": {},
   "outputs": [],
   "source": [
    "df['ReguladaPNSB'] = df['ReguladaPNSB'].str.lower()\n",
    "df['ReguladaPNSB'] = df['ReguladaPNSB'].replace('não ','não')\n",
    "df['ReguladaPNSB'] = df['ReguladaPNSB'].replace('sem informação',np.nan)"
   ]
  },
  {
   "cell_type": "code",
   "execution_count": 23,
   "metadata": {},
   "outputs": [],
   "source": [
    "df['Barragem Pública ou particular'] = df['Barragem Pública ou particular'].replace('Sem Informação',np.nan)"
   ]
  },
  {
   "cell_type": "code",
   "execution_count": 24,
   "metadata": {},
   "outputs": [
    {
     "data": {
      "text/plain": [
       "'the rest of the columns have irrelevant y/n info. info there is already on the other cols as numbers or categories'"
      ]
     },
     "execution_count": 24,
     "metadata": {},
     "output_type": "execute_result"
    }
   ],
   "source": [
    "'''the rest of the columns have irrelevant y/n info. info there is already on the other cols as numbers or categories'''"
   ]
  },
  {
   "cell_type": "code",
   "execution_count": 25,
   "metadata": {},
   "outputs": [
    {
     "data": {
      "text/plain": [
       "0.02851624630765735"
      ]
     },
     "execution_count": 25,
     "metadata": {},
     "output_type": "execute_result"
    }
   ],
   "source": [
    "df['Empreendedor Identificado?'].value_counts()\n",
    "502/len(df)"
   ]
  },
  {
   "cell_type": "code",
   "execution_count": 26,
   "metadata": {},
   "outputs": [],
   "source": [
    "#after identifing real nans, execept for the last 13 columns, that are y/n questions for info that is already on the df."
   ]
  },
  {
   "cell_type": "code",
   "execution_count": 27,
   "metadata": {},
   "outputs": [
    {
     "data": {
      "text/plain": [
       "<matplotlib.axes._subplots.AxesSubplot at 0x1180f6b10>"
      ]
     },
     "execution_count": 27,
     "metadata": {},
     "output_type": "execute_result"
    },
    {
     "data": {
      "image/png": "[encoded data removed]",
      "text/plain": [
       "<Figure size 1800x720 with 2 Axes>"
      ]
     },
     "metadata": {
      "needs_background": "light"
     },
     "output_type": "display_data"
    }
   ],
   "source": [
    "import missingno as msno\n",
    "msno.matrix(df)"
   ]
  },
  {
   "cell_type": "code",
   "execution_count": 28,
   "metadata": {},
   "outputs": [],
   "source": [
    "number_nans = df.isnull().sum()"
   ]
  },
  {
   "cell_type": "code",
   "execution_count": 29,
   "metadata": {},
   "outputs": [
    {
     "data": {
      "text/plain": [
       "0.5101441895735636"
      ]
     },
     "execution_count": 29,
     "metadata": {},
     "output_type": "execute_result"
    }
   ],
   "source": [
    "number_nans.mean()/len(df)"
   ]
  },
  {
   "cell_type": "code",
   "execution_count": 30,
   "metadata": {},
   "outputs": [
    {
     "data": {
      "text/plain": [
       "Codigo_barragem_SNISB                                          0.849636\n",
       "Codigo_barragem_Fiscalizador                                   0.640707\n",
       "Autorizacao_Numero                                             0.580436\n",
       "Autorizacao_Data_emissao_publicacao                            0.783913\n",
       "Autorizacao_Data_validade                                      0.889968\n",
       "CNARH_Numero                                                   0.957964\n",
       "Barragem_Nome                                                  0.468019\n",
       "Barragem_NomeSecundario                                        0.943252\n",
       "Barragem_Altura_AcimaBaseFundacao                              0.872415\n",
       "Barragem_Altura_AcimaNivelTerreno                              0.695524\n",
       "Barragem_Capacidade                                            0.140763\n",
       "Barragem_Principal_Tipo_material                               0.609805\n",
       "Barragem_Principal_Tipo_estrutural                             0.856283\n",
       "Barragem_Principal_comprimento                                 0.700636\n",
       "Empreendedor_Nome                                              0.028573\n",
       "Empreendedor_Sigla                                             0.820382\n",
       "Empreendedor_CNPJ                                              0.772211\n",
       "Empreendedor_CPF                                               0.853670\n",
       "Empreendedor_endereco                                          0.683027\n",
       "Empreendedor _e-mail                                           0.737219\n",
       "Empreendedor_telefone                                          0.702056\n",
       "Empreendedor_telefone alternativo                              0.879118\n",
       "Construcao_Data_Inicio                                         0.894683\n",
       "Construcao_Data_Fim                                            0.801863\n",
       "Uso_principal                                                  0.042093\n",
       "Uso_Complementar                                               0.834072\n",
       "Classe Residuo                                                 0.940638\n",
       "Cursodagua_barrado                                             0.102420\n",
       "Bacia_Hidrografica                                             0.142240\n",
       "Regiao_Hidrografica_CNRH                                       0.118837\n",
       "UnidadeGestaoRecursosHidricos                                  0.215349\n",
       "Latitude_dec                                                   0.020109\n",
       "Longitude_dec                                                  0.020109\n",
       "Datum                                                          0.634856\n",
       "Barragem_UF                                                    0.000000\n",
       "Barragem_Municipio                                             0.000170\n",
       "Dominio_Curso_Dagua                                            0.104635\n",
       "DataUltimaInspecao                                             0.850091\n",
       "TipoUltimaInspecao                                             0.851113\n",
       "Barragem_nivel_de_perigo                                       0.937230\n",
       "Barragem_Categoria_Risco                                       0.711088\n",
       "Barragem_Dano_Potencial_Associado                              0.626392\n",
       "Barragem_Classe                                                0.774994\n",
       "TemPAE                                                         0.636162\n",
       "TemPlanoSeguranca                                              0.632811\n",
       "TemRevisaoPeriodica                                            0.675017\n",
       "VazaoProjeto_OrgaoExtravasor                                   0.924790\n",
       "CriterioVazaoProjeto_OrgaoExtravasor                           0.000000\n",
       "ExtravasorControle                                             0.866508\n",
       "TemProjetoExecutivo                                            0.738753\n",
       "TemProjetoComo construido                                      0.642695\n",
       "TemProjetoBasico                                               0.727619\n",
       "TemProjetoConceitual                                           0.738639\n",
       "TemEclusa                                                      0.032038\n",
       "Barragem_FasedeVida                                            0.593842\n",
       "ReguladaPNSB                                                   0.614179\n",
       "DataUltimaFiscalização                                         0.927687\n",
       "Barragem_autuada?                                              0.058396\n",
       "CRI - ∑ pontuação CT                                           0.833788\n",
       "CRI - ∑ pontuação EC                                           0.833788\n",
       "CRI - ∑ pontuação PSB                                          0.833390\n",
       "CRI - pontuação Confiabialidade das estruturas extravasoras    0.835492\n",
       "CRI - pontuação Confiabialidade das estruturas de adução       0.835606\n",
       "CRI - pontuação Percolação                                     0.838503\n",
       "CRI - pontuação Deformações e recalques                        0.838559\n",
       "CRI - pontuação Deterioração taludes                           0.838559\n",
       "CRI - pontuação  Eclusa                                        0.835606\n",
       "ComentariosObservacoes                                         0.902579\n",
       "Órgão fiscalizador                                             0.000000\n",
       "Barragem Pública ou particular                                 0.018405\n",
       "Barragem Outorgada?                                            0.000000\n",
       "Empreendedor Identificado?                                     0.000000\n",
       "Tem informação de altura?                                      0.000000\n",
       "Tem informação de volume?                                      0.000000\n",
       "Tem informação de altura e volume?                             0.000000\n",
       "classificada quanto ao CRI?                                    0.000000\n",
       "classificada quanto ao DPA?                                    0.000000\n",
       "Submetida à algum regulamento?                                 0.000000\n",
       "Houve alguma inspeção no período deste RSB?                    0.000000\n",
       "Houve alguma fiscalização no período deste RSB?                0.000000\n",
       "Cadastrada no SNISB?                                           0.000000\n",
       "N                                                              0.000000\n",
       "sequência                                                      0.000000\n",
       "dtype: float64"
      ]
     },
     "execution_count": 30,
     "metadata": {},
     "output_type": "execute_result"
    }
   ],
   "source": [
    "number_nans/len(df)"
   ]
  },
  {
   "cell_type": "code",
   "execution_count": 31,
   "metadata": {},
   "outputs": [
    {
     "data": {
      "text/plain": [
       "'\\nBarragem_Altura_AcimaBaseFundacao                              0.872415\\nBarragem_Altura_AcimaNivelTerreno                              0.695524\\nBarragem_Capacidade                                            0.140763\\nBarragem_Principal_Tipo_material                               0.609805\\nBarragem_Principal_Tipo_estrutural                             0.856283\\nBarragem_Principal_comprimento                                 0.700636\\n'"
      ]
     },
     "execution_count": 31,
     "metadata": {},
     "output_type": "execute_result"
    }
   ],
   "source": [
    "# average of missing information related to structure:\n",
    "'''\n",
    "Barragem_Altura_AcimaBaseFundacao                              0.872415\n",
    "Barragem_Altura_AcimaNivelTerreno                              0.695524\n",
    "Barragem_Capacidade                                            0.140763\n",
    "Barragem_Principal_Tipo_material                               0.609805\n",
    "Barragem_Principal_Tipo_estrutural                             0.856283\n",
    "Barragem_Principal_comprimento                                 0.700636\n",
    "'''"
   ]
  },
  {
   "cell_type": "code",
   "execution_count": 32,
   "metadata": {},
   "outputs": [
    {
     "data": {
      "text/plain": [
       "0.6459043333333333"
      ]
     },
     "execution_count": 32,
     "metadata": {},
     "output_type": "execute_result"
    }
   ],
   "source": [
    "lst = [0.872415,0.695524,0.140763,0.609805,0.856283, 0.700636]\n",
    "sum(lst)/len(lst)"
   ]
  },
  {
   "cell_type": "code",
   "execution_count": 33,
   "metadata": {},
   "outputs": [
    {
     "data": {
      "text/plain": [
       "'\\nTemProjetoExecutivo                                            0.738753\\nTemProjetoComo construido                                      0.642695\\nTemProjetoBasico                                               0.727619\\nTemProjetoConceitual                                           0.738639\\nTemEclusa                                                      0.032038\\n'"
      ]
     },
     "execution_count": 33,
     "metadata": {},
     "output_type": "execute_result"
    }
   ],
   "source": [
    "# average of missing information related to project:\n",
    "'''\n",
    "TemProjetoExecutivo                                            0.738753\n",
    "TemProjetoComo construido                                      0.642695\n",
    "TemProjetoBasico                                               0.727619\n",
    "TemProjetoConceitual                                           0.738639\n",
    "TemEclusa                                                      0.032038\n",
    "'''"
   ]
  },
  {
   "cell_type": "code",
   "execution_count": 34,
   "metadata": {},
   "outputs": [
    {
     "data": {
      "text/plain": [
       "0.5759488"
      ]
     },
     "execution_count": 34,
     "metadata": {},
     "output_type": "execute_result"
    }
   ],
   "source": [
    "lst2 = [0.738753,0.642695,0.727619,0.738639,0.032038]\n",
    "sum(lst2)/len(lst2)"
   ]
  },
  {
   "cell_type": "code",
   "execution_count": 36,
   "metadata": {},
   "outputs": [
    {
     "data": {
      "text/plain": [
       "'\\nTemPAE                                                         0.636162\\nTemPlanoSeguranca                                              0.632811\\nTemRevisaoPeriodica                                            0.675017\\n'"
      ]
     },
     "execution_count": 36,
     "metadata": {},
     "output_type": "execute_result"
    }
   ],
   "source": [
    "# average of missing information related to safety and emergency plan + inspection:\n",
    "'''\n",
    "TemPAE                                                         0.636162\n",
    "TemPlanoSeguranca                                              0.632811\n",
    "TemRevisaoPeriodica                                            0.675017\n",
    "'''\n"
   ]
  },
  {
   "cell_type": "code",
   "execution_count": null,
   "metadata": {},
   "outputs": [],
   "source": [
    "#average of missing information related to risk labeling (not used)\n",
    "'''\n",
    "Barragem_nivel_de_perigo                                       0.937230\n",
    "Barragem_Categoria_Risco                                       0.711088\n",
    "Barragem_Dano_Potencial_Associado                              0.626392\n",
    "'''\n"
   ]
  }
 ],
 "metadata": {
  "kernelspec": {
   "display_name": "Python 3",
   "language": "python",
   "name": "python3"
  },
  "language_info": {
   "codemirror_mode": {
    "name": "ipython",
    "version": 3
   },
   "file_extension": ".py",
   "mimetype": "text/x-python",
   "name": "python",
   "nbconvert_exporter": "python",
   "pygments_lexer": "ipython3",
   "version": "3.7.4"
  }
 },
 "nbformat": 4,
 "nbformat_minor": 2
}
