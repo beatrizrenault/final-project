{
 "cells": [
  {
   "cell_type": "markdown",
   "metadata": {},
   "source": [
    "## Libraries and dataframe"
   ]
  },
  {
   "cell_type": "code",
   "execution_count": null,
   "metadata": {},
   "outputs": [],
   "source": [
    "#context\n",
    "# https://apublica.org/2019/01/brasil-registra-mais-de-tres-acidentes-em-barragens-por-ano/"
   ]
  },
  {
   "cell_type": "code",
   "execution_count": null,
   "metadata": {},
   "outputs": [],
   "source": [
    "#details Risco e Dano Potencial Associado"
   ]
  },
  {
   "cell_type": "code",
   "execution_count": 5,
   "metadata": {},
   "outputs": [],
   "source": [
    "import pandas as pd\n",
    "import numpy as np"
   ]
  },
  {
   "cell_type": "code",
   "execution_count": 7,
   "metadata": {},
   "outputs": [],
   "source": [
    "df = pd.read_excel('SNISB 2018.xlsx', sheet_name='Cadastro')"
   ]
  },
  {
   "cell_type": "code",
   "execution_count": 9,
   "metadata": {},
   "outputs": [
    {
     "data": {
      "text/plain": [
       "17604"
      ]
     },
     "execution_count": 9,
     "metadata": {},
     "output_type": "execute_result"
    }
   ],
   "source": [
    "df.head(3)\n",
    "len(df)"
   ]
  },
  {
   "cell_type": "code",
   "execution_count": 10,
   "metadata": {},
   "outputs": [
    {
     "data": {
      "text/plain": [
       "Codigo_barragem_SNISB                              float64\n",
       "Codigo_barragem_Fiscalizador                        object\n",
       "Autorizacao_Numero                                  object\n",
       "Autorizacao_Data_emissao_publicacao                 object\n",
       "Autorizacao_Data_validade                           object\n",
       "                                                    ...   \n",
       "Houve alguma inspeção no período deste RSB?         object\n",
       "Houve alguma fiscalização no período deste RSB?     object\n",
       "Cadastrada no SNISB?                                object\n",
       "N                                                    int64\n",
       "sequência                                            int64\n",
       "Length: 83, dtype: object"
      ]
     },
     "execution_count": 10,
     "metadata": {},
     "output_type": "execute_result"
    }
   ],
   "source": [
    "df.dtypes"
   ]
  },
  {
   "cell_type": "markdown",
   "metadata": {},
   "source": [
    "## Exploring columns"
   ]
  },
  {
   "cell_type": "code",
   "execution_count": 11,
   "metadata": {},
   "outputs": [
    {
     "data": {
      "text/plain": [
       "Index(['Codigo_barragem_SNISB', 'Codigo_barragem_Fiscalizador',\n",
       "       'Autorizacao_Numero', 'Autorizacao_Data_emissao_publicacao',\n",
       "       'Autorizacao_Data_validade', 'CNARH_Numero', 'Barragem_Nome',\n",
       "       'Barragem_NomeSecundario', 'Barragem_Altura_AcimaBaseFundacao',\n",
       "       'Barragem_Altura_AcimaNivelTerreno', 'Barragem_Capacidade',\n",
       "       'Barragem_Principal_Tipo_material',\n",
       "       'Barragem_Principal_Tipo_estrutural', 'Barragem_Principal_comprimento',\n",
       "       'Empreendedor_Nome', 'Empreendedor_Sigla', 'Empreendedor_CNPJ',\n",
       "       'Empreendedor_CPF', 'Empreendedor_endereco', 'Empreendedor _e-mail',\n",
       "       'Empreendedor_telefone', 'Empreendedor_telefone alternativo',\n",
       "       'Construcao_Data_Inicio', 'Construcao_Data_Fim', 'Uso_principal',\n",
       "       'Uso_Complementar', 'Classe Residuo', 'Cursodagua_barrado',\n",
       "       'Bacia_Hidrografica', 'Regiao_Hidrografica_CNRH',\n",
       "       'UnidadeGestaoRecursosHidricos', 'Latitude_dec', 'Longitude_dec',\n",
       "       'Datum', 'Barragem_UF', 'Barragem_Municipio', 'Dominio_Curso_Dagua',\n",
       "       'DataUltimaInspecao', 'TipoUltimaInspecao', 'Barragem_nivel_de_perigo',\n",
       "       'Barragem_Categoria_Risco', 'Barragem_Dano_Potencial_Associado',\n",
       "       'Barragem_Classe', 'TemPAE', 'TemPlanoSeguranca', 'TemRevisaoPeriodica',\n",
       "       'VazaoProjeto_OrgaoExtravasor', 'CriterioVazaoProjeto_OrgaoExtravasor',\n",
       "       'ExtravasorControle', 'TemProjetoExecutivo',\n",
       "       'TemProjetoComo construido', 'TemProjetoBasico', 'TemProjetoConceitual',\n",
       "       'TemEclusa', 'Barragem_FasedeVida', 'ReguladaPNSB',\n",
       "       'DataUltimaFiscalização', 'Barragem_autuada?', 'CRI - ∑ pontuação CT',\n",
       "       'CRI - ∑ pontuação EC', 'CRI - ∑ pontuação PSB',\n",
       "       'CRI - pontuação Confiabialidade das estruturas extravasoras',\n",
       "       'CRI - pontuação Confiabialidade das estruturas de adução',\n",
       "       'CRI - pontuação Percolação', 'CRI - pontuação Deformações e recalques',\n",
       "       'CRI - pontuação Deterioração taludes', 'CRI - pontuação  Eclusa',\n",
       "       'ComentariosObservacoes', 'Órgão fiscalizador',\n",
       "       'Barragem Pública ou particular', 'Barragem Outorgada?',\n",
       "       'Empreendedor Identificado?', 'Tem informação de altura?',\n",
       "       'Tem informação de volume?', 'Tem informação de altura e volume?',\n",
       "       'classificada quanto ao CRI?', 'classificada quanto ao DPA?',\n",
       "       'Submetida à algum regulamento?',\n",
       "       'Houve alguma inspeção no período deste RSB?',\n",
       "       'Houve alguma fiscalização no período deste RSB?',\n",
       "       'Cadastrada no SNISB?', 'N', 'sequência'],\n",
       "      dtype='object')"
      ]
     },
     "execution_count": 11,
     "metadata": {},
     "output_type": "execute_result"
    }
   ],
   "source": [
    "#columns\n",
    "df.columns"
   ]
  },
  {
   "cell_type": "code",
   "execution_count": 12,
   "metadata": {},
   "outputs": [
    {
     "data": {
      "text/plain": [
       "'for col in df.columns:\\n    count = df[col].value_counts()\\n    print(col, count)'"
      ]
     },
     "execution_count": 12,
     "metadata": {},
     "output_type": "execute_result"
    }
   ],
   "source": [
    "'''for col in df.columns:\n",
    "    count = df[col].value_counts()\n",
    "    print(col, count)'''"
   ]
  },
  {
   "cell_type": "code",
   "execution_count": 25,
   "metadata": {},
   "outputs": [
    {
     "data": {
      "text/plain": [
       "CRI - pontuação Confiabialidade das estruturas extravasoras    14708\n",
       "CRI - pontuação Confiabialidade das estruturas de adução       14710\n",
       "CRI - pontuação  Eclusa                                        14710\n",
       "CRI - pontuação Percolação                                     14761\n",
       "CRI - pontuação Deformações e recalques                        14762\n",
       "CRI - pontuação Deterioração taludes                           14762\n",
       "Codigo_barragem_SNISB                                          14957\n",
       "DataUltimaInspecao                                             14965\n",
       "TipoUltimaInspecao                                             14983\n",
       "Empreendedor_CPF                                               15028\n",
       "Barragem_Altura_AcimaBaseFundacao                              15358\n",
       "Empreendedor_telefone alternativo                              15476\n",
       "Autorizacao_Data_validade                                      15667\n",
       "Construcao_Data_Inicio                                         15750\n",
       "ComentariosObservacoes                                         15889\n",
       "DataUltimaFiscalização                                         16331\n",
       "Barragem_nivel_de_perigo                                       16499\n",
       "Classe Residuo                                                 16559\n",
       "Barragem_NomeSecundario                                        16605\n",
       "CNARH_Numero                                                   16864\n",
       "dtype: int64"
      ]
     },
     "execution_count": 25,
     "metadata": {},
     "output_type": "execute_result"
    }
   ],
   "source": [
    "df.isnull().sum().sort_values().tail(20)"
   ]
  },
  {
   "cell_type": "code",
   "execution_count": 26,
   "metadata": {},
   "outputs": [
    {
     "data": {
      "text/plain": [
       "17604"
      ]
     },
     "execution_count": 26,
     "metadata": {},
     "output_type": "execute_result"
    }
   ],
   "source": [
    "len(df)"
   ]
  }
 ],
 "metadata": {
  "kernelspec": {
   "display_name": "Python 3",
   "language": "python",
   "name": "python3"
  },
  "language_info": {
   "codemirror_mode": {
    "name": "ipython",
    "version": 3
   },
   "file_extension": ".py",
   "mimetype": "text/x-python",
   "name": "python",
   "nbconvert_exporter": "python",
   "pygments_lexer": "ipython3",
   "version": "3.7.4"
  }
 },
 "nbformat": 4,
 "nbformat_minor": 2
}
