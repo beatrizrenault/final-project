{
 "cells": [
  {
   "cell_type": "markdown",
   "metadata": {},
   "source": [
    "## Context and goals:\n",
    "Brazil has 24.000 dams. The government is making a effort to control and label the dams according to low, medium and high risk, but there are two big problems: 1. the risk criteria demands several features that are hard to collect and measure; 2. the governemnt does not have enough regulatory institutions and qualified workers to visit all of them, collect information and label the risk manually.  \n",
    "Therefore, this project goal will be pre-label as many dams as possible, so the government can focus on prioritize the inspection on the higher risk ones. "
   ]
  },
  {
   "cell_type": "markdown",
   "metadata": {},
   "source": [
    "## To dos:\n",
    "\n",
    "1. Drop unrelated columns\n",
    "2. Check nulls\n",
    "3. text cleaning\n",
    "\n",
    "1. prepare categorical data (one-hot- enconding)\n",
    "2. organize numerical data (standard scaler)\n",
    "3. study the 'less features' thing\n",
    "\n",
    "1. to go further: there are only 10 accidents in BR (I can't find the number of incidents). Is it possible to predict the probabilities for the next one with the poor dataset that I have?\n"
   ]
  },
  {
   "cell_type": "markdown",
   "metadata": {},
   "source": [
    "## Libraries and Dataframe"
   ]
  },
  {
   "cell_type": "code",
   "execution_count": 442,
   "metadata": {},
   "outputs": [],
   "source": [
    "import pandas as pd\n",
    "import numpy as np\n",
    "import seaborn as sns"
   ]
  },
  {
   "cell_type": "code",
   "execution_count": 443,
   "metadata": {},
   "outputs": [],
   "source": [
    "pd.set_option('display.max_rows', 100)\n",
    "df = pd.read_excel('SNISB 2018.xlsx', sheet_name='Cadastro')"
   ]
  },
  {
   "cell_type": "code",
   "execution_count": 444,
   "metadata": {},
   "outputs": [],
   "source": [
    "#df.isnull().sum().sort_values()"
   ]
  },
  {
   "cell_type": "markdown",
   "metadata": {},
   "source": [
    "## drop columns\n",
    "not necesseary features to execute machine learning\n",
    "(but necessary for statiscal graphs, specially to show the precarious control situation)"
   ]
  },
  {
   "cell_type": "code",
   "execution_count": 445,
   "metadata": {},
   "outputs": [],
   "source": [
    "#deleted because this is register info\n",
    "df.drop(columns=['Codigo_barragem_Fiscalizador', 'Autorizacao_Numero',\n",
    "                 'CNARH_Numero', 'Barragem_NomeSecundario', 'Empreendedor_Nome',\n",
    "                 'Empreendedor_Sigla', 'Empreendedor_CNPJ',\n",
    "       'Empreendedor_CPF', 'Empreendedor_endereco', 'Empreendedor _e-mail',\n",
    "       'Empreendedor_telefone', 'Empreendedor_telefone alternativo',             \n",
    "                 'Cursodagua_barrado', 'Bacia_Hidrografica', 'UnidadeGestaoRecursosHidricos',\n",
    "                 'Datum', 'Empreendedor Identificado?'], inplace=True)"
   ]
  },
  {
   "cell_type": "code",
   "execution_count": 446,
   "metadata": {},
   "outputs": [],
   "source": [
    "#deleted because this is unnecessary info for machine learning\n",
    "df.drop(columns=['Codigo_barragem_SNISB','Autorizacao_Data_emissao_publicacao',\n",
    "           'Autorizacao_Data_validade','Uso_Complementar','Regiao_Hidrografica_CNRH','Latitude_dec',\n",
    "           'Longitude_dec','Dominio_Curso_Dagua','DataUltimaInspecao','TipoUltimaInspecao',\n",
    "           'ComentariosObservacoes','Órgão fiscalizador','Barragem Pública ou particular','Barragem Outorgada?',\n",
    "           'Tem informação de altura?','Tem informação de volume?','Tem informação de altura e volume?',\n",
    "           'classificada quanto ao CRI?','classificada quanto ao DPA?','Houve alguma inspeção no período deste RSB?',\n",
    "           'Cadastrada no SNISB?','N','sequência'], inplace=True)"
   ]
  },
  {
   "cell_type": "code",
   "execution_count": 447,
   "metadata": {},
   "outputs": [],
   "source": [
    "#deleted because there are too many nulls when filtering by risk criteria\n",
    "df.drop(columns=['Construcao_Data_Inicio', 'Barragem_Altura_AcimaBaseFundacao','Classe Residuo', 'Barragem_nivel_de_perigo',\n",
    "                 'Barragem_Classe', 'DataUltimaFiscalização', 'Barragem_Principal_Tipo_estrutural','VazaoProjeto_OrgaoExtravasor',\n",
    "                 'CriterioVazaoProjeto_OrgaoExtravasor','ExtravasorControle'], inplace = True)\n"
   ]
  },
  {
   "cell_type": "markdown",
   "metadata": {},
   "source": [
    "## Dtype organization"
   ]
  },
  {
   "cell_type": "code",
   "execution_count": 448,
   "metadata": {},
   "outputs": [
    {
     "data": {
      "text/plain": [
       "array([nan, datetime.datetime(1999, 3, 1, 0, 0),\n",
       "       datetime.datetime(2016, 12, 29, 0, 0), ...,\n",
       "       datetime.datetime(1992, 9, 1, 0, 0),\n",
       "       datetime.datetime(1994, 3, 21, 0, 0),\n",
       "       datetime.datetime(2012, 9, 26, 0, 0)], dtype=object)"
      ]
     },
     "execution_count": 448,
     "metadata": {},
     "output_type": "execute_result"
    }
   ],
   "source": [
    "# ISSUE !!!! FORM SUBMITTED.\n",
    "# I only want (and really need) the years,but this series is a mess. I don't know how to loop that.\n",
    "\n",
    "df['Construcao_Data_Fim'].unique()"
   ]
  },
  {
   "cell_type": "code",
   "execution_count": 449,
   "metadata": {},
   "outputs": [],
   "source": [
    "df[\"Barragem_Altura_AcimaNivelTerreno\"] = pd.to_numeric(df[\"Barragem_Altura_AcimaNivelTerreno\"], errors='coerce')"
   ]
  },
  {
   "cell_type": "code",
   "execution_count": 450,
   "metadata": {},
   "outputs": [],
   "source": [
    "df[\"Barragem_Capacidade\"] = pd.to_numeric(df[\"Barragem_Capacidade\"], errors='coerce')"
   ]
  },
  {
   "cell_type": "code",
   "execution_count": 451,
   "metadata": {},
   "outputs": [],
   "source": [
    "#df.dtypes"
   ]
  },
  {
   "cell_type": "markdown",
   "metadata": {},
   "source": [
    "## Text cleaning "
   ]
  },
  {
   "cell_type": "code",
   "execution_count": 452,
   "metadata": {},
   "outputs": [
    {
     "data": {
      "text/plain": [
       "10735"
      ]
     },
     "execution_count": 452,
     "metadata": {},
     "output_type": "execute_result"
    }
   ],
   "source": [
    "df['Barragem_Principal_Tipo_material'] = df['Barragem_Principal_Tipo_material'].str.lower()\n",
    "df['Barragem_Principal_Tipo_material'] = df['Barragem_Principal_Tipo_material'].replace('terra ','terra')\n",
    "df['Barragem_Principal_Tipo_material'] = df['Barragem_Principal_Tipo_material'].replace('alvenaria ','alvenaria')\n",
    "df['Barragem_Principal_Tipo_material'] = df['Barragem_Principal_Tipo_material'].replace('sem informação', np.nan)\n",
    "df['Barragem_Principal_Tipo_material'].value_counts()\n",
    "df['Barragem_Principal_Tipo_material'].isnull().sum() #10735 nulls"
   ]
  },
  {
   "cell_type": "code",
   "execution_count": 453,
   "metadata": {},
   "outputs": [
    {
     "data": {
      "text/plain": [
       "0"
      ]
     },
     "execution_count": 453,
     "metadata": {},
     "output_type": "execute_result"
    }
   ],
   "source": [
    "df['Uso_principal'] = df['Uso_principal'].str.lower()\n",
    "df['Uso_principal'].value_counts()\n",
    "df['Uso_principal'].isnull().sum() #0 nulls"
   ]
  },
  {
   "cell_type": "code",
   "execution_count": 454,
   "metadata": {},
   "outputs": [
    {
     "data": {
      "text/plain": [
       "0"
      ]
     },
     "execution_count": 454,
     "metadata": {},
     "output_type": "execute_result"
    }
   ],
   "source": [
    "df['Barragem_UF'] = df['Barragem_UF'].str.upper()\n",
    "df['Barragem_UF'].value_counts()\n",
    "df['Barragem_UF'].isnull().sum()"
   ]
  },
  {
   "cell_type": "code",
   "execution_count": 455,
   "metadata": {},
   "outputs": [
    {
     "data": {
      "text/plain": [
       "12518"
      ]
     },
     "execution_count": 455,
     "metadata": {},
     "output_type": "execute_result"
    }
   ],
   "source": [
    "df['Barragem_Categoria_Risco'] = df['Barragem_Categoria_Risco'].str.lower()\n",
    "df['Barragem_Categoria_Risco'] = df['Barragem_Categoria_Risco'].replace('médio ','médio')\n",
    "df['Barragem_Categoria_Risco'] = df['Barragem_Categoria_Risco'].replace('baixo ','baixo')\n",
    "df['Barragem_Categoria_Risco'] = df['Barragem_Categoria_Risco'].replace('não classificada', np.nan)\n",
    "df['Barragem_Categoria_Risco'].value_counts()\n",
    "df['Barragem_Categoria_Risco'].isnull().sum() #12518 nulls"
   ]
  },
  {
   "cell_type": "code",
   "execution_count": 456,
   "metadata": {},
   "outputs": [
    {
     "data": {
      "text/plain": [
       "11027"
      ]
     },
     "execution_count": 456,
     "metadata": {},
     "output_type": "execute_result"
    }
   ],
   "source": [
    "df['Barragem_Dano_Potencial_Associado'] = df['Barragem_Dano_Potencial_Associado'].str.lower()\n",
    "df['Barragem_Dano_Potencial_Associado'] = df['Barragem_Dano_Potencial_Associado'].replace('médio ','médio')\n",
    "df['Barragem_Dano_Potencial_Associado'] = df['Barragem_Dano_Potencial_Associado'].replace('baixo ','baixo')\n",
    "df['Barragem_Dano_Potencial_Associado'] = df['Barragem_Dano_Potencial_Associado'].replace('não classificada', np.nan)\n",
    "df['Barragem_Dano_Potencial_Associado'].unique()\n",
    "df['Barragem_Dano_Potencial_Associado'].value_counts()\n",
    "df['Barragem_Dano_Potencial_Associado'].isnull().sum() #11027 nulls"
   ]
  },
  {
   "cell_type": "code",
   "execution_count": 457,
   "metadata": {},
   "outputs": [
    {
     "data": {
      "text/plain": [
       "11199"
      ]
     },
     "execution_count": 457,
     "metadata": {},
     "output_type": "execute_result"
    }
   ],
   "source": [
    "df['TemPAE'] = df['TemPAE'].str.lower()\n",
    "df['TemPAE'] = df['TemPAE'].replace('não ','não')\n",
    "df['TemPAE'] = df['TemPAE'].replace('nãose aplica','não se aplica')\n",
    "df['TemPAE'] = df['TemPAE'].replace('sem informação',np.nan)\n",
    "df['TemPAE'].value_counts()\n",
    "df['TemPAE'].isnull().sum() #11199 nulls"
   ]
  },
  {
   "cell_type": "code",
   "execution_count": 458,
   "metadata": {},
   "outputs": [
    {
     "data": {
      "text/plain": [
       "11140"
      ]
     },
     "execution_count": 458,
     "metadata": {},
     "output_type": "execute_result"
    }
   ],
   "source": [
    "df['TemPlanoSeguranca'] = df['TemPlanoSeguranca'].str.lower()\n",
    "df['TemPlanoSeguranca'] = df['TemPlanoSeguranca'].replace('sem informação',np.nan)\n",
    "df['TemPlanoSeguranca'].value_counts()\n",
    "df['TemPlanoSeguranca'].isnull().sum() #11140 nulls"
   ]
  },
  {
   "cell_type": "code",
   "execution_count": 459,
   "metadata": {},
   "outputs": [
    {
     "data": {
      "text/plain": [
       "11883"
      ]
     },
     "execution_count": 459,
     "metadata": {},
     "output_type": "execute_result"
    }
   ],
   "source": [
    "df['TemRevisaoPeriodica'] = df['TemRevisaoPeriodica'].str.lower()\n",
    "df['TemRevisaoPeriodica'] = df['TemRevisaoPeriodica'].replace('sem informação',np.nan)\n",
    "df['TemRevisaoPeriodica'].value_counts()\n",
    "df['TemRevisaoPeriodica'].isnull().sum() #11883 nulls"
   ]
  },
  {
   "cell_type": "code",
   "execution_count": 460,
   "metadata": {},
   "outputs": [
    {
     "data": {
      "text/plain": [
       "15254"
      ]
     },
     "execution_count": 460,
     "metadata": {},
     "output_type": "execute_result"
    }
   ],
   "source": [
    "df['ExtravasorControle'].value_counts()\n",
    "df['ExtravasorControle'] = df['ExtravasorControle'].str.lower()\n",
    "df['ExtravasorControle'] = df['ExtravasorControle'].replace('comporta manual','com comporta de acionamento mecânico')\n",
    "df['ExtravasorControle'] = df['ExtravasorControle'].replace('sem informação',np.nan)\n",
    "df['ExtravasorControle'].isnull().sum()\n"
   ]
  },
  {
   "cell_type": "code",
   "execution_count": 461,
   "metadata": {},
   "outputs": [
    {
     "data": {
      "text/plain": [
       "13005"
      ]
     },
     "execution_count": 461,
     "metadata": {},
     "output_type": "execute_result"
    }
   ],
   "source": [
    "df['TemProjetoExecutivo'] = df['TemProjetoExecutivo'].str.lower()\n",
    "df['TemProjetoExecutivo'] = df['TemProjetoExecutivo'].replace('não ','não')\n",
    "df['TemProjetoExecutivo'] = df['TemProjetoExecutivo'].replace('sim ','sim')\n",
    "df['TemProjetoExecutivo'] = df['TemProjetoExecutivo'].replace('sem informação',np.nan)\n",
    "df['TemProjetoExecutivo'].value_counts()\n",
    "df['TemProjetoExecutivo'].isnull().sum() #13005"
   ]
  },
  {
   "cell_type": "code",
   "execution_count": 462,
   "metadata": {},
   "outputs": [
    {
     "data": {
      "text/plain": [
       "array(['não', 'sim', nan], dtype=object)"
      ]
     },
     "execution_count": 462,
     "metadata": {},
     "output_type": "execute_result"
    }
   ],
   "source": [
    "df['TemProjetoComo construido'] = df['TemProjetoComo construido'].str.lower()\n",
    "df['TemProjetoComo construido'] = df['TemProjetoComo construido'].replace('não ','não')\n",
    "df['TemProjetoComo construido'] = df['TemProjetoComo construido'].replace('sem informação',np.nan)\n",
    "df['TemProjetoComo construido'].isnull().sum() #11314\n",
    "df['TemProjetoComo construido'].unique()"
   ]
  },
  {
   "cell_type": "code",
   "execution_count": 463,
   "metadata": {},
   "outputs": [
    {
     "data": {
      "text/plain": [
       "12809"
      ]
     },
     "execution_count": 463,
     "metadata": {},
     "output_type": "execute_result"
    }
   ],
   "source": [
    "df['TemProjetoBasico'] = df['TemProjetoBasico'].str.lower()\n",
    "df['TemProjetoBasico'] = df['TemProjetoBasico'].replace('não ','não')\n",
    "df['TemProjetoBasico'] = df['TemProjetoBasico'].replace('sem informação',np.nan)\n",
    "df['TemProjetoBasico'].unique()\n",
    "df['TemProjetoBasico'].isnull().sum() #12809"
   ]
  },
  {
   "cell_type": "code",
   "execution_count": 464,
   "metadata": {},
   "outputs": [
    {
     "data": {
      "text/plain": [
       "13003"
      ]
     },
     "execution_count": 464,
     "metadata": {},
     "output_type": "execute_result"
    }
   ],
   "source": [
    "df['TemProjetoConceitual'] = df['TemProjetoConceitual'].str.lower()\n",
    "df['TemProjetoConceitual'] = df['TemProjetoConceitual'].replace('não ','não')\n",
    "df['TemProjetoConceitual'] = df['TemProjetoConceitual'].replace('sem informação',np.nan)\n",
    "df['TemProjetoConceitual'].unique()\n",
    "df['TemProjetoConceitual'].isnull().sum() #13003"
   ]
  },
  {
   "cell_type": "code",
   "execution_count": 465,
   "metadata": {},
   "outputs": [
    {
     "data": {
      "text/plain": [
       "564"
      ]
     },
     "execution_count": 465,
     "metadata": {},
     "output_type": "execute_result"
    }
   ],
   "source": [
    "df['TemEclusa'] = df['TemEclusa'].str.lower()\n",
    "df['TemEclusa'] = df['TemEclusa'].replace('não ','não')\n",
    "df['TemEclusa'] = df['TemEclusa'].replace('sem informação',np.nan)\n",
    "df['TemEclusa'].unique()\n",
    "df['TemEclusa'].isnull().sum() #564"
   ]
  },
  {
   "cell_type": "code",
   "execution_count": 466,
   "metadata": {},
   "outputs": [
    {
     "data": {
      "text/plain": [
       "0"
      ]
     },
     "execution_count": 466,
     "metadata": {},
     "output_type": "execute_result"
    }
   ],
   "source": [
    "df['Barragem_FasedeVida'] = df['Barragem_FasedeVida'].str.lower()\n",
    "df['Barragem_FasedeVida'].unique()\n",
    "df['Barragem_FasedeVida'].isnull().sum() #0"
   ]
  },
  {
   "cell_type": "code",
   "execution_count": 467,
   "metadata": {},
   "outputs": [
    {
     "data": {
      "text/plain": [
       "10812"
      ]
     },
     "execution_count": 467,
     "metadata": {},
     "output_type": "execute_result"
    }
   ],
   "source": [
    "df['ReguladaPNSB'] = df['ReguladaPNSB'].str.lower()\n",
    "df['ReguladaPNSB'] = df['ReguladaPNSB'].replace('não ','não')\n",
    "df['ReguladaPNSB'] = df['ReguladaPNSB'].replace('sem informação',np.nan)\n",
    "df['ReguladaPNSB'].unique()\n",
    "df['ReguladaPNSB'].isnull().sum() #10812"
   ]
  },
  {
   "cell_type": "code",
   "execution_count": 468,
   "metadata": {},
   "outputs": [
    {
     "data": {
      "text/plain": [
       "array([nan, 'sim', 'não'], dtype=object)"
      ]
     },
     "execution_count": 468,
     "metadata": {},
     "output_type": "execute_result"
    }
   ],
   "source": [
    "df['Barragem_autuada?'] = df['Barragem_autuada?'].str.lower()\n",
    "df['Barragem_autuada?'] = df['Barragem_autuada?'].replace('sem informação',np.nan)\n",
    "df['Barragem_autuada?'].unique()6h"
   ]
  },
  {
   "cell_type": "markdown",
   "metadata": {},
   "source": [
    "## drop nans "
   ]
  },
  {
   "cell_type": "code",
   "execution_count": 471,
   "metadata": {},
   "outputs": [],
   "source": [
    "df = df.dropna(subset=['Barragem_Nome'])\n",
    "df = df.dropna(subset=['ReguladaPNSB'])\n",
    "df = df.dropna(subset=['Barragem_Altura_AcimaNivelTerreno', 'Barragem_Principal_comprimento'])"
   ]
  },
  {
   "cell_type": "code",
   "execution_count": 472,
   "metadata": {},
   "outputs": [
    {
     "data": {
      "text/plain": [
       "<matplotlib.axes._subplots.AxesSubplot at 0x138d5aa50>"
      ]
     },
     "execution_count": 472,
     "metadata": {},
     "output_type": "execute_result"
    },
    {
     "data": {
      "image/png": "[encoded data removed]",
      "text/plain": [
       "<Figure size 1800x720 with 2 Axes>"
      ]
     },
     "metadata": {
      "needs_background": "light"
     },
     "output_type": "display_data"
    }
   ],
   "source": [
    "import missingno as msno\n",
    "msno.matrix(df)"
   ]
  },
  {
   "cell_type": "code",
   "execution_count": 432,
   "metadata": {},
   "outputs": [
    {
     "data": {
      "text/html": [
       "<div>\n",
       "<style scoped>\n",
       "    .dataframe tbody tr th:only-of-type {\n",
       "        vertical-align: middle;\n",
       "    }\n",
       "\n",
       "    .dataframe tbody tr th {\n",
       "        vertical-align: top;\n",
       "    }\n",
       "\n",
       "    .dataframe thead th {\n",
       "        text-align: right;\n",
       "    }\n",
       "</style>\n",
       "<table border=\"1\" class=\"dataframe\">\n",
       "  <thead>\n",
       "    <tr style=\"text-align: right;\">\n",
       "      <th></th>\n",
       "      <th>Barragem_Nome</th>\n",
       "      <th>Barragem_Altura_AcimaNivelTerreno</th>\n",
       "      <th>Barragem_Capacidade</th>\n",
       "      <th>Barragem_Principal_Tipo_material</th>\n",
       "      <th>Barragem_Principal_comprimento</th>\n",
       "      <th>Construcao_Data_Fim</th>\n",
       "      <th>Uso_principal</th>\n",
       "      <th>Barragem_UF</th>\n",
       "      <th>Barragem_Municipio</th>\n",
       "      <th>Barragem_Categoria_Risco</th>\n",
       "      <th>...</th>\n",
       "      <th>CRI - ∑ pontuação EC</th>\n",
       "      <th>CRI - ∑ pontuação PSB</th>\n",
       "      <th>CRI - pontuação Confiabialidade das estruturas extravasoras</th>\n",
       "      <th>CRI - pontuação Confiabialidade das estruturas de adução</th>\n",
       "      <th>CRI - pontuação Percolação</th>\n",
       "      <th>CRI - pontuação Deformações e recalques</th>\n",
       "      <th>CRI - pontuação Deterioração taludes</th>\n",
       "      <th>CRI - pontuação  Eclusa</th>\n",
       "      <th>Submetida à algum regulamento?</th>\n",
       "      <th>Houve alguma fiscalização no período deste RSB?</th>\n",
       "    </tr>\n",
       "  </thead>\n",
       "  <tbody>\n",
       "    <tr>\n",
       "      <th>2148</th>\n",
       "      <td>Barragem da Fazenda Rio Verde</td>\n",
       "      <td>8.00</td>\n",
       "      <td>1.168129</td>\n",
       "      <td>terra</td>\n",
       "      <td>445.0</td>\n",
       "      <td>1997-10-17 00:00:00</td>\n",
       "      <td>irrigação</td>\n",
       "      <td>MT</td>\n",
       "      <td>SORRISO</td>\n",
       "      <td>médio</td>\n",
       "      <td>...</td>\n",
       "      <td>4.0</td>\n",
       "      <td>21.0</td>\n",
       "      <td>0.0</td>\n",
       "      <td>0.0</td>\n",
       "      <td>3.0</td>\n",
       "      <td>0.0</td>\n",
       "      <td>1.0</td>\n",
       "      <td>0.0</td>\n",
       "      <td>Sim</td>\n",
       "      <td>Não</td>\n",
       "    </tr>\n",
       "    <tr>\n",
       "      <th>2813</th>\n",
       "      <td>Zumbi</td>\n",
       "      <td>18.00</td>\n",
       "      <td>1.700000</td>\n",
       "      <td>terra</td>\n",
       "      <td>280.0</td>\n",
       "      <td>1975</td>\n",
       "      <td>abastecimento humano</td>\n",
       "      <td>PE</td>\n",
       "      <td>Camutanga</td>\n",
       "      <td>alto</td>\n",
       "      <td>...</td>\n",
       "      <td>36.0</td>\n",
       "      <td>33.0</td>\n",
       "      <td>10.0</td>\n",
       "      <td>6.0</td>\n",
       "      <td>5.0</td>\n",
       "      <td>8.0</td>\n",
       "      <td>7.0</td>\n",
       "      <td>0.0</td>\n",
       "      <td>Sim</td>\n",
       "      <td>Não</td>\n",
       "    </tr>\n",
       "    <tr>\n",
       "      <th>2818</th>\n",
       "      <td>Guararema</td>\n",
       "      <td>30.00</td>\n",
       "      <td>20.700000</td>\n",
       "      <td>concreto compactado a rolo  (ccr)</td>\n",
       "      <td>180.0</td>\n",
       "      <td>2001</td>\n",
       "      <td>abastecimento humano</td>\n",
       "      <td>PE</td>\n",
       "      <td>Itambé</td>\n",
       "      <td>baixo</td>\n",
       "      <td>...</td>\n",
       "      <td>9.0</td>\n",
       "      <td>14.0</td>\n",
       "      <td>0.0</td>\n",
       "      <td>6.0</td>\n",
       "      <td>3.0</td>\n",
       "      <td>0.0</td>\n",
       "      <td>0.0</td>\n",
       "      <td>0.0</td>\n",
       "      <td>Sim</td>\n",
       "      <td>Não</td>\n",
       "    </tr>\n",
       "    <tr>\n",
       "      <th>3342</th>\n",
       "      <td>PRATA</td>\n",
       "      <td>19.49</td>\n",
       "      <td>9.321000</td>\n",
       "      <td>terra</td>\n",
       "      <td>530.2</td>\n",
       "      <td>2006</td>\n",
       "      <td>irrigação</td>\n",
       "      <td>RN</td>\n",
       "      <td>Goianinha</td>\n",
       "      <td>baixo</td>\n",
       "      <td>...</td>\n",
       "      <td>0.0</td>\n",
       "      <td>12.0</td>\n",
       "      <td>0.0</td>\n",
       "      <td>0.0</td>\n",
       "      <td>0.0</td>\n",
       "      <td>0.0</td>\n",
       "      <td>0.0</td>\n",
       "      <td>0.0</td>\n",
       "      <td>sim</td>\n",
       "      <td>Não</td>\n",
       "    </tr>\n",
       "    <tr>\n",
       "      <th>3478</th>\n",
       "      <td>URUCARÁ</td>\n",
       "      <td>19.40</td>\n",
       "      <td>4.524000</td>\n",
       "      <td>terra</td>\n",
       "      <td>379.0</td>\n",
       "      <td>2006</td>\n",
       "      <td>irrigação</td>\n",
       "      <td>RN</td>\n",
       "      <td>Arês</td>\n",
       "      <td>médio</td>\n",
       "      <td>...</td>\n",
       "      <td>11.0</td>\n",
       "      <td>12.0</td>\n",
       "      <td>4.0</td>\n",
       "      <td>0.0</td>\n",
       "      <td>5.0</td>\n",
       "      <td>1.0</td>\n",
       "      <td>1.0</td>\n",
       "      <td>0.0</td>\n",
       "      <td>sim</td>\n",
       "      <td>Não</td>\n",
       "    </tr>\n",
       "    <tr>\n",
       "      <th>4271</th>\n",
       "      <td>JACURUTU I</td>\n",
       "      <td>9.50</td>\n",
       "      <td>0.053000</td>\n",
       "      <td>terra</td>\n",
       "      <td>135.0</td>\n",
       "      <td>2012</td>\n",
       "      <td>dessedentação animal</td>\n",
       "      <td>TO</td>\n",
       "      <td>PONTE ALTA DO TOCANTINS</td>\n",
       "      <td>baixo</td>\n",
       "      <td>...</td>\n",
       "      <td>8.0</td>\n",
       "      <td>5.0</td>\n",
       "      <td>0.0</td>\n",
       "      <td>0.0</td>\n",
       "      <td>3.0</td>\n",
       "      <td>0.0</td>\n",
       "      <td>5.0</td>\n",
       "      <td>0.0</td>\n",
       "      <td>sim</td>\n",
       "      <td>Sim</td>\n",
       "    </tr>\n",
       "    <tr>\n",
       "      <th>4389</th>\n",
       "      <td>ESTRELA SOLITÁRIA II</td>\n",
       "      <td>15.30</td>\n",
       "      <td>0.015000</td>\n",
       "      <td>terra</td>\n",
       "      <td>332.0</td>\n",
       "      <td>2014</td>\n",
       "      <td>aquicultura</td>\n",
       "      <td>TO</td>\n",
       "      <td>ARAPOEMA</td>\n",
       "      <td>médio</td>\n",
       "      <td>...</td>\n",
       "      <td>14.0</td>\n",
       "      <td>14.0</td>\n",
       "      <td>4.0</td>\n",
       "      <td>0.0</td>\n",
       "      <td>3.0</td>\n",
       "      <td>0.0</td>\n",
       "      <td>5.0</td>\n",
       "      <td>0.0</td>\n",
       "      <td>sim</td>\n",
       "      <td>Sim</td>\n",
       "    </tr>\n",
       "    <tr>\n",
       "      <th>4394</th>\n",
       "      <td>ÁGUAS CLARAS</td>\n",
       "      <td>9.20</td>\n",
       "      <td>0.068890</td>\n",
       "      <td>terra</td>\n",
       "      <td>202.5</td>\n",
       "      <td>2014</td>\n",
       "      <td>dessedentação animal</td>\n",
       "      <td>TO</td>\n",
       "      <td>BRASILÂNDIA DO TOCANTINS</td>\n",
       "      <td>médio</td>\n",
       "      <td>...</td>\n",
       "      <td>10.0</td>\n",
       "      <td>12.0</td>\n",
       "      <td>0.0</td>\n",
       "      <td>0.0</td>\n",
       "      <td>5.0</td>\n",
       "      <td>0.0</td>\n",
       "      <td>5.0</td>\n",
       "      <td>0.0</td>\n",
       "      <td>sim</td>\n",
       "      <td>Sim</td>\n",
       "    </tr>\n",
       "    <tr>\n",
       "      <th>4423</th>\n",
       "      <td>SANTA CLARA IV - SEDE</td>\n",
       "      <td>5.00</td>\n",
       "      <td>0.014400</td>\n",
       "      <td>terra</td>\n",
       "      <td>100.0</td>\n",
       "      <td>2007</td>\n",
       "      <td>dessedentação animal</td>\n",
       "      <td>TO</td>\n",
       "      <td>DOIS IRMÃOS DO TOCANTINS</td>\n",
       "      <td>baixo</td>\n",
       "      <td>...</td>\n",
       "      <td>1.0</td>\n",
       "      <td>12.0</td>\n",
       "      <td>0.0</td>\n",
       "      <td>0.0</td>\n",
       "      <td>0.0</td>\n",
       "      <td>0.0</td>\n",
       "      <td>1.0</td>\n",
       "      <td>0.0</td>\n",
       "      <td>sim</td>\n",
       "      <td>Sim</td>\n",
       "    </tr>\n",
       "    <tr>\n",
       "      <th>4426</th>\n",
       "      <td>HEXA I</td>\n",
       "      <td>12.00</td>\n",
       "      <td>0.961720</td>\n",
       "      <td>terra</td>\n",
       "      <td>333.0</td>\n",
       "      <td>2016</td>\n",
       "      <td>irrigação</td>\n",
       "      <td>TO</td>\n",
       "      <td>ALVORADA</td>\n",
       "      <td>médio</td>\n",
       "      <td>...</td>\n",
       "      <td>8.0</td>\n",
       "      <td>19.0</td>\n",
       "      <td>0.0</td>\n",
       "      <td>0.0</td>\n",
       "      <td>3.0</td>\n",
       "      <td>0.0</td>\n",
       "      <td>5.0</td>\n",
       "      <td>0.0</td>\n",
       "      <td>sim</td>\n",
       "      <td>Sim</td>\n",
       "    </tr>\n",
       "    <tr>\n",
       "      <th>4427</th>\n",
       "      <td>ESPLANADA I</td>\n",
       "      <td>6.00</td>\n",
       "      <td>0.028730</td>\n",
       "      <td>terra</td>\n",
       "      <td>161.0</td>\n",
       "      <td>1988</td>\n",
       "      <td>irrigação</td>\n",
       "      <td>TO</td>\n",
       "      <td>FIGUEIRÓPOLIS</td>\n",
       "      <td>médio</td>\n",
       "      <td>...</td>\n",
       "      <td>5.0</td>\n",
       "      <td>19.0</td>\n",
       "      <td>0.0</td>\n",
       "      <td>0.0</td>\n",
       "      <td>0.0</td>\n",
       "      <td>0.0</td>\n",
       "      <td>5.0</td>\n",
       "      <td>0.0</td>\n",
       "      <td>sim</td>\n",
       "      <td>Sim</td>\n",
       "    </tr>\n",
       "    <tr>\n",
       "      <th>4428</th>\n",
       "      <td>ESPLANADA III</td>\n",
       "      <td>5.30</td>\n",
       "      <td>0.017230</td>\n",
       "      <td>terra</td>\n",
       "      <td>76.0</td>\n",
       "      <td>1988</td>\n",
       "      <td>irrigação</td>\n",
       "      <td>TO</td>\n",
       "      <td>FIGUEIRÓPOLIS</td>\n",
       "      <td>médio</td>\n",
       "      <td>...</td>\n",
       "      <td>5.0</td>\n",
       "      <td>19.0</td>\n",
       "      <td>0.0</td>\n",
       "      <td>0.0</td>\n",
       "      <td>0.0</td>\n",
       "      <td>0.0</td>\n",
       "      <td>5.0</td>\n",
       "      <td>0.0</td>\n",
       "      <td>sim</td>\n",
       "      <td>Sim</td>\n",
       "    </tr>\n",
       "  </tbody>\n",
       "</table>\n",
       "<p>12 rows × 36 columns</p>\n",
       "</div>"
      ],
      "text/plain": [
       "                      Barragem_Nome  Barragem_Altura_AcimaNivelTerreno  \\\n",
       "2148  Barragem da Fazenda Rio Verde                               8.00   \n",
       "2813                          Zumbi                              18.00   \n",
       "2818                      Guararema                              30.00   \n",
       "3342                          PRATA                              19.49   \n",
       "3478                        URUCARÁ                              19.40   \n",
       "4271                     JACURUTU I                               9.50   \n",
       "4389           ESTRELA SOLITÁRIA II                              15.30   \n",
       "4394                   ÁGUAS CLARAS                               9.20   \n",
       "4423          SANTA CLARA IV - SEDE                               5.00   \n",
       "4426                         HEXA I                              12.00   \n",
       "4427                    ESPLANADA I                               6.00   \n",
       "4428                  ESPLANADA III                               5.30   \n",
       "\n",
       "      Barragem_Capacidade   Barragem_Principal_Tipo_material  \\\n",
       "2148             1.168129                              terra   \n",
       "2813             1.700000                              terra   \n",
       "2818            20.700000  concreto compactado a rolo  (ccr)   \n",
       "3342             9.321000                              terra   \n",
       "3478             4.524000                              terra   \n",
       "4271             0.053000                              terra   \n",
       "4389             0.015000                              terra   \n",
       "4394             0.068890                              terra   \n",
       "4423             0.014400                              terra   \n",
       "4426             0.961720                              terra   \n",
       "4427             0.028730                              terra   \n",
       "4428             0.017230                              terra   \n",
       "\n",
       "      Barragem_Principal_comprimento  Construcao_Data_Fim  \\\n",
       "2148                           445.0  1997-10-17 00:00:00   \n",
       "2813                           280.0                 1975   \n",
       "2818                           180.0                 2001   \n",
       "3342                           530.2                 2006   \n",
       "3478                           379.0                 2006   \n",
       "4271                           135.0                 2012   \n",
       "4389                           332.0                 2014   \n",
       "4394                           202.5                 2014   \n",
       "4423                           100.0                 2007   \n",
       "4426                           333.0                 2016   \n",
       "4427                           161.0                 1988   \n",
       "4428                            76.0                 1988   \n",
       "\n",
       "             Uso_principal Barragem_UF        Barragem_Municipio  \\\n",
       "2148             irrigação          MT                   SORRISO   \n",
       "2813  abastecimento humano          PE                 Camutanga   \n",
       "2818  abastecimento humano          PE                    Itambé   \n",
       "3342             irrigação          RN                 Goianinha   \n",
       "3478             irrigação          RN                      Arês   \n",
       "4271  dessedentação animal          TO   PONTE ALTA DO TOCANTINS   \n",
       "4389           aquicultura          TO                  ARAPOEMA   \n",
       "4394  dessedentação animal          TO  BRASILÂNDIA DO TOCANTINS   \n",
       "4423  dessedentação animal          TO  DOIS IRMÃOS DO TOCANTINS   \n",
       "4426             irrigação          TO                  ALVORADA   \n",
       "4427             irrigação          TO             FIGUEIRÓPOLIS   \n",
       "4428             irrigação          TO             FIGUEIRÓPOLIS   \n",
       "\n",
       "     Barragem_Categoria_Risco  ... CRI - ∑ pontuação EC CRI - ∑ pontuação PSB  \\\n",
       "2148                    médio  ...                  4.0                  21.0   \n",
       "2813                     alto  ...                 36.0                  33.0   \n",
       "2818                    baixo  ...                  9.0                  14.0   \n",
       "3342                    baixo  ...                  0.0                  12.0   \n",
       "3478                    médio  ...                 11.0                  12.0   \n",
       "4271                    baixo  ...                  8.0                   5.0   \n",
       "4389                    médio  ...                 14.0                  14.0   \n",
       "4394                    médio  ...                 10.0                  12.0   \n",
       "4423                    baixo  ...                  1.0                  12.0   \n",
       "4426                    médio  ...                  8.0                  19.0   \n",
       "4427                    médio  ...                  5.0                  19.0   \n",
       "4428                    médio  ...                  5.0                  19.0   \n",
       "\n",
       "     CRI - pontuação Confiabialidade das estruturas extravasoras  \\\n",
       "2148                                                0.0            \n",
       "2813                                               10.0            \n",
       "2818                                                0.0            \n",
       "3342                                                0.0            \n",
       "3478                                                4.0            \n",
       "4271                                                0.0            \n",
       "4389                                                4.0            \n",
       "4394                                                0.0            \n",
       "4423                                                0.0            \n",
       "4426                                                0.0            \n",
       "4427                                                0.0            \n",
       "4428                                                0.0            \n",
       "\n",
       "     CRI - pontuação Confiabialidade das estruturas de adução  \\\n",
       "2148                                                0.0         \n",
       "2813                                                6.0         \n",
       "2818                                                6.0         \n",
       "3342                                                0.0         \n",
       "3478                                                0.0         \n",
       "4271                                                0.0         \n",
       "4389                                                0.0         \n",
       "4394                                                0.0         \n",
       "4423                                                0.0         \n",
       "4426                                                0.0         \n",
       "4427                                                0.0         \n",
       "4428                                                0.0         \n",
       "\n",
       "      CRI - pontuação Percolação CRI - pontuação Deformações e recalques  \\\n",
       "2148                         3.0                                     0.0   \n",
       "2813                         5.0                                     8.0   \n",
       "2818                         3.0                                     0.0   \n",
       "3342                         0.0                                     0.0   \n",
       "3478                         5.0                                     1.0   \n",
       "4271                         3.0                                     0.0   \n",
       "4389                         3.0                                     0.0   \n",
       "4394                         5.0                                     0.0   \n",
       "4423                         0.0                                     0.0   \n",
       "4426                         3.0                                     0.0   \n",
       "4427                         0.0                                     0.0   \n",
       "4428                         0.0                                     0.0   \n",
       "\n",
       "     CRI - pontuação Deterioração taludes CRI - pontuação  Eclusa  \\\n",
       "2148                                  1.0                     0.0   \n",
       "2813                                  7.0                     0.0   \n",
       "2818                                  0.0                     0.0   \n",
       "3342                                  0.0                     0.0   \n",
       "3478                                  1.0                     0.0   \n",
       "4271                                  5.0                     0.0   \n",
       "4389                                  5.0                     0.0   \n",
       "4394                                  5.0                     0.0   \n",
       "4423                                  1.0                     0.0   \n",
       "4426                                  5.0                     0.0   \n",
       "4427                                  5.0                     0.0   \n",
       "4428                                  5.0                     0.0   \n",
       "\n",
       "     Submetida à algum regulamento?  \\\n",
       "2148                            Sim   \n",
       "2813                            Sim   \n",
       "2818                            Sim   \n",
       "3342                            sim   \n",
       "3478                            sim   \n",
       "4271                            sim   \n",
       "4389                            sim   \n",
       "4394                            sim   \n",
       "4423                            sim   \n",
       "4426                            sim   \n",
       "4427                            sim   \n",
       "4428                            sim   \n",
       "\n",
       "     Houve alguma fiscalização no período deste RSB?  \n",
       "2148                                             Não  \n",
       "2813                                             Não  \n",
       "2818                                             Não  \n",
       "3342                                             Não  \n",
       "3478                                             Não  \n",
       "4271                                             Sim  \n",
       "4389                                             Sim  \n",
       "4394                                             Sim  \n",
       "4423                                             Sim  \n",
       "4426                                             Sim  \n",
       "4427                                             Sim  \n",
       "4428                                             Sim  \n",
       "\n",
       "[12 rows x 36 columns]"
      ]
     },
     "execution_count": 432,
     "metadata": {},
     "output_type": "execute_result"
    }
   ],
   "source": [
    "#check what is left:\n",
    "dropnas = df.dropna()\n",
    "dropnas # only 567 dams have every all the information filled.\n",
    "dropnas.head(20)"
   ]
  },
  {
   "cell_type": "code",
   "execution_count": null,
   "metadata": {},
   "outputs": [],
   "source": [
    "#consider fill with means when possible."
   ]
  }
 ],
 "metadata": {
  "kernelspec": {
   "display_name": "Python 3",
   "language": "python",
   "name": "python3"
  },
  "language_info": {
   "codemirror_mode": {
    "name": "ipython",
    "version": 3
   },
   "file_extension": ".py",
   "mimetype": "text/x-python",
   "name": "python",
   "nbconvert_exporter": "python",
   "pygments_lexer": "ipython3",
   "version": "3.7.4"
  }
 },
 "nbformat": 4,
 "nbformat_minor": 2
}
