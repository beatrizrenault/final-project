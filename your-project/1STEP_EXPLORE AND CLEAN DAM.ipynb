{
 "cells": [
  {
   "cell_type": "markdown",
   "metadata": {},
   "source": [
    "## Context and goals:\n",
    "Brazil has 24.000 dams. The government is making a effort to control and label the dams according to low, medium and high risk, but there are two big problems: 1. the risk criteria demands several features that are hard to collect and measure; 2. the governemnt does not have enough regulatory institutions and qualified workers to visit all of them, collect information and label the risk manually.  \n",
    "Therefore, this project goal will be pre-label as many dams as possible, so the government can focus on prioritize the inspection on the higher risk ones. "
   ]
  },
  {
   "cell_type": "markdown",
   "metadata": {},
   "source": [
    "## To dos:\n",
    "\n",
    "1. Drop useless columns (ok)\n",
    "2. Count nulls (ok)\n",
    "3. Text cleaning (ok)\n",
    "4. Fill remaining nulls w/ averages (consider average per the subgroup)\n",
    "\n",
    "1. prepare categorical data (one-hot- enconding)\n",
    "2. organize numerical data (standard scaler)\n",
    "3. study the 'less features' thing\n",
    "\n",
    "1. to go further: there are only 10 accidents in BR (I can't find the number of incidents). Is it possible to predict the probabilities for the next one with the poor dataset that I have?\n"
   ]
  },
  {
   "cell_type": "markdown",
   "metadata": {},
   "source": [
    "## Libraries and Dataframe"
   ]
  },
  {
   "cell_type": "code",
   "execution_count": 1,
   "metadata": {},
   "outputs": [],
   "source": [
    "import pandas as pd\n",
    "import numpy as np\n",
    "import seaborn as sns"
   ]
  },
  {
   "cell_type": "code",
   "execution_count": 2,
   "metadata": {},
   "outputs": [],
   "source": [
    "pd.set_option('display.max_rows', 100)\n",
    "df = pd.read_excel('SNISB 2018.xlsx', sheet_name='Cadastro')"
   ]
  },
  {
   "cell_type": "code",
   "execution_count": 3,
   "metadata": {},
   "outputs": [],
   "source": [
    "#df.isnull().sum().sort_values()"
   ]
  },
  {
   "cell_type": "markdown",
   "metadata": {},
   "source": [
    "## drop columns\n",
    "not necesseary features to execute machine learning\n",
    "(but necessary for statiscal graphs, specially to show the precarious control situation)"
   ]
  },
  {
   "cell_type": "code",
   "execution_count": 4,
   "metadata": {},
   "outputs": [],
   "source": [
    "#deleted because this is register info\n",
    "df.drop(columns=['Codigo_barragem_Fiscalizador', 'Autorizacao_Numero',\n",
    "                 'CNARH_Numero', 'Barragem_NomeSecundario', 'Empreendedor_Nome',\n",
    "                 'Empreendedor_Sigla', 'Empreendedor_CNPJ',\n",
    "       'Empreendedor_CPF', 'Empreendedor_endereco', 'Empreendedor _e-mail',\n",
    "       'Empreendedor_telefone', 'Empreendedor_telefone alternativo',             \n",
    "                 'Cursodagua_barrado', 'Bacia_Hidrografica', 'UnidadeGestaoRecursosHidricos',\n",
    "                 'Datum', 'Empreendedor Identificado?'], inplace=True)"
   ]
  },
  {
   "cell_type": "code",
   "execution_count": 5,
   "metadata": {},
   "outputs": [],
   "source": [
    "#deleted because this is unnecessary info for machine learning\n",
    "df.drop(columns=['Codigo_barragem_SNISB','Autorizacao_Data_emissao_publicacao',\n",
    "           'Autorizacao_Data_validade','Uso_Complementar','Regiao_Hidrografica_CNRH','Latitude_dec',\n",
    "           'Longitude_dec','Dominio_Curso_Dagua','DataUltimaInspecao','TipoUltimaInspecao',\n",
    "           'ComentariosObservacoes','Órgão fiscalizador','Barragem Pública ou particular','Barragem Outorgada?',\n",
    "           'Tem informação de altura?','Tem informação de volume?','Tem informação de altura e volume?',\n",
    "           'classificada quanto ao CRI?','classificada quanto ao DPA?','Houve alguma inspeção no período deste RSB?',\n",
    "           'Cadastrada no SNISB?','N','sequência'], inplace=True)"
   ]
  },
  {
   "cell_type": "code",
   "execution_count": 6,
   "metadata": {},
   "outputs": [],
   "source": [
    "#deleted because there are too many nulls when filtering by risk criteria\n",
    "df.drop(columns=['Construcao_Data_Inicio', 'Barragem_Altura_AcimaBaseFundacao','Classe Residuo', 'Barragem_nivel_de_perigo',\n",
    "                 'Barragem_Classe', 'DataUltimaFiscalização', 'Barragem_Principal_Tipo_estrutural','VazaoProjeto_OrgaoExtravasor',\n",
    "                 'CriterioVazaoProjeto_OrgaoExtravasor','ExtravasorControle','Barragem_autuada?', 'Construcao_Data_Fim',\n",
    "                 'CRI - ∑ pontuação CT','CRI - ∑ pontuação EC', 'CRI - ∑ pontuação PSB','CRI - pontuação Confiabialidade das estruturas extravasoras',\n",
    "                 'CRI - pontuação Confiabialidade das estruturas de adução','CRI - pontuação Percolação', \n",
    "                 'CRI - pontuação Deformações e recalques','CRI - pontuação Deterioração taludes', 'CRI - pontuação  Eclusa'],inplace = True)\n"
   ]
  },
  {
   "cell_type": "markdown",
   "metadata": {},
   "source": [
    "## Dtype organization"
   ]
  },
  {
   "cell_type": "code",
   "execution_count": 7,
   "metadata": {},
   "outputs": [],
   "source": [
    "# ISSUE !!!! FORM SUBMITTED.\n",
    "# I only want (and really need) the years,but this series is a mess. I don't know how to loop that.\n",
    "\n",
    "#df['Construcao_Data_Fim'].unique()"
   ]
  },
  {
   "cell_type": "code",
   "execution_count": 8,
   "metadata": {},
   "outputs": [],
   "source": [
    "df[\"Barragem_Altura_AcimaNivelTerreno\"] = pd.to_numeric(df[\"Barragem_Altura_AcimaNivelTerreno\"], errors='coerce')"
   ]
  },
  {
   "cell_type": "code",
   "execution_count": 9,
   "metadata": {},
   "outputs": [],
   "source": [
    "df[\"Barragem_Capacidade\"] = pd.to_numeric(df[\"Barragem_Capacidade\"], errors='coerce')"
   ]
  },
  {
   "cell_type": "code",
   "execution_count": 10,
   "metadata": {},
   "outputs": [],
   "source": [
    "#df.dtypes"
   ]
  },
  {
   "cell_type": "markdown",
   "metadata": {},
   "source": [
    "## Text cleaning "
   ]
  },
  {
   "cell_type": "code",
   "execution_count": 11,
   "metadata": {},
   "outputs": [
    {
     "data": {
      "text/plain": [
       "10735"
      ]
     },
     "execution_count": 11,
     "metadata": {},
     "output_type": "execute_result"
    }
   ],
   "source": [
    "df['Barragem_Principal_Tipo_material'] = df['Barragem_Principal_Tipo_material'].str.lower()\n",
    "df['Barragem_Principal_Tipo_material'] = df['Barragem_Principal_Tipo_material'].replace('terra ','terra')\n",
    "df['Barragem_Principal_Tipo_material'] = df['Barragem_Principal_Tipo_material'].replace('alvenaria ','alvenaria')\n",
    "df['Barragem_Principal_Tipo_material'] = df['Barragem_Principal_Tipo_material'].replace('sem informação', np.nan)\n",
    "df['Barragem_Principal_Tipo_material'].value_counts()\n",
    "df['Barragem_Principal_Tipo_material'].isnull().sum() #10735 nulls"
   ]
  },
  {
   "cell_type": "code",
   "execution_count": 12,
   "metadata": {},
   "outputs": [
    {
     "data": {
      "text/plain": [
       "0"
      ]
     },
     "execution_count": 12,
     "metadata": {},
     "output_type": "execute_result"
    }
   ],
   "source": [
    "df['Uso_principal'] = df['Uso_principal'].str.lower()\n",
    "df['Uso_principal'].value_counts()\n",
    "df['Uso_principal'].isnull().sum() #0 nulls"
   ]
  },
  {
   "cell_type": "code",
   "execution_count": 13,
   "metadata": {},
   "outputs": [
    {
     "data": {
      "text/plain": [
       "0"
      ]
     },
     "execution_count": 13,
     "metadata": {},
     "output_type": "execute_result"
    }
   ],
   "source": [
    "df['Barragem_UF'] = df['Barragem_UF'].str.upper()\n",
    "df['Barragem_UF'].value_counts()\n",
    "df['Barragem_UF'].isnull().sum()"
   ]
  },
  {
   "cell_type": "code",
   "execution_count": 14,
   "metadata": {},
   "outputs": [
    {
     "data": {
      "text/plain": [
       "12518"
      ]
     },
     "execution_count": 14,
     "metadata": {},
     "output_type": "execute_result"
    }
   ],
   "source": [
    "df['Barragem_Categoria_Risco'] = df['Barragem_Categoria_Risco'].str.lower()\n",
    "df['Barragem_Categoria_Risco'] = df['Barragem_Categoria_Risco'].replace('médio ','médio')\n",
    "df['Barragem_Categoria_Risco'] = df['Barragem_Categoria_Risco'].replace('baixo ','baixo')\n",
    "df['Barragem_Categoria_Risco'] = df['Barragem_Categoria_Risco'].replace('não classificada', np.nan)\n",
    "df['Barragem_Categoria_Risco'].value_counts()\n",
    "df['Barragem_Categoria_Risco'].isnull().sum() #12518 nulls"
   ]
  },
  {
   "cell_type": "code",
   "execution_count": 15,
   "metadata": {},
   "outputs": [
    {
     "data": {
      "text/plain": [
       "11027"
      ]
     },
     "execution_count": 15,
     "metadata": {},
     "output_type": "execute_result"
    }
   ],
   "source": [
    "df['Barragem_Dano_Potencial_Associado'] = df['Barragem_Dano_Potencial_Associado'].str.lower()\n",
    "df['Barragem_Dano_Potencial_Associado'] = df['Barragem_Dano_Potencial_Associado'].replace('médio ','médio')\n",
    "df['Barragem_Dano_Potencial_Associado'] = df['Barragem_Dano_Potencial_Associado'].replace('baixo ','baixo')\n",
    "df['Barragem_Dano_Potencial_Associado'] = df['Barragem_Dano_Potencial_Associado'].replace('não classificada', np.nan)\n",
    "df['Barragem_Dano_Potencial_Associado'].unique()\n",
    "df['Barragem_Dano_Potencial_Associado'].value_counts()\n",
    "df['Barragem_Dano_Potencial_Associado'].isnull().sum() #11027 nulls"
   ]
  },
  {
   "cell_type": "code",
   "execution_count": 16,
   "metadata": {},
   "outputs": [
    {
     "data": {
      "text/plain": [
       "11199"
      ]
     },
     "execution_count": 16,
     "metadata": {},
     "output_type": "execute_result"
    }
   ],
   "source": [
    "df['TemPAE'] = df['TemPAE'].str.lower()\n",
    "df['TemPAE'] = df['TemPAE'].replace('não ','não')\n",
    "df['TemPAE'] = df['TemPAE'].replace('nãose aplica','não se aplica')\n",
    "df['TemPAE'] = df['TemPAE'].replace('sem informação',np.nan)\n",
    "df['TemPAE'].value_counts()\n",
    "df['TemPAE'].isnull().sum() #11199 nulls"
   ]
  },
  {
   "cell_type": "code",
   "execution_count": 17,
   "metadata": {},
   "outputs": [
    {
     "data": {
      "text/plain": [
       "11140"
      ]
     },
     "execution_count": 17,
     "metadata": {},
     "output_type": "execute_result"
    }
   ],
   "source": [
    "df['TemPlanoSeguranca'] = df['TemPlanoSeguranca'].str.lower()\n",
    "df['TemPlanoSeguranca'] = df['TemPlanoSeguranca'].replace('sem informação',np.nan)\n",
    "df['TemPlanoSeguranca'].value_counts()\n",
    "df['TemPlanoSeguranca'].isnull().sum() #11140 nulls"
   ]
  },
  {
   "cell_type": "code",
   "execution_count": 18,
   "metadata": {},
   "outputs": [
    {
     "data": {
      "text/plain": [
       "11883"
      ]
     },
     "execution_count": 18,
     "metadata": {},
     "output_type": "execute_result"
    }
   ],
   "source": [
    "df['TemRevisaoPeriodica'] = df['TemRevisaoPeriodica'].str.lower()\n",
    "df['TemRevisaoPeriodica'] = df['TemRevisaoPeriodica'].replace('sem informação',np.nan)\n",
    "df['TemRevisaoPeriodica'].value_counts()\n",
    "df['TemRevisaoPeriodica'].isnull().sum() #11883 nulls"
   ]
  },
  {
   "cell_type": "code",
   "execution_count": 19,
   "metadata": {},
   "outputs": [],
   "source": [
    "#df['ExtravasorControle'].value_counts()\n",
    "#df['ExtravasorControle'] = df['ExtravasorControle'].str.lower()\n",
    "#df['ExtravasorControle'] = df['ExtravasorControle'].replace('comporta manual','com comporta de acionamento mecânico')\n",
    "#df['ExtravasorControle'] = df['ExtravasorControle'].replace('sem informação',np.nan)\n",
    "#df['ExtravasorControle'].isnull().sum()\n"
   ]
  },
  {
   "cell_type": "code",
   "execution_count": 20,
   "metadata": {},
   "outputs": [
    {
     "data": {
      "text/plain": [
       "13005"
      ]
     },
     "execution_count": 20,
     "metadata": {},
     "output_type": "execute_result"
    }
   ],
   "source": [
    "df['TemProjetoExecutivo'] = df['TemProjetoExecutivo'].str.lower()\n",
    "df['TemProjetoExecutivo'] = df['TemProjetoExecutivo'].replace('não ','não')\n",
    "df['TemProjetoExecutivo'] = df['TemProjetoExecutivo'].replace('sim ','sim')\n",
    "df['TemProjetoExecutivo'] = df['TemProjetoExecutivo'].replace('sem informação',np.nan)\n",
    "df['TemProjetoExecutivo'].value_counts()\n",
    "df['TemProjetoExecutivo'].isnull().sum() #13005"
   ]
  },
  {
   "cell_type": "code",
   "execution_count": 21,
   "metadata": {},
   "outputs": [
    {
     "data": {
      "text/plain": [
       "array(['não', 'sim', nan], dtype=object)"
      ]
     },
     "execution_count": 21,
     "metadata": {},
     "output_type": "execute_result"
    }
   ],
   "source": [
    "df['TemProjetoComo construido'] = df['TemProjetoComo construido'].str.lower()\n",
    "df['TemProjetoComo construido'] = df['TemProjetoComo construido'].replace('não ','não')\n",
    "df['TemProjetoComo construido'] = df['TemProjetoComo construido'].replace('sem informação',np.nan)\n",
    "df['TemProjetoComo construido'].isnull().sum() #11314\n",
    "df['TemProjetoComo construido'].unique()"
   ]
  },
  {
   "cell_type": "code",
   "execution_count": 22,
   "metadata": {},
   "outputs": [
    {
     "data": {
      "text/plain": [
       "12809"
      ]
     },
     "execution_count": 22,
     "metadata": {},
     "output_type": "execute_result"
    }
   ],
   "source": [
    "df['TemProjetoBasico'] = df['TemProjetoBasico'].str.lower()\n",
    "df['TemProjetoBasico'] = df['TemProjetoBasico'].replace('não ','não')\n",
    "df['TemProjetoBasico'] = df['TemProjetoBasico'].replace('sem informação',np.nan)\n",
    "df['TemProjetoBasico'].unique()\n",
    "df['TemProjetoBasico'].isnull().sum() #12809"
   ]
  },
  {
   "cell_type": "code",
   "execution_count": 23,
   "metadata": {},
   "outputs": [
    {
     "data": {
      "text/plain": [
       "13003"
      ]
     },
     "execution_count": 23,
     "metadata": {},
     "output_type": "execute_result"
    }
   ],
   "source": [
    "df['TemProjetoConceitual'] = df['TemProjetoConceitual'].str.lower()\n",
    "df['TemProjetoConceitual'] = df['TemProjetoConceitual'].replace('não ','não')\n",
    "df['TemProjetoConceitual'] = df['TemProjetoConceitual'].replace('sem informação',np.nan)\n",
    "df['TemProjetoConceitual'].unique()\n",
    "df['TemProjetoConceitual'].isnull().sum() #13003"
   ]
  },
  {
   "cell_type": "code",
   "execution_count": 24,
   "metadata": {},
   "outputs": [
    {
     "data": {
      "text/plain": [
       "564"
      ]
     },
     "execution_count": 24,
     "metadata": {},
     "output_type": "execute_result"
    }
   ],
   "source": [
    "df['TemEclusa'] = df['TemEclusa'].str.lower()\n",
    "df['TemEclusa'] = df['TemEclusa'].replace('não ','não')\n",
    "df['TemEclusa'] = df['TemEclusa'].replace('sem informação',np.nan)\n",
    "df['TemEclusa'].unique()\n",
    "df['TemEclusa'].isnull().sum() #564"
   ]
  },
  {
   "cell_type": "code",
   "execution_count": 25,
   "metadata": {},
   "outputs": [
    {
     "data": {
      "text/plain": [
       "0"
      ]
     },
     "execution_count": 25,
     "metadata": {},
     "output_type": "execute_result"
    }
   ],
   "source": [
    "df['Barragem_FasedeVida'] = df['Barragem_FasedeVida'].str.lower()\n",
    "df['Barragem_FasedeVida'].unique()\n",
    "df['Barragem_FasedeVida'].isnull().sum() #0"
   ]
  },
  {
   "cell_type": "code",
   "execution_count": 26,
   "metadata": {},
   "outputs": [
    {
     "data": {
      "text/plain": [
       "10812"
      ]
     },
     "execution_count": 26,
     "metadata": {},
     "output_type": "execute_result"
    }
   ],
   "source": [
    "df['ReguladaPNSB'] = df['ReguladaPNSB'].str.lower()\n",
    "df['ReguladaPNSB'] = df['ReguladaPNSB'].replace('não ','não')\n",
    "df['ReguladaPNSB'] = df['ReguladaPNSB'].replace('sem informação',np.nan)\n",
    "df['ReguladaPNSB'].unique()\n",
    "df['ReguladaPNSB'].isnull().sum() #10812"
   ]
  },
  {
   "cell_type": "code",
   "execution_count": 27,
   "metadata": {},
   "outputs": [],
   "source": [
    "#df['Barragem_autuada?'] = df['Barragem_autuada?'].str.lower()\n",
    "#df['Barragem_autuada?'] = df['Barragem_autuada?'].replace('sem informação',np.nan)\n",
    "#df['Barragem_autuada?'].unique()6h"
   ]
  },
  {
   "cell_type": "markdown",
   "metadata": {},
   "source": [
    "## drop nans "
   ]
  },
  {
   "cell_type": "code",
   "execution_count": 28,
   "metadata": {},
   "outputs": [],
   "source": [
    "df = df.dropna(subset=['Barragem_Categoria_Risco'])\n",
    "df = df.dropna(subset=['ReguladaPNSB'])\n",
    "df = df.dropna(subset=['Barragem_Altura_AcimaNivelTerreno', 'Barragem_Principal_comprimento'])"
   ]
  },
  {
   "cell_type": "code",
   "execution_count": 29,
   "metadata": {},
   "outputs": [
    {
     "data": {
      "text/plain": [
       "<matplotlib.axes._subplots.AxesSubplot at 0x11ee80810>"
      ]
     },
     "execution_count": 29,
     "metadata": {},
     "output_type": "execute_result"
    },
    {
     "data": {
      "image/png": "[encoded data removed]",
      "text/plain": [
       "<Figure size 1800x720 with 2 Axes>"
      ]
     },
     "metadata": {
      "needs_background": "light"
     },
     "output_type": "display_data"
    }
   ],
   "source": [
    "import missingno as msno\n",
    "msno.matrix(df)"
   ]
  },
  {
   "cell_type": "code",
   "execution_count": 33,
   "metadata": {},
   "outputs": [
    {
     "data": {
      "text/html": [
       "<div>\n",
       "<style scoped>\n",
       "    .dataframe tbody tr th:only-of-type {\n",
       "        vertical-align: middle;\n",
       "    }\n",
       "\n",
       "    .dataframe tbody tr th {\n",
       "        vertical-align: top;\n",
       "    }\n",
       "\n",
       "    .dataframe thead th {\n",
       "        text-align: right;\n",
       "    }\n",
       "</style>\n",
       "<table border=\"1\" class=\"dataframe\">\n",
       "  <thead>\n",
       "    <tr style=\"text-align: right;\">\n",
       "      <th></th>\n",
       "      <th>Barragem_Nome</th>\n",
       "      <th>Barragem_Altura_AcimaNivelTerreno</th>\n",
       "      <th>Barragem_Capacidade</th>\n",
       "      <th>Barragem_Principal_Tipo_material</th>\n",
       "      <th>Barragem_Principal_comprimento</th>\n",
       "      <th>Uso_principal</th>\n",
       "      <th>Barragem_UF</th>\n",
       "      <th>Barragem_Municipio</th>\n",
       "      <th>Barragem_Categoria_Risco</th>\n",
       "      <th>Barragem_Dano_Potencial_Associado</th>\n",
       "      <th>...</th>\n",
       "      <th>TemRevisaoPeriodica</th>\n",
       "      <th>TemProjetoExecutivo</th>\n",
       "      <th>TemProjetoComo construido</th>\n",
       "      <th>TemProjetoBasico</th>\n",
       "      <th>TemProjetoConceitual</th>\n",
       "      <th>TemEclusa</th>\n",
       "      <th>Barragem_FasedeVida</th>\n",
       "      <th>ReguladaPNSB</th>\n",
       "      <th>Submetida à algum regulamento?</th>\n",
       "      <th>Houve alguma fiscalização no período deste RSB?</th>\n",
       "    </tr>\n",
       "  </thead>\n",
       "  <tbody>\n",
       "    <tr>\n",
       "      <th>239</th>\n",
       "      <td>Caldeirões</td>\n",
       "      <td>29.00</td>\n",
       "      <td>18.790</td>\n",
       "      <td>terra</td>\n",
       "      <td>296.84</td>\n",
       "      <td>irrigação</td>\n",
       "      <td>AL</td>\n",
       "      <td>Palmeira dos Índios</td>\n",
       "      <td>médio</td>\n",
       "      <td>alto</td>\n",
       "      <td>...</td>\n",
       "      <td>não</td>\n",
       "      <td>não</td>\n",
       "      <td>não</td>\n",
       "      <td>sim</td>\n",
       "      <td>não</td>\n",
       "      <td>não</td>\n",
       "      <td>operação</td>\n",
       "      <td>sim</td>\n",
       "      <td>Sim</td>\n",
       "      <td>Sim</td>\n",
       "    </tr>\n",
       "    <tr>\n",
       "      <th>240</th>\n",
       "      <td>Cocorobó</td>\n",
       "      <td>33.50</td>\n",
       "      <td>245.376</td>\n",
       "      <td>terra</td>\n",
       "      <td>1320.00</td>\n",
       "      <td>abastecimento humano</td>\n",
       "      <td>BA</td>\n",
       "      <td>Canudos/Euclides da Cunha</td>\n",
       "      <td>alto</td>\n",
       "      <td>alto</td>\n",
       "      <td>...</td>\n",
       "      <td>não</td>\n",
       "      <td>não</td>\n",
       "      <td>sim</td>\n",
       "      <td>não</td>\n",
       "      <td>não</td>\n",
       "      <td>não</td>\n",
       "      <td>operação</td>\n",
       "      <td>sim</td>\n",
       "      <td>Sim</td>\n",
       "      <td>Sim</td>\n",
       "    </tr>\n",
       "    <tr>\n",
       "      <th>241</th>\n",
       "      <td>Rio Paranã</td>\n",
       "      <td>33.00</td>\n",
       "      <td>170.000</td>\n",
       "      <td>terra</td>\n",
       "      <td>1760.00</td>\n",
       "      <td>irrigação</td>\n",
       "      <td>GO</td>\n",
       "      <td>Formosa e São João D’Aliança</td>\n",
       "      <td>médio</td>\n",
       "      <td>alto</td>\n",
       "      <td>...</td>\n",
       "      <td>não</td>\n",
       "      <td>sim</td>\n",
       "      <td>não</td>\n",
       "      <td>não</td>\n",
       "      <td>não</td>\n",
       "      <td>não</td>\n",
       "      <td>operação</td>\n",
       "      <td>sim</td>\n",
       "      <td>Sim</td>\n",
       "      <td>Sim</td>\n",
       "    </tr>\n",
       "    <tr>\n",
       "      <th>242</th>\n",
       "      <td>Berizal</td>\n",
       "      <td>41.00</td>\n",
       "      <td>339.390</td>\n",
       "      <td>terra</td>\n",
       "      <td>520.00</td>\n",
       "      <td>regularização de vazão</td>\n",
       "      <td>MG</td>\n",
       "      <td>Berizal e São João do Paraíso</td>\n",
       "      <td>não se aplica</td>\n",
       "      <td>alto</td>\n",
       "      <td>...</td>\n",
       "      <td>não</td>\n",
       "      <td>não</td>\n",
       "      <td>não</td>\n",
       "      <td>não</td>\n",
       "      <td>não</td>\n",
       "      <td>não</td>\n",
       "      <td>construção</td>\n",
       "      <td>sim</td>\n",
       "      <td>Sim</td>\n",
       "      <td>Não</td>\n",
       "    </tr>\n",
       "    <tr>\n",
       "      <th>243</th>\n",
       "      <td>Gasparino</td>\n",
       "      <td>23.33</td>\n",
       "      <td>48.608</td>\n",
       "      <td>concreto convencional</td>\n",
       "      <td>1074.34</td>\n",
       "      <td>abastecimento humano</td>\n",
       "      <td>BA</td>\n",
       "      <td>Coronel João Sá</td>\n",
       "      <td>médio</td>\n",
       "      <td>alto</td>\n",
       "      <td>...</td>\n",
       "      <td>não</td>\n",
       "      <td>não</td>\n",
       "      <td>não</td>\n",
       "      <td>sim</td>\n",
       "      <td>não</td>\n",
       "      <td>não</td>\n",
       "      <td>operação</td>\n",
       "      <td>sim</td>\n",
       "      <td>Sim</td>\n",
       "      <td>Sim</td>\n",
       "    </tr>\n",
       "    <tr>\n",
       "      <th>...</th>\n",
       "      <td>...</td>\n",
       "      <td>...</td>\n",
       "      <td>...</td>\n",
       "      <td>...</td>\n",
       "      <td>...</td>\n",
       "      <td>...</td>\n",
       "      <td>...</td>\n",
       "      <td>...</td>\n",
       "      <td>...</td>\n",
       "      <td>...</td>\n",
       "      <td>...</td>\n",
       "      <td>...</td>\n",
       "      <td>...</td>\n",
       "      <td>...</td>\n",
       "      <td>...</td>\n",
       "      <td>...</td>\n",
       "      <td>...</td>\n",
       "      <td>...</td>\n",
       "      <td>...</td>\n",
       "      <td>...</td>\n",
       "      <td>...</td>\n",
       "    </tr>\n",
       "    <tr>\n",
       "      <th>17599</th>\n",
       "      <td>Xingó</td>\n",
       "      <td>27.00</td>\n",
       "      <td>3800.000</td>\n",
       "      <td>terra-enrocamento</td>\n",
       "      <td>1030.00</td>\n",
       "      <td>hidrelétrica</td>\n",
       "      <td>SE</td>\n",
       "      <td>Piranhas/AL-Nordeste; Canindé de São Francisco...</td>\n",
       "      <td>baixo</td>\n",
       "      <td>alto</td>\n",
       "      <td>...</td>\n",
       "      <td>não</td>\n",
       "      <td>não</td>\n",
       "      <td>sim</td>\n",
       "      <td>não</td>\n",
       "      <td>não</td>\n",
       "      <td>não</td>\n",
       "      <td>operação</td>\n",
       "      <td>sim</td>\n",
       "      <td>sim</td>\n",
       "      <td>Não</td>\n",
       "    </tr>\n",
       "    <tr>\n",
       "      <th>17600</th>\n",
       "      <td>Ypê</td>\n",
       "      <td>18.00</td>\n",
       "      <td>14.380</td>\n",
       "      <td>terra-enrocamento</td>\n",
       "      <td>591.50</td>\n",
       "      <td>hidrelétrica</td>\n",
       "      <td>GO</td>\n",
       "      <td>Santa Helena de Goiás/GO-Centro Oeste</td>\n",
       "      <td>baixo</td>\n",
       "      <td>alto</td>\n",
       "      <td>...</td>\n",
       "      <td>não</td>\n",
       "      <td>sim</td>\n",
       "      <td>não</td>\n",
       "      <td>sim</td>\n",
       "      <td>não</td>\n",
       "      <td>não</td>\n",
       "      <td>operação</td>\n",
       "      <td>sim</td>\n",
       "      <td>sim</td>\n",
       "      <td>Não</td>\n",
       "    </tr>\n",
       "    <tr>\n",
       "      <th>17601</th>\n",
       "      <td>Ypê</td>\n",
       "      <td>14.00</td>\n",
       "      <td>14.380</td>\n",
       "      <td>terra-enrocamento</td>\n",
       "      <td>531.50</td>\n",
       "      <td>hidrelétrica</td>\n",
       "      <td>GO</td>\n",
       "      <td>Santa Helena de Goiás/GO-Centro Oeste</td>\n",
       "      <td>baixo</td>\n",
       "      <td>médio</td>\n",
       "      <td>...</td>\n",
       "      <td>não</td>\n",
       "      <td>sim</td>\n",
       "      <td>não</td>\n",
       "      <td>sim</td>\n",
       "      <td>não</td>\n",
       "      <td>não</td>\n",
       "      <td>operação</td>\n",
       "      <td>sim</td>\n",
       "      <td>sim</td>\n",
       "      <td>Não</td>\n",
       "    </tr>\n",
       "    <tr>\n",
       "      <th>17602</th>\n",
       "      <td>Ypê</td>\n",
       "      <td>12.00</td>\n",
       "      <td>14.380</td>\n",
       "      <td>terra-enrocamento</td>\n",
       "      <td>183.50</td>\n",
       "      <td>hidrelétrica</td>\n",
       "      <td>GO</td>\n",
       "      <td>Santa Helena de Goiás/GO-Centro Oeste</td>\n",
       "      <td>baixo</td>\n",
       "      <td>médio</td>\n",
       "      <td>...</td>\n",
       "      <td>não</td>\n",
       "      <td>sim</td>\n",
       "      <td>não</td>\n",
       "      <td>sim</td>\n",
       "      <td>não</td>\n",
       "      <td>não</td>\n",
       "      <td>operação</td>\n",
       "      <td>sim</td>\n",
       "      <td>sim</td>\n",
       "      <td>Não</td>\n",
       "    </tr>\n",
       "    <tr>\n",
       "      <th>17603</th>\n",
       "      <td>Zé Tunin</td>\n",
       "      <td>22.00</td>\n",
       "      <td>2.360</td>\n",
       "      <td>terra-enrocamento</td>\n",
       "      <td>103.00</td>\n",
       "      <td>hidrelétrica</td>\n",
       "      <td>MG</td>\n",
       "      <td>Astolfo Dutra/MG-Sudeste; Guarani/MG-Sudeste</td>\n",
       "      <td>baixo</td>\n",
       "      <td>alto</td>\n",
       "      <td>...</td>\n",
       "      <td>não</td>\n",
       "      <td>sim</td>\n",
       "      <td>não</td>\n",
       "      <td>sim</td>\n",
       "      <td>não</td>\n",
       "      <td>não</td>\n",
       "      <td>operação</td>\n",
       "      <td>sim</td>\n",
       "      <td>sim</td>\n",
       "      <td>Não</td>\n",
       "    </tr>\n",
       "  </tbody>\n",
       "</table>\n",
       "<p>2651 rows × 22 columns</p>\n",
       "</div>"
      ],
      "text/plain": [
       "      Barragem_Nome  Barragem_Altura_AcimaNivelTerreno  Barragem_Capacidade  \\\n",
       "239      Caldeirões                              29.00               18.790   \n",
       "240        Cocorobó                              33.50              245.376   \n",
       "241      Rio Paranã                              33.00              170.000   \n",
       "242         Berizal                              41.00              339.390   \n",
       "243       Gasparino                              23.33               48.608   \n",
       "...             ...                                ...                  ...   \n",
       "17599         Xingó                              27.00             3800.000   \n",
       "17600           Ypê                              18.00               14.380   \n",
       "17601           Ypê                              14.00               14.380   \n",
       "17602           Ypê                              12.00               14.380   \n",
       "17603      Zé Tunin                              22.00                2.360   \n",
       "\n",
       "      Barragem_Principal_Tipo_material  Barragem_Principal_comprimento  \\\n",
       "239                              terra                          296.84   \n",
       "240                              terra                         1320.00   \n",
       "241                              terra                         1760.00   \n",
       "242                              terra                          520.00   \n",
       "243              concreto convencional                         1074.34   \n",
       "...                                ...                             ...   \n",
       "17599                terra-enrocamento                         1030.00   \n",
       "17600                terra-enrocamento                          591.50   \n",
       "17601                terra-enrocamento                          531.50   \n",
       "17602                terra-enrocamento                          183.50   \n",
       "17603                terra-enrocamento                          103.00   \n",
       "\n",
       "                Uso_principal Barragem_UF  \\\n",
       "239                 irrigação          AL   \n",
       "240      abastecimento humano          BA   \n",
       "241                 irrigação          GO   \n",
       "242    regularização de vazão          MG   \n",
       "243      abastecimento humano          BA   \n",
       "...                       ...         ...   \n",
       "17599            hidrelétrica          SE   \n",
       "17600            hidrelétrica          GO   \n",
       "17601            hidrelétrica          GO   \n",
       "17602            hidrelétrica          GO   \n",
       "17603            hidrelétrica          MG   \n",
       "\n",
       "                                      Barragem_Municipio  \\\n",
       "239                                  Palmeira dos Índios   \n",
       "240                            Canudos/Euclides da Cunha   \n",
       "241                         Formosa e São João D’Aliança   \n",
       "242                        Berizal e São João do Paraíso   \n",
       "243                                      Coronel João Sá   \n",
       "...                                                  ...   \n",
       "17599  Piranhas/AL-Nordeste; Canindé de São Francisco...   \n",
       "17600              Santa Helena de Goiás/GO-Centro Oeste   \n",
       "17601              Santa Helena de Goiás/GO-Centro Oeste   \n",
       "17602              Santa Helena de Goiás/GO-Centro Oeste   \n",
       "17603       Astolfo Dutra/MG-Sudeste; Guarani/MG-Sudeste   \n",
       "\n",
       "      Barragem_Categoria_Risco Barragem_Dano_Potencial_Associado  ...  \\\n",
       "239                      médio                              alto  ...   \n",
       "240                       alto                              alto  ...   \n",
       "241                      médio                              alto  ...   \n",
       "242              não se aplica                              alto  ...   \n",
       "243                      médio                              alto  ...   \n",
       "...                        ...                               ...  ...   \n",
       "17599                    baixo                              alto  ...   \n",
       "17600                    baixo                              alto  ...   \n",
       "17601                    baixo                             médio  ...   \n",
       "17602                    baixo                             médio  ...   \n",
       "17603                    baixo                              alto  ...   \n",
       "\n",
       "      TemRevisaoPeriodica TemProjetoExecutivo TemProjetoComo construido  \\\n",
       "239                   não                 não                       não   \n",
       "240                   não                 não                       sim   \n",
       "241                   não                 sim                       não   \n",
       "242                   não                 não                       não   \n",
       "243                   não                 não                       não   \n",
       "...                   ...                 ...                       ...   \n",
       "17599                 não                 não                       sim   \n",
       "17600                 não                 sim                       não   \n",
       "17601                 não                 sim                       não   \n",
       "17602                 não                 sim                       não   \n",
       "17603                 não                 sim                       não   \n",
       "\n",
       "      TemProjetoBasico TemProjetoConceitual TemEclusa Barragem_FasedeVida  \\\n",
       "239                sim                  não       não            operação   \n",
       "240                não                  não       não            operação   \n",
       "241                não                  não       não            operação   \n",
       "242                não                  não       não          construção   \n",
       "243                sim                  não       não            operação   \n",
       "...                ...                  ...       ...                 ...   \n",
       "17599              não                  não       não            operação   \n",
       "17600              sim                  não       não            operação   \n",
       "17601              sim                  não       não            operação   \n",
       "17602              sim                  não       não            operação   \n",
       "17603              sim                  não       não            operação   \n",
       "\n",
       "      ReguladaPNSB Submetida à algum regulamento?  \\\n",
       "239            sim                            Sim   \n",
       "240            sim                            Sim   \n",
       "241            sim                            Sim   \n",
       "242            sim                            Sim   \n",
       "243            sim                            Sim   \n",
       "...            ...                            ...   \n",
       "17599          sim                            sim   \n",
       "17600          sim                            sim   \n",
       "17601          sim                            sim   \n",
       "17602          sim                            sim   \n",
       "17603          sim                            sim   \n",
       "\n",
       "      Houve alguma fiscalização no período deste RSB?  \n",
       "239                                               Sim  \n",
       "240                                               Sim  \n",
       "241                                               Sim  \n",
       "242                                               Não  \n",
       "243                                               Sim  \n",
       "...                                               ...  \n",
       "17599                                             Não  \n",
       "17600                                             Não  \n",
       "17601                                             Não  \n",
       "17602                                             Não  \n",
       "17603                                             Não  \n",
       "\n",
       "[2651 rows x 22 columns]"
      ]
     },
     "execution_count": 33,
     "metadata": {},
     "output_type": "execute_result"
    }
   ],
   "source": [
    "#check what is left:\n",
    "mvp = df.dropna()\n",
    "mvp # only 567 dams have every all the information filled."
   ]
  },
  {
   "cell_type": "code",
   "execution_count": 35,
   "metadata": {},
   "outputs": [],
   "source": [
    "mvp.to_csv('mvp.csv',index=False)"
   ]
  },
  {
   "cell_type": "code",
   "execution_count": 31,
   "metadata": {},
   "outputs": [],
   "source": [
    "#consider fill with means when possible."
   ]
  }
 ],
 "metadata": {
  "kernelspec": {
   "display_name": "Python 3",
   "language": "python",
   "name": "python3"
  },
  "language_info": {
   "codemirror_mode": {
    "name": "ipython",
    "version": 3
   },
   "file_extension": ".py",
   "mimetype": "text/x-python",
   "name": "python",
   "nbconvert_exporter": "python",
   "pygments_lexer": "ipython3",
   "version": "3.7.4"
  }
 },
 "nbformat": 4,
 "nbformat_minor": 2
}
