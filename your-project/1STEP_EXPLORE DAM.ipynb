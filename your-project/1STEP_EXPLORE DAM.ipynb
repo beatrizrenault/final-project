{
 "cells": [
  {
   "cell_type": "markdown",
   "metadata": {},
   "source": [
    "## Libraries and dataframe"
   ]
  },
  {
   "cell_type": "code",
   "execution_count": null,
   "metadata": {},
   "outputs": [],
   "source": [
    "#context\n",
    "# https://apublica.org/2019/01/brasil-registra-mais-de-tres-acidentes-em-barragens-por-ano/"
   ]
  },
  {
   "cell_type": "code",
   "execution_count": null,
   "metadata": {},
   "outputs": [],
   "source": [
    "#details Risco e Dano Potencial Associado"
   ]
  },
  {
   "cell_type": "code",
   "execution_count": 11,
   "metadata": {},
   "outputs": [],
   "source": [
    "import pandas as pd\n",
    "import numpy as np"
   ]
  },
  {
   "cell_type": "code",
   "execution_count": 32,
   "metadata": {},
   "outputs": [],
   "source": [
    "df = pd.read_excel('relatorio_barragens_2.xlsx')"
   ]
  },
  {
   "cell_type": "code",
   "execution_count": 55,
   "metadata": {},
   "outputs": [
    {
     "data": {
      "text/plain": [
       "19451"
      ]
     },
     "execution_count": 55,
     "metadata": {},
     "output_type": "execute_result"
    }
   ],
   "source": [
    "df.head(3)\n",
    "len(df)"
   ]
  },
  {
   "cell_type": "code",
   "execution_count": 66,
   "metadata": {},
   "outputs": [
    {
     "data": {
      "text/plain": [
       "Código_SNISB                      int64\n",
       "Nome_da_Barragem                 object\n",
       "Nome_Secundário                  object\n",
       "Uso_Principal                    object\n",
       "UF                               object\n",
       "Município                        object\n",
       "Categoria_de_Risco               object\n",
       "Dano_Potencial_Associado         object\n",
       "Nome_do_Empreendedor             object\n",
       "Órgăo_Fiscalizador               object\n",
       "Código_Barragem_Fiscalizador     object\n",
       "Regulada_pela_PNSB               object\n",
       "Número_da_Autorizaçăo            object\n",
       "Possui_PAE                       object\n",
       "Possui_Plano_de_Segurança        object\n",
       "Possui_Revisăo_Periódica         object\n",
       "Data_da_Última_Fiscalizaçăo     float64\n",
       "Barragem_Autuada                 object\n",
       "Altura_Fundaçăo_m               float64\n",
       "Altura_Terreno_m                float64\n",
       "Capacidade_hmł                  float64\n",
       "Tipo_de_Material                 object\n",
       "Uso_Complementar                 object\n",
       "Classe_de_Resíduo                object\n",
       "Curso_Dágua_Barrado              object\n",
       "Regiăo_Hidrográfica              object\n",
       "Unidade_de_Gestăo                object\n",
       "Domínio_do_Curso_Dágua           object\n",
       "Data_da_Última_Inspeçăo          object\n",
       "Tipo_da_Última_Inspeçăo          object\n",
       "Nível_de_Perigo_Global           object\n",
       "Possui_Eclusa                    object\n",
       "Fase_da_Vida                     object\n",
       "Latitude                        float64\n",
       "Longitude                       float64\n",
       "dtype: object"
      ]
     },
     "execution_count": 66,
     "metadata": {},
     "output_type": "execute_result"
    }
   ],
   "source": [
    "df.dtypes"
   ]
  },
  {
   "cell_type": "markdown",
   "metadata": {},
   "source": [
    "## Exploring columns"
   ]
  },
  {
   "cell_type": "code",
   "execution_count": 35,
   "metadata": {},
   "outputs": [
    {
     "data": {
      "text/plain": [
       "Index(['Código_SNISB', 'Nome_da_Barragem', 'Nome_Secundário', 'Uso_Principal',\n",
       "       'UF', 'Município', 'Categoria_de_Risco', 'Dano_Potencial_Associado',\n",
       "       'Nome_do_Empreendedor', 'Órgăo_Fiscalizador',\n",
       "       'Código_Barragem_Fiscalizador', 'Regulada_pela_PNSB',\n",
       "       'Número_da_Autorizaçăo', 'Possui_PAE', 'Possui_Plano_de_Segurança',\n",
       "       'Possui_Revisăo_Periódica', 'Data_da_Última_Fiscalizaçăo',\n",
       "       'Barragem_Autuada', 'Altura_Fundaçăo_m', 'Altura_Terreno_m',\n",
       "       'Capacidade_hmł', 'Tipo_de_Material', 'Uso_Complementar',\n",
       "       'Classe_de_Resíduo', 'Curso_Dágua_Barrado', 'Regiăo_Hidrográfica',\n",
       "       'Unidade_de_Gestăo', 'Domínio_do_Curso_Dágua',\n",
       "       'Data_da_Última_Inspeçăo', 'Tipo_da_Última_Inspeçăo',\n",
       "       'Nível_de_Perigo_Global', 'Possui_Eclusa', 'Fase_da_Vida', 'Latitude',\n",
       "       'Longitude'],\n",
       "      dtype='object')"
      ]
     },
     "execution_count": 35,
     "metadata": {},
     "output_type": "execute_result"
    }
   ],
   "source": [
    "#columns\n",
    "df.columns"
   ]
  },
  {
   "cell_type": "code",
   "execution_count": 96,
   "metadata": {},
   "outputs": [
    {
     "data": {
      "text/plain": [
       "'for col in df.columns:\\n    count = df[col].value_counts()\\n    print(col, count)'"
      ]
     },
     "execution_count": 96,
     "metadata": {},
     "output_type": "execute_result"
    }
   ],
   "source": [
    "'''for col in df.columns:\n",
    "    count = df[col].value_counts()\n",
    "    print(col, count)'''"
   ]
  },
  {
   "cell_type": "code",
   "execution_count": 61,
   "metadata": {},
   "outputs": [
    {
     "data": {
      "text/plain": [
       "Irrigaçăo                             7944\n",
       "Dessedentaçăo Animal                  4440\n",
       "Abastecimento humano                  1578\n",
       "Regularizaçăo de vazăo                1261\n",
       "Aquicultura                           1192\n",
       "Hidroelétrica                         1069\n",
       "Contençăo de rejeitos de mineraçăo    1052\n",
       "Industrial                             474\n",
       "Recreaçăo                              272\n",
       "Proteçăo do meio ambiente               54\n",
       "Contençăo de resíduos industriais       46\n",
       "Combate ŕs secas                        36\n",
       "Defesa contra inundaçőes                22\n",
       "Paisagismo                               8\n",
       "Navegaçăo                                2\n",
       "Contençăo de Sedimentos                  1\n",
       "Name: Uso_Principal, dtype: int64"
      ]
     },
     "execution_count": 61,
     "metadata": {},
     "output_type": "execute_result"
    }
   ],
   "source": [
    "df.Uso_Principal.value_counts()"
   ]
  },
  {
   "cell_type": "code",
   "execution_count": 62,
   "metadata": {},
   "outputs": [
    {
     "name": "stdout",
     "output_type": "stream",
     "text": [
      "28\n"
     ]
    },
    {
     "data": {
      "text/plain": [
       "RS    10955\n",
       "MG      883\n",
       "TO      830\n",
       "MS      747\n",
       "SP      659\n",
       "RN      645\n",
       "PB      610\n",
       "PR      543\n",
       "BA      491\n",
       "GO      373\n",
       "MT      372\n",
       "PA      371\n",
       "PE      330\n",
       "CE      302\n",
       "AC      193\n",
       "SC      192\n",
       "RO      171\n",
       "ES      143\n",
       "DF      116\n",
       "AL      113\n",
       "MA       81\n",
       "RJ       70\n",
       "PI       61\n",
       "SE       54\n",
       "AM       51\n",
       "RR       33\n",
       "AP       25\n",
       "Name: UF, dtype: int64"
      ]
     },
     "execution_count": 62,
     "metadata": {},
     "output_type": "execute_result"
    }
   ],
   "source": [
    "print(len(df.UF.unique()))\n",
    "df.UF.value_counts() #27 states and 1 nan"
   ]
  },
  {
   "cell_type": "code",
   "execution_count": 49,
   "metadata": {},
   "outputs": [
    {
     "data": {
      "text/html": [
       "<div>\n",
       "<style scoped>\n",
       "    .dataframe tbody tr th:only-of-type {\n",
       "        vertical-align: middle;\n",
       "    }\n",
       "\n",
       "    .dataframe tbody tr th {\n",
       "        vertical-align: top;\n",
       "    }\n",
       "\n",
       "    .dataframe thead th {\n",
       "        text-align: right;\n",
       "    }\n",
       "</style>\n",
       "<table border=\"1\" class=\"dataframe\">\n",
       "  <thead>\n",
       "    <tr style=\"text-align: right;\">\n",
       "      <th></th>\n",
       "      <th>Código_SNISB</th>\n",
       "      <th>Nome_da_Barragem</th>\n",
       "      <th>Nome_Secundário</th>\n",
       "      <th>Uso_Principal</th>\n",
       "      <th>UF</th>\n",
       "      <th>Município</th>\n",
       "      <th>Categoria_de_Risco</th>\n",
       "      <th>Dano_Potencial_Associado</th>\n",
       "      <th>Nome_do_Empreendedor</th>\n",
       "      <th>Órgăo_Fiscalizador</th>\n",
       "      <th>...</th>\n",
       "      <th>Regiăo_Hidrográfica</th>\n",
       "      <th>Unidade_de_Gestăo</th>\n",
       "      <th>Domínio_do_Curso_Dágua</th>\n",
       "      <th>Data_da_Última_Inspeçăo</th>\n",
       "      <th>Tipo_da_Última_Inspeçăo</th>\n",
       "      <th>Nível_de_Perigo_Global</th>\n",
       "      <th>Possui_Eclusa</th>\n",
       "      <th>Fase_da_Vida</th>\n",
       "      <th>Latitude</th>\n",
       "      <th>Longitude</th>\n",
       "    </tr>\n",
       "  </thead>\n",
       "  <tbody>\n",
       "  </tbody>\n",
       "</table>\n",
       "<p>0 rows × 35 columns</p>\n",
       "</div>"
      ],
      "text/plain": [
       "Empty DataFrame\n",
       "Columns: [Código_SNISB, Nome_da_Barragem, Nome_Secundário, Uso_Principal, UF, Município, Categoria_de_Risco, Dano_Potencial_Associado, Nome_do_Empreendedor, Órgăo_Fiscalizador, Código_Barragem_Fiscalizador, Regulada_pela_PNSB, Número_da_Autorizaçăo, Possui_PAE, Possui_Plano_de_Segurança, Possui_Revisăo_Periódica, Data_da_Última_Fiscalizaçăo, Barragem_Autuada, Altura_Fundaçăo_m, Altura_Terreno_m, Capacidade_hmł, Tipo_de_Material, Uso_Complementar, Classe_de_Resíduo, Curso_Dágua_Barrado, Regiăo_Hidrográfica, Unidade_de_Gestăo, Domínio_do_Curso_Dágua, Data_da_Última_Inspeçăo, Tipo_da_Última_Inspeçăo, Nível_de_Perigo_Global, Possui_Eclusa, Fase_da_Vida, Latitude, Longitude]\n",
       "Index: []\n",
       "\n",
       "[0 rows x 35 columns]"
      ]
     },
     "execution_count": 49,
     "metadata": {},
     "output_type": "execute_result"
    }
   ],
   "source": [
    "df[df['UF'] == 'nan'] # TODO where is the nan value?"
   ]
  },
  {
   "cell_type": "code",
   "execution_count": 63,
   "metadata": {},
   "outputs": [
    {
     "data": {
      "text/plain": [
       "URUGUAIANA             465\n",
       "CACHOEIRA DO SUL       284\n",
       "SĂO BORJA              278\n",
       "ALEGRETE               264\n",
       "DOM PEDRITO            255\n",
       "                      ... \n",
       "PARANATAMA               1\n",
       "SALTO DO LONTRA          1\n",
       "JARDINÓPOLIS             1\n",
       "VARGEM BONITA            1\n",
       "SĂO BENEDITO DO SUL      1\n",
       "Name: Município, Length: 2489, dtype: int64"
      ]
     },
     "execution_count": 63,
     "metadata": {},
     "output_type": "execute_result"
    }
   ],
   "source": [
    "df.Município.value_counts() #TODO check the population data per Município"
   ]
  },
  {
   "cell_type": "code",
   "execution_count": 60,
   "metadata": {},
   "outputs": [
    {
     "data": {
      "text/plain": [
       "Năo Classificado    12391\n",
       "Baixo                1807\n",
       "Alto                 1659\n",
       "Médio                1406\n",
       "Năo se Aplica         963\n",
       "Name: Categoria_de_Risco, dtype: int64"
      ]
     },
     "execution_count": 60,
     "metadata": {},
     "output_type": "execute_result"
    }
   ],
   "source": [
    "df.Categoria_de_Risco.value_counts()"
   ]
  },
  {
   "cell_type": "code",
   "execution_count": 56,
   "metadata": {},
   "outputs": [
    {
     "name": "stdout",
     "output_type": "stream",
     "text": [
      "12391\n",
      "0.6370366562130482\n"
     ]
    }
   ],
   "source": [
    "print(len(df[df['Categoria_de_Risco'] == 'Năo Classificado'])) # TODO where is the nan value?\n",
    "'''a big proportion of the data is unclassified has category of risk unclassified'''\n",
    "print((len(df[df['Categoria_de_Risco'] == 'Năo Classificado']))/len(df))"
   ]
  },
  {
   "cell_type": "code",
   "execution_count": 64,
   "metadata": {},
   "outputs": [
    {
     "data": {
      "text/plain": [
       "Năo Classificado    11030\n",
       "Alto                 3445\n",
       "Baixo                2871\n",
       "Médio                 880\n",
       "Name: Dano_Potencial_Associado, dtype: int64"
      ]
     },
     "execution_count": 64,
     "metadata": {},
     "output_type": "execute_result"
    }
   ],
   "source": [
    "df.Dano_Potencial_Associado.value_counts()"
   ]
  },
  {
   "cell_type": "code",
   "execution_count": 69,
   "metadata": {},
   "outputs": [
    {
     "data": {
      "text/plain": [
       "CMPC Celulose Riograndense Ltda                                          174\n",
       "Departamento Nacional de Obras Contra as Secas - DNOCS                   121\n",
       "Departamento Nacional de Obras Contra as Secas                           120\n",
       "COMPANHIA DE DESENVOLVIMENTO DOS VALES DO SAO FRANCISCO E DO PARNAIBA    105\n",
       "Agęncia Tocantinense de Saneamento                                        99\n",
       "                                                                        ... \n",
       "PREFEITURA MUNICIPAL DE BRAGANEY                                           1\n",
       "Tsutomu Joume Hirakawa                                                     1\n",
       "DANIEL ANVERSA - FAZENDA BOA SORTE                                         1\n",
       "Prefeitura Municipal de Tauá                                               1\n",
       "Silvio Nunes                                                               1\n",
       "Name: Nome_do_Empreendedor, Length: 2784, dtype: int64"
      ]
     },
     "execution_count": 69,
     "metadata": {},
     "output_type": "execute_result"
    }
   ],
   "source": [
    "df.Nome_do_Empreendedor.value_counts()"
   ]
  },
  {
   "cell_type": "code",
   "execution_count": 70,
   "metadata": {},
   "outputs": [
    {
     "data": {
      "text/plain": [
       "RS - Secretaria de Meio Ambiente e Infraestrutura - SEMA                            10864\n",
       "Agęncia Nacional de Energia Elétrica - ANEEL                                         1069\n",
       "Agęncia Nacional de Mineraçăo - ANM                                                  1057\n",
       "TO - Instituto Natureza do Tocantins ż NATURATINS                                     797\n",
       "MS - Instituto de Meio Ambiente do Mato Grosso do Sul ż IMASUL                        688\n",
       "RN - Instituto de Gestăo das Águas do Estado do Rio Grande do Norte - IGARN           604\n",
       "PB - Agęncia Executiva de Gestăo das Águas da Paraíba ż AESA                          568\n",
       "PR - Instituto das Águas do Paraná - AGUASPARANÁ                                      477\n",
       "SP - Departamento de Águas e Energia Elétrica ż DAEE                                  408\n",
       "BA - Instituto de Meio Ambiente e Recursos Hídricos - INEMA                           391\n",
       "PE - Agęncia Pernambucana de Águas e Clima - APAC                                     296\n",
       "CE - Secretaria dos Recursos Hídricos do Ceará ż SRH                                  289\n",
       "GO - Secretaria de Meio Ambiente e Desenvolvimento Sustentável ż SEMAD                263\n",
       "Agęncia Nacional de Águas - ANA                                                       203\n",
       "MG - Instituto Mineiro de Gestăo das Águas ż IGAM                                     203\n",
       "AC - Instituto de Meio Ambiente do Acre - IMAC                                        193\n",
       "PA - Secretaria de Estado de Meio Ambiente e Sustentabilidade - SEMAS                 186\n",
       "MT - Secretaria de Estado do Meio Ambiente ż SEMA                                     175\n",
       "ES - Agęncia Estadual de Recursos Hídricos - AGERH                                    110\n",
       "AL - Secretaria de Estado do Meio Ambiente e dos Recursos Hídricos - SEMARH           105\n",
       "DF - Agęncia Reguladora de Águas, Energia e Saneamento Básico do DF ż ADASA           103\n",
       "RO - Secretaria de Estado do Desenvolvimento Ambiental - SEDAM                         92\n",
       "MA - Secretaria de Estado do Meio Ambiente e Recursos Naturais ż SEMA                  75\n",
       "PI ż Secretaria do Meio Ambiente e Recursos Hídricos - SEMAR                           54\n",
       "SE - Secretaria de Estado de Desenvolvimento Urbano e Sustentabilidade - SEDURBS       42\n",
       "SC - Secretaria de Estado do Desenvolvimento Econômico Sustentável ż SDS               38\n",
       "AM - Instituto de Proteçăo Ambiental do Amazonas - IPAAM                               29\n",
       "RR - Fundaçăo Estadual do Meio Ambiente e Recursos Hídricos de Roraima - FEMARH        23\n",
       "MG - Secretaria de Estado de Meio Ambiente e Desenvolvimento Sustentável ż SEMAD       22\n",
       "RJ - Instituto Estadual do Ambiente - INEA                                             18\n",
       "AP - Instituto do Meio Ambiente e de Ordenamento Territorial do Amapá - IMAP            6\n",
       "SP - Companhia Ambiental do Estado de Săo Paulo - CETESB                                2\n",
       "Comissăo Nacional de Energia Nuclear - CNEN                                             1\n",
       "Name: Órgăo_Fiscalizador, dtype: int64"
      ]
     },
     "execution_count": 70,
     "metadata": {},
     "output_type": "execute_result"
    }
   ],
   "source": [
    "df.Órgăo_Fiscalizador.value_counts()"
   ]
  },
  {
   "cell_type": "code",
   "execution_count": 71,
   "metadata": {},
   "outputs": [
    {
     "data": {
      "text/plain": [
       "0.0                                            788\n",
       "SEM INFORMAÇĂO                                  24\n",
       "6306-2013-A                                     21\n",
       "2432-2006                                       16\n",
       "930-2008                                        14\n",
       "                                              ... \n",
       "1158/07                                          1\n",
       "PN1_57824843653_201932399_2019323992_1.zip       1\n",
       "0886/11                                          1\n",
       "60410500074                                      1\n",
       "SF7_12007978687_201926874_20192687415_2.zip      1\n",
       "Name: Código_Barragem_Fiscalizador, Length: 4350, dtype: int64"
      ]
     },
     "execution_count": 71,
     "metadata": {},
     "output_type": "execute_result"
    }
   ],
   "source": [
    "df.Código_Barragem_Fiscalizador.value_counts() #TODO drop column"
   ]
  },
  {
   "cell_type": "code",
   "execution_count": 72,
   "metadata": {},
   "outputs": [
    {
     "data": {
      "text/plain": [
       "Năo Classificada    11829\n",
       "Sim                  5380\n",
       "Năo                  2242\n",
       "Name: Regulada_pela_PNSB, dtype: int64"
      ]
     },
     "execution_count": 72,
     "metadata": {},
     "output_type": "execute_result"
    }
   ],
   "source": [
    "df.Regulada_pela_PNSB.value_counts()"
   ]
  },
  {
   "cell_type": "code",
   "execution_count": 73,
   "metadata": {},
   "outputs": [
    {
     "data": {
      "text/plain": [
       "0                           1100\n",
       "33.592.510/0005-88            99\n",
       "uso insignificante            82\n",
       "IMASUL - L.O n° 482/2012      31\n",
       "IMASUL - L.O n° 237/2013      28\n",
       "                            ... \n",
       "1502/13                        1\n",
       "1624/2019                      1\n",
       "1021/08                        1\n",
       "0325/2011                      1\n",
       "146/19                         1\n",
       "Name: Número_da_Autorizaçăo, Length: 5763, dtype: int64"
      ]
     },
     "execution_count": 73,
     "metadata": {},
     "output_type": "execute_result"
    }
   ],
   "source": [
    "df.Número_da_Autorizaçăo.value_counts() #TODO drop column"
   ]
  },
  {
   "cell_type": "code",
   "execution_count": 74,
   "metadata": {},
   "outputs": [
    {
     "data": {
      "text/plain": [
       "Năo    19317\n",
       "Sim      134\n",
       "Name: Possui_PAE, dtype: int64"
      ]
     },
     "execution_count": 74,
     "metadata": {},
     "output_type": "execute_result"
    }
   ],
   "source": [
    "df.Possui_PAE.value_counts() #TODO discover what is PAE"
   ]
  },
  {
   "cell_type": "code",
   "execution_count": 75,
   "metadata": {},
   "outputs": [
    {
     "data": {
      "text/plain": [
       "Năo    19257\n",
       "Sim      194\n",
       "Name: Possui_Plano_de_Segurança, dtype: int64"
      ]
     },
     "execution_count": 75,
     "metadata": {},
     "output_type": "execute_result"
    }
   ],
   "source": [
    "df.Possui_Plano_de_Segurança.value_counts() #TODO discover what that means"
   ]
  },
  {
   "cell_type": "code",
   "execution_count": 76,
   "metadata": {},
   "outputs": [
    {
     "data": {
      "text/plain": [
       "Năo    19449\n",
       "Sim        2\n",
       "Name: Possui_Revisăo_Periódica, dtype: int64"
      ]
     },
     "execution_count": 76,
     "metadata": {},
     "output_type": "execute_result"
    }
   ],
   "source": [
    "df.Possui_Revisăo_Periódica.value_counts()"
   ]
  },
  {
   "cell_type": "code",
   "execution_count": 82,
   "metadata": {},
   "outputs": [
    {
     "data": {
      "text/plain": [
       "0       NaN\n",
       "1       NaN\n",
       "2       NaN\n",
       "3       NaN\n",
       "4       NaN\n",
       "         ..\n",
       "19446   NaN\n",
       "19447   NaN\n",
       "19448   NaN\n",
       "19449   NaN\n",
       "19450   NaN\n",
       "Name: Data_da_Última_Fiscalizaçăo, Length: 19451, dtype: float64"
      ]
     },
     "execution_count": 82,
     "metadata": {},
     "output_type": "execute_result"
    }
   ],
   "source": [
    "df.Data_da_Última_Fiscalizaçăo #TODO drop the col"
   ]
  },
  {
   "cell_type": "code",
   "execution_count": 121,
   "metadata": {},
   "outputs": [
    {
     "name": "stdout",
     "output_type": "stream",
     "text": [
      "19451\n"
     ]
    },
    {
     "data": {
      "text/plain": [
       "Năo    19451\n",
       "Name: Barragem_Autuada, dtype: int64"
      ]
     },
     "execution_count": 121,
     "metadata": {},
     "output_type": "execute_result"
    }
   ],
   "source": [
    "print(len(df))\n",
    "df.Barragem_Autuada.value_counts()"
   ]
  },
  {
   "cell_type": "code",
   "execution_count": 85,
   "metadata": {},
   "outputs": [
    {
     "data": {
      "text/plain": [
       "0.00     384\n",
       "5.00     329\n",
       "6.00     315\n",
       "4.00     260\n",
       "7.00     225\n",
       "        ... \n",
       "8.21       1\n",
       "12.18      1\n",
       "2.54       1\n",
       "5.61       1\n",
       "4.98       1\n",
       "Name: Altura_Fundaçăo_m, Length: 866, dtype: int64"
      ]
     },
     "execution_count": 85,
     "metadata": {},
     "output_type": "execute_result"
    }
   ],
   "source": [
    "df.Altura_Fundaçăo_m.value_counts()"
   ]
  },
  {
   "cell_type": "code",
   "execution_count": 86,
   "metadata": {},
   "outputs": [
    {
     "data": {
      "text/plain": [
       "5.00     418\n",
       "4.00     338\n",
       "6.00     332\n",
       "3.00     310\n",
       "2.00     269\n",
       "        ... \n",
       "4.54       1\n",
       "3.21       1\n",
       "19.10      1\n",
       "26.15      1\n",
       "9.56       1\n",
       "Name: Altura_Terreno_m, Length: 1005, dtype: int64"
      ]
     },
     "execution_count": 86,
     "metadata": {},
     "output_type": "execute_result"
    }
   ],
   "source": [
    "df.Altura_Terreno_m.value_counts()"
   ]
  },
  {
   "cell_type": "code",
   "execution_count": 87,
   "metadata": {},
   "outputs": [
    {
     "data": {
      "text/plain": [
       "0.001      1463\n",
       "0.000      1201\n",
       "0.002       905\n",
       "0.003       619\n",
       "0.004       435\n",
       "           ... \n",
       "0.764         1\n",
       "3.718         1\n",
       "4.649         1\n",
       "2.441         1\n",
       "640.000       1\n",
       "Name: Capacidade_hmł, Length: 3110, dtype: int64"
      ]
     },
     "execution_count": 87,
     "metadata": {},
     "output_type": "execute_result"
    }
   ],
   "source": [
    "df.Capacidade_hmł.value_counts()"
   ]
  },
  {
   "cell_type": "code",
   "execution_count": 88,
   "metadata": {},
   "outputs": [
    {
     "data": {
      "text/plain": [
       "Sem Informaçăo                      13266\n",
       "Terra                                4710\n",
       "Alvenaria                             642\n",
       "Concreto ciclópico                    321\n",
       "Concreto compactado a rolo (CCR)      258\n",
       "Concreto convencional                 105\n",
       "Rejeitos                               47\n",
       "Enrocamento                            28\n",
       "Terra-enrocamento                      26\n",
       "Outros                                 22\n",
       "Name: Tipo_de_Material, dtype: int64"
      ]
     },
     "execution_count": 88,
     "metadata": {},
     "output_type": "execute_result"
    }
   ],
   "source": [
    "df.Tipo_de_Material.value_counts()"
   ]
  },
  {
   "cell_type": "code",
   "execution_count": 89,
   "metadata": {},
   "outputs": [
    {
     "data": {
      "text/plain": [
       "Industrial                            659\n",
       "Dessedentaçăo Animal                  502\n",
       "Irrigaçăo                             443\n",
       "Aquicultura                           119\n",
       "Regularizaçăo de vazăo                107\n",
       "Recreaçăo                              94\n",
       "Abastecimento humano                   91\n",
       "Combate ŕs secas                       69\n",
       "Defesa contra inundaçőes               21\n",
       "Proteçăo do meio ambiente               9\n",
       "Hidroelétrica                           9\n",
       "Contençăo de rejeitos de mineraçăo      3\n",
       "Contençăo de resíduos industriais       1\n",
       "Name: Uso_Complementar, dtype: int64"
      ]
     },
     "execution_count": 89,
     "metadata": {},
     "output_type": "execute_result"
    }
   ],
   "source": [
    "df.Uso_Complementar.value_counts() #Recreation?"
   ]
  },
  {
   "cell_type": "code",
   "execution_count": 90,
   "metadata": {},
   "outputs": [
    {
     "data": {
      "text/plain": [
       "A     704\n",
       "D     373\n",
       "C     214\n",
       "B     194\n",
       "E     162\n",
       "B       1\n",
       "Name: Classe_de_Resíduo, dtype: int64"
      ]
     },
     "execution_count": 90,
     "metadata": {},
     "output_type": "execute_result"
    }
   ],
   "source": [
    "df.Classe_de_Resíduo.value_counts()"
   ]
  },
  {
   "cell_type": "code",
   "execution_count": 97,
   "metadata": {},
   "outputs": [
    {
     "data": {
      "text/plain": [
       "SEM NOME              4438\n",
       "Rio Jacuí              232\n",
       "Rio Uruguai            163\n",
       "Arroio Araçá           123\n",
       "Rio da Várzea          116\n",
       "                      ... \n",
       "Rio Amoragi              1\n",
       "Córrego Pau-preto        1\n",
       "Igarapé da Pimenta       1\n",
       "Lajeado Capoeira         1\n",
       "Rio José Pedro           1\n",
       "Name: Curso_Dágua_Barrado, Length: 3281, dtype: int64"
      ]
     },
     "execution_count": 97,
     "metadata": {},
     "output_type": "execute_result"
    }
   ],
   "source": [
    "df.Curso_Dágua_Barrado.value_counts() #drop the column"
   ]
  },
  {
   "cell_type": "code",
   "execution_count": 98,
   "metadata": {},
   "outputs": [
    {
     "data": {
      "text/plain": [
       "Regiăo Hidrográfica do URUGUAI                      5996\n",
       "Regiăo Hidrográfica ATLÂNTICO SUL                   5154\n",
       "Regiăo Hidrográfica do PARANÁ                       2252\n",
       "Regiăo Hidrográfica ATLÂNTICO NORDESTE ORIENTAL     1747\n",
       "Regiăo Hidrográfica do TOCANTINS-ARAGUAIA           1179\n",
       "Regiăo Hidrográfica do SĂO FRANCISCO                 841\n",
       "Regiăo Hidrográfica AMAZÔNICA                        774\n",
       "Regiăo Hidrográfica ATLÂNTICO SUDESTE                512\n",
       "Regiăo Hidrográfica ATLÂNTICO LESTE                  466\n",
       "Regiăo Hidrográfica do PARAGUAI                      302\n",
       "Regiăo Hidrográfica do PARNAÍBA                       93\n",
       "Regiăo Hidrográfica ATLÂNTICO NORDESTE OCIDENTAL      89\n",
       "Name: Regiăo_Hidrográfica, dtype: int64"
      ]
     },
     "execution_count": 98,
     "metadata": {},
     "output_type": "execute_result"
    }
   ],
   "source": [
    "df.Regiăo_Hidrográfica.value_counts()"
   ]
  },
  {
   "cell_type": "code",
   "execution_count": 100,
   "metadata": {},
   "outputs": [
    {
     "data": {
      "text/plain": [
       "CBH do Rio Ibicuí                             1316\n",
       "CBH do Rio Baixo Jacuí                         933\n",
       "CBH dos Rios Taquari e Antas                   843\n",
       "CBH do Rio Săo Francisco                       837\n",
       "CBH do Rio Vacacaí e Vacacaí Mirim             807\n",
       "CBH do Várzea                                  766\n",
       "CBH dos Rios Turvo-Santa Rosa-Santo Cristo     688\n",
       "CBH do Rio Camaquă                             677\n",
       "CBH do Rio Piancó-Piranhas-Açu                 606\n",
       "CBH de Santa Maria                             593\n",
       "CBH do Rio Ijuí                                558\n",
       "CBH da Lagoa Mirim e Canal Săo Gonçalo         464\n",
       "CBH do Butuí-Icamaquă                          459\n",
       "CBH do Rio Paranaíba                           446\n",
       "CBH do Piratinim                               426\n",
       "CBH do Rio Alto Jacuí                          408\n",
       "CBH do Rio Quaraí                              352\n",
       "CBH do Rio Apuaę-Inhandava                     341\n",
       "CBH do Rio Grande                              307\n",
       "CBH do Rio Paranapanema                        302\n",
       "Name: Unidade_de_Gestăo, dtype: int64"
      ]
     },
     "execution_count": 100,
     "metadata": {},
     "output_type": "execute_result"
    }
   ],
   "source": [
    "df.Unidade_de_Gestăo.value_counts().head(20) # TODO check if you want to drop"
   ]
  },
  {
   "cell_type": "code",
   "execution_count": 103,
   "metadata": {},
   "outputs": [
    {
     "data": {
      "text/plain": [
       "Estadual    13975\n",
       "Federal      5476\n",
       "Name: Domínio_do_Curso_Dágua, dtype: int64"
      ]
     },
     "execution_count": 103,
     "metadata": {},
     "output_type": "execute_result"
    }
   ],
   "source": [
    "df.Domínio_do_Curso_Dágua.value_counts() # TODO drop the col"
   ]
  },
  {
   "cell_type": "code",
   "execution_count": 114,
   "metadata": {},
   "outputs": [
    {
     "data": {
      "text/plain": [
       "12/17/2019 00:00:00    8\n",
       "05/07/2019 00:00:00    7\n",
       "05/30/2019 00:00:00    7\n",
       "01/15/2018 01:00:00    6\n",
       "05/08/2019 00:00:00    6\n",
       "                      ..\n",
       "05/17/2019 00:00:00    1\n",
       "01/28/2019 01:00:00    1\n",
       "10/14/2019 00:00:00    1\n",
       "12/14/2018 01:00:00    1\n",
       "11/04/2019 01:00:00    1\n",
       "Name: Data_da_Última_Inspeçăo, Length: 98, dtype: int64"
      ]
     },
     "execution_count": 114,
     "metadata": {},
     "output_type": "execute_result"
    }
   ],
   "source": [
    "df.Data_da_Última_Inspeçăo.value_counts()"
   ]
  },
  {
   "cell_type": "code",
   "execution_count": 115,
   "metadata": {},
   "outputs": [
    {
     "data": {
      "text/plain": [
       "194"
      ]
     },
     "execution_count": 115,
     "metadata": {},
     "output_type": "execute_result"
    }
   ],
   "source": [
    "df.Data_da_Última_Inspeçăo.value_counts().sum() #TODO check inspections"
   ]
  },
  {
   "cell_type": "code",
   "execution_count": 116,
   "metadata": {},
   "outputs": [
    {
     "data": {
      "text/plain": [
       "194"
      ]
     },
     "execution_count": 116,
     "metadata": {},
     "output_type": "execute_result"
    }
   ],
   "source": [
    "df.Tipo_da_Última_Inspeçăo.value_counts().sum()"
   ]
  },
  {
   "cell_type": "code",
   "execution_count": 117,
   "metadata": {},
   "outputs": [
    {
     "data": {
      "text/plain": [
       "Regular    194\n",
       "Name: Tipo_da_Última_Inspeçăo, dtype: int64"
      ]
     },
     "execution_count": 117,
     "metadata": {},
     "output_type": "execute_result"
    }
   ],
   "source": [
    "df.Tipo_da_Última_Inspeçăo.value_counts()"
   ]
  },
  {
   "cell_type": "code",
   "execution_count": 118,
   "metadata": {},
   "outputs": [
    {
     "data": {
      "text/plain": [
       "Normal     111\n",
       "Atençăo     63\n",
       "Alerta      11\n",
       "Name: Nível_de_Perigo_Global, dtype: int64"
      ]
     },
     "execution_count": 118,
     "metadata": {},
     "output_type": "execute_result"
    }
   ],
   "source": [
    "df.Nível_de_Perigo_Global.value_counts()"
   ]
  },
  {
   "cell_type": "code",
   "execution_count": 119,
   "metadata": {},
   "outputs": [
    {
     "data": {
      "text/plain": [
       "Năo    18698\n",
       "Sim      753\n",
       "Name: Possui_Eclusa, dtype: int64"
      ]
     },
     "execution_count": 119,
     "metadata": {},
     "output_type": "execute_result"
    }
   ],
   "source": [
    "df.Possui_Eclusa.value_counts() #TODO discover the meaning"
   ]
  },
  {
   "cell_type": "code",
   "execution_count": 120,
   "metadata": {},
   "outputs": [
    {
     "data": {
      "text/plain": [
       "Operaçăo              1980\n",
       "Construçăo              27\n",
       "Projeto                 15\n",
       "Inativa                  6\n",
       "1ş enchimento            3\n",
       "Planejamento             3\n",
       "Descomissionamento       2\n",
       "Construçőes              1\n",
       "Name: Fase_da_Vida, dtype: int64"
      ]
     },
     "execution_count": 120,
     "metadata": {},
     "output_type": "execute_result"
    }
   ],
   "source": [
    "df.Fase_da_Vida.value_counts() # TODO clean the data. null values here"
   ]
  },
  {
   "cell_type": "code",
   "execution_count": 67,
   "metadata": {},
   "outputs": [
    {
     "data": {
      "text/plain": [
       "Index(['Código_SNISB', 'Nome_da_Barragem', 'Nome_Secundário', 'Uso_Principal',\n",
       "       'UF', 'Município', 'Categoria_de_Risco', 'Dano_Potencial_Associado',\n",
       "       'Nome_do_Empreendedor', 'Órgăo_Fiscalizador',\n",
       "       'Código_Barragem_Fiscalizador', 'Regulada_pela_PNSB',\n",
       "       'Número_da_Autorizaçăo', 'Possui_PAE', 'Possui_Plano_de_Segurança',\n",
       "       'Possui_Revisăo_Periódica', 'Data_da_Última_Fiscalizaçăo',\n",
       "       'Barragem_Autuada', 'Altura_Fundaçăo_m', 'Altura_Terreno_m',\n",
       "       'Capacidade_hmł', 'Tipo_de_Material', 'Uso_Complementar',\n",
       "       'Classe_de_Resíduo', 'Curso_Dágua_Barrado', 'Regiăo_Hidrográfica',\n",
       "       'Unidade_de_Gestăo', 'Domínio_do_Curso_Dágua',\n",
       "       'Data_da_Última_Inspeçăo', 'Tipo_da_Última_Inspeçăo',\n",
       "       'Nível_de_Perigo_Global', 'Possui_Eclusa', 'Fase_da_Vida', 'Latitude',\n",
       "       'Longitude'],\n",
       "      dtype='object')"
      ]
     },
     "execution_count": 67,
     "metadata": {},
     "output_type": "execute_result"
    }
   ],
   "source": [
    "df.columns"
   ]
  },
  {
   "cell_type": "code",
   "execution_count": 129,
   "metadata": {},
   "outputs": [
    {
     "data": {
      "text/plain": [
       "Código_SNISB                        0\n",
       "Nome_da_Barragem                    0\n",
       "Nome_Secundário                 17501\n",
       "Uso_Principal                       0\n",
       "UF                                 37\n",
       "Município                          37\n",
       "Categoria_de_Risco               1225\n",
       "Dano_Potencial_Associado         1225\n",
       "Nome_do_Empreendedor            12694\n",
       "Órgăo_Fiscalizador                  0\n",
       "Código_Barragem_Fiscalizador    12640\n",
       "Regulada_pela_PNSB                  0\n",
       "Número_da_Autorizaçăo           10299\n",
       "Possui_PAE                          0\n",
       "Possui_Plano_de_Segurança           0\n",
       "Possui_Revisăo_Periódica            0\n",
       "Data_da_Última_Fiscalizaçăo     19451\n",
       "Barragem_Autuada                    0\n",
       "Altura_Fundaçăo_m               12933\n",
       "Altura_Terreno_m                12445\n",
       "Capacidade_hmł                   2168\n",
       "Tipo_de_Material                   26\n",
       "Uso_Complementar                17324\n",
       "Classe_de_Resíduo               17803\n",
       "Curso_Dágua_Barrado                55\n",
       "Regiăo_Hidrográfica                46\n",
       "Unidade_de_Gestăo                2445\n",
       "Domínio_do_Curso_Dágua              0\n",
       "Data_da_Última_Inspeçăo         19257\n",
       "Tipo_da_Última_Inspeçăo         19257\n",
       "Nível_de_Perigo_Global          19266\n",
       "Possui_Eclusa                       0\n",
       "Fase_da_Vida                    17414\n",
       "Latitude                            0\n",
       "Longitude                           0\n",
       "dtype: int64"
      ]
     },
     "execution_count": 129,
     "metadata": {},
     "output_type": "execute_result"
    }
   ],
   "source": [
    "df.isnull().sum()"
   ]
  }
 ],
 "metadata": {
  "kernelspec": {
   "display_name": "Python 3",
   "language": "python",
   "name": "python3"
  },
  "language_info": {
   "codemirror_mode": {
    "name": "ipython",
    "version": 3
   },
   "file_extension": ".py",
   "mimetype": "text/x-python",
   "name": "python",
   "nbconvert_exporter": "python",
   "pygments_lexer": "ipython3",
   "version": "3.7.4"
  }
 },
 "nbformat": 4,
 "nbformat_minor": 2
}
